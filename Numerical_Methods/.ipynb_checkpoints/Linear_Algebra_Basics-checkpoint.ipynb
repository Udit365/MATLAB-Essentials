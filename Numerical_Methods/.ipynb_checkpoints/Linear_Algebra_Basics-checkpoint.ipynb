{
 "cells": [
  {
   "cell_type": "markdown",
   "metadata": {},
   "source": [
    "# Basics of Linear Algebra"
   ]
  },
  {
   "cell_type": "markdown",
   "metadata": {},
   "source": [
    "Let say, we have the following set of linear equations -:\n",
    "\n",
    "$a_{11}x_1 + a_{12}x_2 + a_{13}x_3 = b_1$\n",
    "\n",
    "$a_{21}x_1 + a_{22}x_2 + a_{23}x_3 = b_2$\n",
    "\n",
    "$a_{31}x_1 + a_{32}x_2 + a_{33}x_3 = b_2$\n",
    "\n",
    "then, we can find the solution for $(x_1,x_2,x_3))$ easily by using matrix method.\n",
    "\n",
    "## Matrix Method for Solution of Linear Equations\n",
    "---\n",
    "\n",
    "The given equation can be written in matrix format, as follows -:\n",
    "\n",
    "$A = \\begin{bmatrix} a_{11}&a_{12}&a_{13} \\\\a_{21}&a_{22}&a_{23}\\\\ a_{31}&a_{32}&a_{33}\\end{bmatrix}$\n",
    "\n",
    "$X = \\begin{bmatrix} x_1\\\\x_2\\\\ x_3\\end{bmatrix}$\n",
    "\n",
    "$B = \\begin{bmatrix} b_1\\\\b_2\\\\ b_3\\end{bmatrix}$\n",
    "\n",
    "hence, the equation can be re-written as :\n",
    "\n",
    "$AX = B$\n",
    "\n",
    "and thus, the solution would be -:\n",
    "\n",
    "$X = A^{-1}B$\n",
    "\n",
    "\n",
    "### Solution Types for Linear Equations \n",
    "---\n",
    "\n",
    "A set of linear equation can have 3 types of solutions as follows -:\n",
    "\n",
    "- Unique solution\n",
    "- Zero solution / No solution\n",
    "- Infinite solution\n",
    "\n",
    "##### Condition for getting unique solution :\n",
    "\n",
    "If matrix `A` is a full-rank matrix ,i.e., the rank of a matrix is equal to the number of columns present in the matrix then, the linear equations have a unique solution.\n",
    "\n",
    "##### Condition for getting zero solution :\n",
    "\n",
    "If\n",
    "\n",
    "$rank(A) \\neq columns(A)$ and $rank(A) \\neq rank(A,B)$\n",
    "\n",
    "then, the equation have zero solution / no solution.\n",
    "\n",
    "##### Condition for getting infinite solution :\n",
    "\n",
    "If\n",
    "\n",
    "$rank(A) \\neq columns(A)$ and $rank(A) = rank(A,B)$\n",
    "\n",
    "then, the equation have infinite solution."
   ]
  },
  {
   "cell_type": "markdown",
   "metadata": {},
   "source": [
    "#### Linear Equations With Unique Solution\n",
    "---\n",
    "Let's take two linear equation as follows -:\n",
    "\n",
    "$x_1 + 2x_2 = 1$ and\n",
    "\n",
    "$x_1 - x_2 = 4$\n",
    "\n",
    "Let's see if the above set of linear equations has a unique solution or, not"
   ]
  },
  {
   "cell_type": "code",
   "execution_count": 6,
   "metadata": {},
   "outputs": [
    {
     "name": "stdout",
     "output_type": "stream",
     "text": [
      "The equations have a unique solution\n",
      "\n",
      " The value of x1 is 3\n",
      " The value of x2 is -1\n"
     ]
    }
   ],
   "source": [
    "# Initialize the matrices :\n",
    "\n",
    "A = [1,2 ; 1,-1];\n",
    "B = [1;4];\n",
    "\n",
    "# Find the number of columns in matrix \"A\"\n",
    "columnsA = size(A,2);\n",
    "\n",
    "# Find the rank of matrix \"A\"\n",
    "rankA = rank(A);\n",
    "\n",
    "# Find the combined rank of matrix \"A\" and \"B\"\n",
    "combinedRank = rank([A,B]);\n",
    "\n",
    "#Let's check \"A\" for full-rank\n",
    "\n",
    "if (columnsA == rankA)\n",
    "  fprintf(\"The equations have a unique solution\\n\");\n",
    "else\n",
    "  fprintf(\"The equations don't have a unique solution\\n\");\n",
    "end\n",
    "\n",
    "if (columnsA == rankA)\n",
    "  #To get the solution of the linear equation :\n",
    "\n",
    "  x = inv(A) * B;\n",
    "\n",
    "  %Printing the results\n",
    "\n",
    "  fprintf(\"\\n The value of x1 is %i\\n\",x(1));\n",
    "  fprintf(\" The value of x2 is %i\\n\",x(2));\n",
    "else \n",
    "  if (rankA == combinedRank)\n",
    "    fprintf(\"The equations have infinite solutions\\n\");\n",
    "  else\n",
    "    fprintf(\"The equations have zero solution\\n\");\n",
    "  end\n",
    "end"
   ]
  },
  {
   "cell_type": "markdown",
   "metadata": {},
   "source": [
    "However, MATLAB has a more efficient way of solving linear equation by using the `\\` operator as follows :"
   ]
  },
  {
   "cell_type": "code",
   "execution_count": 7,
   "metadata": {},
   "outputs": [
    {
     "name": "stdout",
     "output_type": "stream",
     "text": [
      "\n",
      " The value of x1 is 3\n",
      " The value of x2 is -1\n"
     ]
    }
   ],
   "source": [
    "x = A\\B;\n",
    "\n",
    "%Printing the results\n",
    "\n",
    "fprintf(\"\\n The value of x1 is %i\\n\",x(1));\n",
    "fprintf(\" The value of x2 is %i\\n\",x(2));"
   ]
  },
  {
   "cell_type": "markdown",
   "metadata": {},
   "source": [
    "To know more about `\\` operator, we can pass the command : `help slash` in the command window."
   ]
  },
  {
   "cell_type": "markdown",
   "metadata": {},
   "source": [
    "#### Linear Equations With Zero Solution\n",
    "---\n",
    "\n",
    "Let's take two linear equation as follows -:\n",
    "\n",
    "$x_1 + 2x_2 = 1$ and\n",
    "\n",
    "$2x_1 - 4x_2 = 4$\n",
    "\n",
    "Let's see if the above set of linear equations has a unique solution or, not"
   ]
  },
  {
   "cell_type": "code",
   "execution_count": 8,
   "metadata": {},
   "outputs": [
    {
     "name": "stdout",
     "output_type": "stream",
     "text": [
      "The equations don't have a unique solution\n",
      "The equations have zero solution\n"
     ]
    }
   ],
   "source": [
    "# Initialize the matrices :\n",
    "\n",
    "A = [1,2 ; 2,4];\n",
    "B = [1;4];\n",
    "\n",
    "# Find the number of columns in matrix \"A\"\n",
    "columnsA = size(A,2);\n",
    "\n",
    "# Find the rank of matrix \"A\"\n",
    "rankA = rank(A);\n",
    "\n",
    "# Find the combined rank of matrix \"A\" and \"B\"\n",
    "combinedRank = rank([A,B]);\n",
    "\n",
    "#Let's check \"A\" for full-rank\n",
    "\n",
    "if (columnsA == rankA)\n",
    "  fprintf(\"The equations have a unique solution\\n\");\n",
    "else\n",
    "  fprintf(\"The equations don't have a unique solution\\n\");\n",
    "end\n",
    "\n",
    "if (columnsA == rankA)\n",
    "  #To get the solution of the linear equation :\n",
    "\n",
    "  x = inv(A) * B;\n",
    "\n",
    "  %Printing the results\n",
    "\n",
    "  fprintf(\"\\n The value of x1 is %i\\n\",x(1));\n",
    "  fprintf(\" The value of x2 is %i\\n\",x(2));\n",
    "else \n",
    "  if (rankA == combinedRank)\n",
    "    fprintf(\"The equations have infinite solutions\\n\");\n",
    "  else\n",
    "    fprintf(\"The equations have zero solution\\n\");\n",
    "  end\n",
    "end"
   ]
  },
  {
   "cell_type": "markdown",
   "metadata": {},
   "source": [
    "#### Linear Equations With Infinite Solution\n",
    "---\n",
    "\n",
    "Let's take two linear equation as follows -:\n",
    "\n",
    "$x_1 + 2x_2 = 1$ and\n",
    "\n",
    "$2x_1 - 4x_2 = 2$\n",
    "\n",
    "Let's see if the above set of linear equations has a unique solution or, not"
   ]
  },
  {
   "cell_type": "code",
   "execution_count": 9,
   "metadata": {},
   "outputs": [
    {
     "name": "stdout",
     "output_type": "stream",
     "text": [
      "The equations don't have a unique solution\n",
      "The equations have infinite solutions\n"
     ]
    }
   ],
   "source": [
    "# Initialize the matrices :\n",
    "\n",
    "A = [1,2 ; 2,4];\n",
    "B = [1;2];\n",
    "\n",
    "# Find the number of columns in matrix \"A\"\n",
    "columnsA = size(A,2);\n",
    "\n",
    "# Find the rank of matrix \"A\"\n",
    "rankA = rank(A);\n",
    "\n",
    "# Find the combined rank of matrix \"A\" and \"B\"\n",
    "combinedRank = rank([A,B]);\n",
    "\n",
    "#Let's check \"A\" for full-rank\n",
    "\n",
    "if (columnsA == rankA)\n",
    "  fprintf(\"The equations have a unique solution\\n\");\n",
    "else\n",
    "  fprintf(\"The equations don't have a unique solution\\n\");\n",
    "end\n",
    "\n",
    "if (columnsA == rankA)\n",
    "  #To get the solution of the linear equation :\n",
    "\n",
    "  x = inv(A) * B;\n",
    "\n",
    "  %Printing the results\n",
    "\n",
    "  fprintf(\"\\n The value of x1 is %i\\n\",x(1));\n",
    "  fprintf(\" The value of x2 is %i\\n\",x(2));\n",
    "else \n",
    "  if (rankA == combinedRank)\n",
    "    fprintf(\"The equations have infinite solutions\\n\");\n",
    "  else\n",
    "    fprintf(\"The equations have zero solution\\n\");\n",
    "  end\n",
    "end"
   ]
  },
  {
   "cell_type": "markdown",
   "metadata": {},
   "source": [
    "### Naive Gauss Elimination Method\n",
    "\n",
    "The **Naive Gauss-Elimination Method** is one of the powerfull method to find the solution of the linear equations.\n",
    "\n",
    "The algorithm of this method is as follows -:\n",
    "\n",
    "- Create a matrix $A^{aug} = [A | B]$\n",
    "- In each step\n",
    "    - $A^{aug}(i,i)$ is the pivot element\n",
    "    - Use the pivot element to create zeros in the pivot column of $A^{aug}$ matrix.\n",
    "    - $R_j = R_j-\\alpha_{i,j}R_i$ where, $\\alpha_{i,j} = \\frac{A^{aug}(j,i)}{A^{aug}(i,i)}$ and $R_j$ refers to the rows of matrix $A^{aug}$.\n",
    "- Perform back-substitution\n",
    "\n",
    "#### Back-Substitution\n",
    "\n",
    "To find the solution of $(3 \\times 3)$ matrix :\n",
    "\n",
    "$x_3 = \\frac{B(3)}{A(3,3)}$\n",
    "\n",
    "$x_2 = \\frac{B(2) - A(2,3)x_3}{A(2,2)}$\n",
    "\n",
    "$x_1 = \\frac{B(1) - A(1,3)x_3 + A(1,2)x_2}{A(1,1)}$\n",
    "\n",
    "where, the matrix $A$ and $B$ are taken from the matrix $A^{aug}$"
   ]
  },
  {
   "cell_type": "code",
   "execution_count": null,
   "metadata": {},
   "outputs": [],
   "source": []
  }
 ],
 "metadata": {
  "kernelspec": {
   "display_name": "Octave",
   "language": "octave",
   "name": "octave"
  },
  "language_info": {
   "file_extension": ".m",
   "help_links": [
    {
     "text": "GNU Octave",
     "url": "https://www.gnu.org/software/octave/support.html"
    },
    {
     "text": "Octave Kernel",
     "url": "https://github.com/Calysto/octave_kernel"
    },
    {
     "text": "MetaKernel Magics",
     "url": "https://metakernel.readthedocs.io/en/latest/source/README.html"
    }
   ],
   "mimetype": "text/x-octave",
   "name": "octave",
   "version": "5.2.0"
  }
 },
 "nbformat": 4,
 "nbformat_minor": 4
}
