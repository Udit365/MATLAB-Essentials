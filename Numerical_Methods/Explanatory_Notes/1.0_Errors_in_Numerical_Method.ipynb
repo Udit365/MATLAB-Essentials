{
 "cells": [
  {
   "cell_type": "markdown",
   "metadata": {},
   "source": [
    "# ERRORS IN NUMERICAL METHODS\n",
    "\n",
    "Error is defined as the difference between the true value and the approximate value.\n",
    "\n",
    "```\n",
    "Error = True Value - Approximate Value\n",
    "```\n",
    "\n",
    "***For example :***\n",
    "\n",
    "If <br>\n",
    "`T = 2.3758932` <br>\n",
    "and we approximate `T` as :<br>\n",
    "`A = 2.3758`\n",
    "\n",
    "Then, Error (E) is \n",
    "\n",
    "```\n",
    "E = T - A\n",
    "E = 2.3758932 - 2.3758\n",
    "E = 0.0000932\n",
    "```"
   ]
  },
  {
   "cell_type": "markdown",
   "metadata": {},
   "source": [
    "## Types of Error\n",
    "\n",
    "There are 3 types of error :\n",
    "\n",
    "##### 1. Absolute Error ($\\epsilon$)\n",
    "The absolute error is defined as follows :\n",
    "\n",
    "$\\epsilon = |T-A|$\n",
    "\n",
    "##### 2. Relative Error ($\\epsilon_r$)\n",
    "\n",
    "The relative error is defined as follows :\n",
    "\n",
    "$\\epsilon_r = \\frac{T-A}{T}$\n",
    "\n",
    "##### 3. Relative Percentage Error ($\\epsilon_p$)\n",
    "\n",
    "The relative error is defined as follows :\n",
    "\n",
    "$\\epsilon_p = \\frac{T-A}{T} \\times 100\\% $"
   ]
  },
  {
   "cell_type": "markdown",
   "metadata": {},
   "source": [
    "## Cause of Error\n",
    "---\n",
    "There are mainly two causes that arises error, they are :\n",
    "\n",
    "1. Error due to rounding-off\n",
    "2. Error due to chopping\n",
    "\n",
    "### Error due to Rounding-off\n",
    "---\n",
    "\n",
    "Error arises due to rounding-off a number is called round-off error.\n",
    "\n",
    "***For example :***\n",
    "\n",
    "If <br>\n",
    "`T = 0.52768`<br> \n",
    "and by rounding-off upto 3 significant places after the decimal point, we approximate `T` as :<br>\n",
    "`A = 0.528`\n",
    "\n",
    "Then, Absolute round-off error (E) is : \n",
    "\n",
    "```\n",
    "E = |T - A|\n",
    "E = |0.52768 - 0.528|\n",
    "E = |-0.00032|\n",
    "E = 0.00032\n",
    "```\n",
    "\n",
    "### Error due to Chopping\n",
    "---\n",
    "\n",
    "Error arises due to direct chopping-off a number to some significant decimal places is called chopping error.\n",
    "\n",
    "***For example :***\n",
    "\n",
    "If<br> \n",
    "`T = 0.52768`<br> \n",
    "and by chopping upto 3 significant places after the decimal point, we approximate `T` as :<br>\n",
    "`A = 0.527`\n",
    "\n",
    "Then, Absolute chopping error (E) is : \n",
    "```\n",
    "E = |T - A|\n",
    "E = |0.52768 - 0.527|\n",
    "E = |-0.00068|\n",
    "E = 0.00068\n",
    "```\n",
    "\n",
    "From the perspective of applied mathematics, there can be 3 types of error as well, such as :\n",
    "\n",
    "#### 1. Programming Error \n",
    "Error arises due to the computer programming is called *Programming error*.\n",
    "\n",
    "#### 2. Experimental Error\n",
    "Error that arises due to the measurement of data is called as *experimental error*.\n",
    "\n",
    "#### 3. Truncation Error\n",
    "Error that arises due to approximation of an infinite series by its first few terms is called *truncation error*.Truncation error lowers as we take more and more terms of the infinite series into account.\n",
    "\n",
    "Let's see the example in MATLAB/OCTAVE :\n",
    "\n",
    "***Example-1 :***\n",
    "\n",
    "Let's take the Maclauren series :\n",
    "\n",
    "$e^a = 1 + a + \\frac{a^2}{2!} + \\frac{a^3}{3!} +....+\\frac{a^n}{n!} $\n",
    "\n",
    "and see how the error decreases with increase in the number of terms (n-value)"
   ]
  },
  {
   "cell_type": "code",
   "execution_count": 4,
   "metadata": {},
   "outputs": [
    {
     "name": "stdout",
     "output_type": "stream",
     "text": [
      "E =\n",
      "\n",
      " Columns 1 through 4:\n",
      "\n",
      "   0.0051709180756   0.0001709180756   0.0000042514090   0.0000000847423\n",
      "\n",
      " Column 5:\n",
      "\n",
      "   0.0000000014090\n",
      "\n"
     ]
    },
    {
     "data": {
      "image/png": "[encoded data removed]",
      "text/plain": [
       "<IPython.core.display.Image object>"
      ]
     },
     "metadata": {},
     "output_type": "display_data"
    }
   ],
   "source": [
    "% Maclauren Series %\n",
    "%==================%\n",
    "\n",
    "% Number of terms:\n",
    "\n",
    "n = [1:5];\n",
    "\n",
    "% Initializing 'a':\n",
    "\n",
    "a = 0.1;\n",
    "\n",
    "% Calculating true value:\n",
    "\n",
    "T = exp(a);\n",
    "\n",
    "% Initializing an array to store the approximate values with varying values of 'n' :\n",
    "\n",
    "A = ones(1,5);\n",
    "\n",
    "% Approximate values :\n",
    "\n",
    "A = A + cumsum(a.^n ./ factorial(n));\n",
    "\n",
    "% Absolute error :\n",
    "\n",
    "E = abs(T-A)\n",
    "\n",
    "% Plotting the error curver :\n",
    "%----------------------------\n",
    "\n",
    "% Plotting with real values\n",
    "\n",
    "subplot(1,2,1);\n",
    "plot(n,E,\"-r\");\n",
    "title(\"Plotting with Real Values\");\n",
    "xlabel(\"No. of Terms\");\n",
    "ylabel(\"Error Value\");\n",
    "\n",
    "% Plotting as loglog plot\n",
    "\n",
    "subplot(1,2,2);\n",
    "loglog(n,E,\"-r\");\n",
    "title(\"Plotting with Logarithmic Values\");\n",
    "xlabel(\"No. of Terms\");\n",
    "ylabel(\"Error Value\");"
   ]
  },
  {
   "cell_type": "markdown",
   "metadata": {},
   "source": [
    ">***Notes :***\n",
    "    - More terms (n) leads to lower error.\n",
    "    - Smaller 'a' leads to low error.\n",
    "    - Slope gives the order of accuracy."
   ]
  },
  {
   "cell_type": "markdown",
   "metadata": {},
   "source": [
    "## Machine Precision\n",
    "---\n",
    "We can think of the machine precession as the least count of any measurement system.\n",
    "\n",
    "***For example :***\n",
    "\n",
    "The least count of ruler is $0.1 mm$ and if we want to measure something whose thickness/length is less that $0.1 mm$ then, we have to use another measurement system called a \"*Vernier Caliper*\", that has a least count of $0.01 mm$.\n",
    "\n",
    "Just like these measuring instruments, real numbers also have a \"*least count*\" and therefore the \"*Machine Precision*\" depends upon the number of bytes to store a real number.\n",
    "\n",
    "### Floating Point Representation \n",
    "---\n",
    "The floating point representation of a number is as follows :\n",
    "\n",
    "$23.217$ is represented as $0.232217 \\times 10^2$ and<br>\n",
    "$23.218$ is represented as $0.232218 \\times 10^2$\n",
    "\n",
    "but, if the machine can store upto 5 digits after the decimal point and then, we have a number like $23.217$ then, it can be represented as $0.232217 \\times 10^2$\n",
    "\n",
    "Therefore, now the $23.217$ and $23.2172$ has the same floating point representation, although the two values are not exactly equal to each other.\n",
    "\n",
    "So, we can say that the *least count* of this decimal machine is $~ 0.00001|x|$ or, $10^{-5}$"
   ]
  },
  {
   "cell_type": "markdown",
   "metadata": {},
   "source": [
    "## Effect of Round-off errors\n",
    "---\n",
    "From derivatives definition :\n",
    "\n",
    "$$f'(x) = \\lim_{h \\to 0} \\frac{f(x+h) - f(x)}{h} \\implies  f'(x) \\approx \\frac{f(x+h) - f(x)}{h}   $$\n",
    "\n",
    "From the above equation, it is evident that smaller $h$ values, i.e., $h$ value much closer to $0$ is likely to minimize the error.\n",
    "\n",
    "From Taylor's series :\n",
    "\n",
    "$$ f'(x+h) = f(x)+ hf'(x) + \\frac{h^2}{2} f''(x)+.... \\implies  f'(x) \\approx \\frac{f(x+h) - f(x)}{h}$$\n",
    "\n",
    "Therefore, we can use the Taylor's series expansion to find derivatives and thereby, validating the round-off errors.\n",
    "\n",
    "***Example-1 :***\n",
    "\n",
    "We know that : $\\frac{d}{dx} tan^{-1}(x) = \\frac{1}{1+x^2}$\n",
    "\n",
    "Now, let's find out the error between the derivative of $tan^{-1}(x)$ found as per the above formula with that of found using the Taylor's series with decreasing value of $h$\n",
    "\n",
    "In MATLAB/OCTAVE, the code will be as follows :"
   ]
  },
  {
   "cell_type": "code",
   "execution_count": 8,
   "metadata": {},
   "outputs": [
    {
     "data": {
      "image/png": "[encoded data removed]",
      "text/plain": [
       "<IPython.core.display.Image object>"
      ]
     },
     "metadata": {},
     "output_type": "display_data"
    }
   ],
   "source": [
    "% Taylor's Series %\n",
    "%==================%\n",
    "\n",
    "% Initializing 'x':\n",
    "\n",
    "x = 1;\n",
    "\n",
    "% Calculating true value:\n",
    "\n",
    "T = 1/(1 + x^2);\n",
    "\n",
    "% Getting approximate values & errors associated (with Taylor's series) by decreasing step size (h) with loop :\n",
    "\n",
    "for i = 1:7\n",
    "    h = 10^(-i);\n",
    "    A = ( atan(x+h)-atan(x) ) / h;\n",
    "    \n",
    "    E = abs(T-A);\n",
    "    \n",
    "    % Storing h-values and respective error associated in an array for plotting :\n",
    "    \n",
    "    hval(i) = h;\n",
    "    errval(i) = E;\n",
    "end\n",
    "\n",
    "% Plotting the error curver :\n",
    "%----------------------------\n",
    "\n",
    "% Plotting with real values\n",
    "\n",
    "subplot(1,2,1);\n",
    "plot(hval, errval, \"-r\");\n",
    "title(\"Plotting with Real Values\");\n",
    "xlabel(\"Step Size\");\n",
    "ylabel(\"Error Value\");\n",
    "\n",
    "% Plotting with log scale\n",
    "\n",
    "subplot(1,2,2);\n",
    "loglog(hval, errval,\"-r\");\n",
    "title(\"Plotting with Logarithmic Values\");\n",
    "xlabel(\"Step Size\");\n",
    "ylabel(\"Error Value\");"
   ]
  },
  {
   "cell_type": "markdown",
   "metadata": {},
   "source": [
    "By running the above code, we can see that our error decreases as we decrease the value of $h$.\n",
    "\n",
    "> **_Notes :_**\n",
    "   - The error term is a function of $h$, i.e. $E=f(h)$ and thats why in the loglog plot, we got a straight line with $slope = 1$.\n",
    "   - The straight line slope is going to be same as the order of accuracy of the numerical scheme.\n",
    "\n",
    "But, let's plot the same graph by further decreasing the $h$ value , let's say upto the order of $10^{-20}$"
   ]
  },
  {
   "cell_type": "code",
   "execution_count": 9,
   "metadata": {},
   "outputs": [
    {
     "data": {
      "image/png": "[encoded data removed]",
      "text/plain": [
       "<IPython.core.display.Image object>"
      ]
     },
     "metadata": {},
     "output_type": "display_data"
    }
   ],
   "source": [
    "% Analyzing MATLAB/OCTAVE Machine Precesion with Taylor's Series %\n",
    "%================================================================%\n",
    "\n",
    "% Initializing 'x':\n",
    "\n",
    "x = 1;\n",
    "\n",
    "% Calculating true value:\n",
    "\n",
    "T = 1/(1 + x^2);\n",
    "\n",
    "% Getting approximate values & errors associated (with Taylor's series) by decreasing step size (h) with loop :\n",
    "\n",
    "for i = 1:20\n",
    "    h = 10^(-i);\n",
    "    A = ( atan(x+h)-atan(x) ) / h;\n",
    "    \n",
    "    E = abs(T-A);\n",
    "    \n",
    "    % Storing h-values and respective error associated in an array for plotting :\n",
    "    \n",
    "    hvals(i) = h;\n",
    "    errvals(i) = E;\n",
    "end\n",
    "\n",
    "% Plotting the error curver with logarithmic Scale : %\n",
    "%----------------------------------------------------%\n",
    "\n",
    "loglog(hvals, errvals,\"-k\");\n",
    "title(\"Plotting with Logarithmic Values\");\n",
    "xlabel(\"Step Size\");\n",
    "ylabel(\"Error Value\");"
   ]
  },
  {
   "cell_type": "markdown",
   "metadata": {},
   "source": [
    "Now, we can see that the error decreases with $h$ but, up to a certain value and after that it starts increasing again (from $h \\approx 10^{-8}$.\n",
    "\n",
    "This is because of the _machine precision_ of MATLAB, which is $2.2204e^{-16}$.\n",
    "\n",
    "So, when the $h$ value crosses that _machine precision_, we get ambiguous results because of round-off errors.\n",
    "\n",
    ">***Notes :***\n",
    " - Truncation error decreases with $h$, however, machine precession can determine how small our $h$ should be.\n",
    " - Round-off error increases with $h$."
   ]
  }
 ],
 "metadata": {
  "kernelspec": {
   "display_name": "Octave",
   "language": "octave",
   "name": "octave"
  },
  "language_info": {
   "file_extension": ".m",
   "help_links": [
    {
     "text": "GNU Octave",
     "url": "https://www.gnu.org/software/octave/support.html"
    },
    {
     "text": "Octave Kernel",
     "url": "https://github.com/Calysto/octave_kernel"
    },
    {
     "text": "MetaKernel Magics",
     "url": "https://metakernel.readthedocs.io/en/latest/source/README.html"
    }
   ],
   "mimetype": "text/x-octave",
   "name": "octave",
   "version": "5.2.0"
  }
 },
 "nbformat": 4,
 "nbformat_minor": 4
}
