{
 "cells": [
  {
   "cell_type": "markdown",
   "metadata": {},
   "source": [
    "# Numerical Differentiation\n",
    "\n",
    "There are three methods to find the derivative of a function :\n",
    "\n",
    "1. Forward Difference Formula\n",
    "2. Backward Difference Formula\n",
    "3. Central Difference Formula\n",
    "\n",
    "## Forward Difference Formula\n",
    "\n",
    "From the definition of forward difference formula for finding $f'(x)$ :\n",
    "\n",
    "$$f'(x) = \\lim_{h \\to 0} \\frac{f(x+h) - f(x)}{h} \\implies  f'(x) \\approx \\frac{f(x+h) - f(x)}{h}; Accuracy = \\mathcal{O}(h^1)$$\n",
    "\n",
    "## Backward Difference Formula\n",
    "\n",
    "From the definition of backward difference formula for finding $f'(x)$ :\n",
    "\n",
    "$$f'(x) = \\frac{f(x) - f(x-h)}{h}; Accuracy = \\mathcal{O}(h^1)$$\n",
    "\n",
    "\n",
    "## Central Difference Formula\n",
    "\n",
    "From the definition of backward difference formula for finding $f'(x)$ :\n",
    "\n",
    "$$f'(x) = \\frac{f(x+h) - f(x-h)}{2h}; Accuracy = \\mathcal{O}(h^2)$$\n",
    "\n",
    "\n",
    "As the order of accuracy of central difference formula is of $\\mathcal{O}(h^2)$ and that of forward and backward difference formula is of $\\mathcal{O}(h^1)$ therefore, every time we decrease the step-size ($h$) by a factor of $10$, the error decrease by a factor of $10$ for forward and backward difference formula and that of a factor of $100$ with central difference formula.\n",
    "\n",
    "***Example-1 :***\n",
    "\n",
    "Find the error in finding the derivative of $tan^{-1}(x)$ using forward, backward and central difference formula, when the step size is $10^{-4}$.\n",
    "\n",
    "The True value of the derivative can be found out with the below formula :\n",
    "$f'(tan^{-1}x) = \\frac{1}{1+x^2}$\n",
    "\n",
    "***Solution :***"
   ]
  },
  {
   "cell_type": "code",
   "execution_count": 8,
   "metadata": {},
   "outputs": [
    {
     "name": "stdout",
     "output_type": "stream",
     "text": [
      "The error associated with forward difference formula is: 0.000025 \n",
      "The error associated with backward difference formula is: 0.000025 \n",
      "The error associated with central difference formula is: 0.000000 \n"
     ]
    }
   ],
   "source": [
    "% Error Associated with Finding Derivative %\n",
    "% ======================================== %\n",
    "\n",
    "% Initializing 'x'\n",
    "\n",
    "x = 1;\n",
    "\n",
    "% Initializing step size \n",
    "\n",
    "h = 10^(-4);\n",
    "\n",
    "\n",
    "% True value of the derivative\n",
    "\n",
    "TrueVal = 1/(1+ (x^2));\n",
    "\n",
    "% Calculating derivative with various difference formulae %\n",
    "% ------------------------------------------------------- %\n",
    "\n",
    "ForwardDiff = (atan(x+h)-atan(x))/h;\n",
    "\n",
    "BackwardDiff = (atan(x)-atan(x-h))/h;\n",
    "\n",
    "CentralDiff = (atan(x+h)-atan(x-h))/(2*h);\n",
    "\n",
    "% Calculating error associated with various difference formulae %\n",
    "% ------------------------------------------------------------- %\n",
    "\n",
    "ForwardErr = abs(TrueVal - ForwardDiff);\n",
    "\n",
    "BackwardErr = abs(TrueVal - BackwardDiff);\n",
    "\n",
    "CentralErr = abs(TrueVal - CentralDiff);\n",
    "\n",
    "% Printing the errors %\n",
    "% ------------------- %\n",
    "\n",
    "fprintf(\"The error associated with forward difference formula is: %f \\n\", ForwardErr);\n",
    "fprintf(\"The error associated with backward difference formula is: %f \\n\", BackwardErr);\n",
    "fprintf(\"The error associated with central difference formula is: %f \\n\", CentralErr);"
   ]
  },
  {
   "cell_type": "markdown",
   "metadata": {},
   "source": [
    "The result of the above MATLAB/OCTAVE code shows how the error is significantly less in case of central difference formula."
   ]
  },
  {
   "cell_type": "markdown",
   "metadata": {},
   "source": [
    "## Higher Order Derivatives\n",
    "---\n",
    "\n",
    "The formulae for higher order derivatives with single variable using **central difference formula** is :\n",
    "\n",
    "### Second Order Derivative\n",
    "---\n",
    "\n",
    "$$f''(x) = \\frac{ f(x_{i+1})-2f(x_i)+f(x_{i-1}) }{h^2}; Accuracy = \\mathcal{O}(h^2)$$\n",
    "\n",
    "### Third Order Derivative\n",
    "---\n",
    "\n",
    "$$f'''(x) = \\frac{ f(x_{i+2})-2f(x_{i+1})+2f(x_{i-1})-f(x_{i-2}) }{h^2}; Accuracy = \\mathcal{O}(h^2)$$\n",
    "\n",
    "***Example-2 :***\n",
    "\n",
    "Find the error in finding the double derivative of $tan^{-1}(x)$ using central difference formula, when the step size is $10^{-4}$.\n",
    "\n",
    "The True value of the derivative can be found out with the below formula :\n",
    "\n",
    "$f'(tan^{-1}x) = \\frac{1}{1+x^2}$ and<br>\n",
    "$f''(tan^{-1}x) = -\\frac{2x}{(1+x^2)^2}$\n",
    "\n",
    "***Solution :***"
   ]
  },
  {
   "cell_type": "code",
   "execution_count": 11,
   "metadata": {},
   "outputs": [
    {
     "name": "stdout",
     "output_type": "stream",
     "text": [
      "The true value for the second derivative of inverse tanx : -1.000000\n",
      "The calculated value for the second order derivative of tanx : -0.500000\n",
      "The error associated is : 0.5\n"
     ]
    }
   ],
   "source": [
    "% Error Associated with Finding Second Order Derivative %\n",
    "% ===================================================== %\n",
    "\n",
    "% Initializing 'x'\n",
    "\n",
    "x = 1;\n",
    "\n",
    "% Initializing step size \n",
    "\n",
    "h = 10^(-4);\n",
    "\n",
    "\n",
    "% True value of the derivative\n",
    "\n",
    "Trueval =  (-2*x) / (1+ ( (x^2)^2) );\n",
    "\n",
    "\n",
    "% Calculating derivative and error with central difference formula %\n",
    "% ---------------------------------------------------------------- %\n",
    "\n",
    "numDiff = (atan(x+h) - 2*atan(x)+ atan(x-h))/(h^2);\n",
    "Err = abs(Trueval-numDiff);\n",
    "\n",
    "% Printing the results %\n",
    "% -------------------- %\n",
    "\n",
    "fprintf('The true value for the second derivative of inverse tanx : %f\\n',Trueval);\n",
    "fprintf('The calculated value for the second order derivative of tanx : %f\\n',numDiff);\n",
    "fprintf('The error associated is : %d\\n',Err);"
   ]
  },
  {
   "cell_type": "markdown",
   "metadata": {},
   "source": [
    "### Partial Derivatives\n",
    "---\n",
    "\n",
    "Consider the following equation :\n",
    "\n",
    "$$f(x) = sin(x_1)e^{-x_2}; x = \\begin{bmatrix} x_1\\\\x_2\\end{bmatrix}$$\n",
    "\n",
    "since, $f(x)$ is a function of two variables, we have to find the partial derivatives as follows :\n",
    "\n",
    "$$\\frac{\\partial f}{\\partial x_1} = cos(x_1)e^{-x_2}$$\n",
    "$$\\frac{\\partial f}{\\partial x_2} = -sin(x_1)e^{-x_2}$$\n",
    "\n",
    "Partial derivative can be represented as the gradient of a scalar,i.e :\n",
    "\n",
    "$$\\nabla f(x) = \\begin{bmatrix} \\frac{\\partial f}{\\partial x_1} &  \\frac{\\partial f}{\\partial x_2} \\end{bmatrix} =  \\begin{bmatrix} cos(x_1)e^{-x_2} &  -sin(x_1)e^{-x_2} \\end{bmatrix}$$\n",
    "\n",
    "Let's perform this partial differentiation is MATLAB/OCTAVE :"
   ]
  }
 ],
 "metadata": {
  "kernelspec": {
   "display_name": "Octave",
   "language": "octave",
   "name": "octave"
  },
  "language_info": {
   "file_extension": ".m",
   "help_links": [
    {
     "text": "GNU Octave",
     "url": "https://www.gnu.org/software/octave/support.html"
    },
    {
     "text": "Octave Kernel",
     "url": "https://github.com/Calysto/octave_kernel"
    },
    {
     "text": "MetaKernel Magics",
     "url": "https://metakernel.readthedocs.io/en/latest/source/README.html"
    }
   ],
   "mimetype": "text/x-octave",
   "name": "octave",
   "version": "5.2.0"
  }
 },
 "nbformat": 4,
 "nbformat_minor": 4
}
