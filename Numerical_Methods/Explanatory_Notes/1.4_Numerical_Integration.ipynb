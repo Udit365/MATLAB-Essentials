{
 "cells": [
  {
   "cell_type": "markdown",
   "metadata": {},
   "source": [
    "# Numerical Integration\n",
    "\n",
    "Numerical integration is nothing but a way to find out the area under a curve.\n",
    "\n",
    "The formulae used to calculate the area under the curve is collectively known as \"***Newton cotes formulae***\".\n",
    "\n",
    "However, there are two ways to apply the formulae ,i.e.,\n",
    "\n",
    "- Single-Step\n",
    "- Multi-Step"
   ]
  },
  {
   "cell_type": "markdown",
   "metadata": {},
   "source": [
    "## Single Application of Newton Cotes Formulae :\n",
    "\n",
    "Formulae to find out the area under the curve is :\n",
    "\n",
    "### 1. Trapezoidal Rule\n",
    "\n",
    "The formula for this rule is :\n",
    "\n",
    "$$\\int_{a}^{a+h} f(x) dx = \\frac{h}{2}(f(a)+f(a+h));\\hspace{0.3cm} (h = b-a) $$\n",
    "\n",
    "The LTE is : $\\mathcal O(h^3)$\n",
    "\n",
    "### 2. Simpson's One-third Rule\n",
    "\n",
    "The formula for Simpson's one-third rule is :\n",
    "\n",
    "$$\\int_{a}^{a+2h} f(x) dx = \\frac{h}{3}(f(a)+4f(a+h)+f(a+2h));\\hspace{0.3cm} (h = \\frac{b-a}{2}) $$\n",
    "\n",
    "The LTE is : $\\mathcal O(h^5)$\n",
    "\n",
    "### 3. Simpson's Three-eight Rule\n",
    "\n",
    "The formula for the Simpson's three-eight rule is :\n",
    "\n",
    "$$\\int_{a}^{a+3h} f(x) dx = \\frac{3h}{8}(f(a)+3f(a+h)+3f(a+2h)+f(a+3h));\\hspace{0.3cm} (h = \\frac{b-a}{3}) $$\n",
    "\n",
    "The LTE is : $\\mathcal O(h^5)$\n",
    "\n",
    "The above methods are collectively called as \"*Newton Cotes Formulae*\".\n",
    "\n",
    "Looking at the LTE of the above three methods, we can say that Simpson's one-third rule and Simpson's three-eight rule are more accurate than the Trapezoidal rule.\n",
    "\n",
    "***Example :***<br>\n",
    "Let's perform numerical integration upon the following problem :\n",
    "\n",
    "Consider the following equation : $f(x) = 2-x+ln(x)$<br>\n",
    "The integration of the above function, gives us the result as : $x-\\frac{x^2}{2}+xln(x)$\n",
    "\n",
    "Let's use Trapezoidal and Simpson one-third rules to compare the results with the true value.\n",
    "\n",
    "***Solution :***<br>\n",
    "The MATLAB code for the above problem is :"
   ]
  },
  {
   "cell_type": "code",
   "execution_count": 4,
   "metadata": {},
   "outputs": [
    {
     "name": "stdout",
     "output_type": "stream",
     "text": [
      "Trapezoidal Methond\n",
      "----------------------------\n",
      "The true value of the numerical integration is : -0.886294\n",
      "The value of the numerical integration is : 0.846574\n",
      "The error associated is : 1.73287\n",
      "\n",
      "Simpson`s One-Third Rule Methond\n",
      "----------------------------\n",
      "The true value of the numerical integration is : -0.886294\n",
      "The value of the numerical integration is : 0.885835\n",
      "The error associated is : 1.77213\n"
     ]
    }
   ],
   "source": [
    "% Declaring limits :\n",
    "\n",
    "a = 1;\n",
    "b = 2;\n",
    "\n",
    "% Getting true values at specified limits :\n",
    "\n",
    "TrueVal_a = a - ( (a^2)/2 ) + ( a * log(a) );\n",
    "TrueVal_b = b - ( (b^2)/2 ) + ( b * log(b) );\n",
    "\n",
    "TrueVal = TrueVal_a - TrueVal_b ;\n",
    "\n",
    "% Given Function :\n",
    "\n",
    "function Func = Intfunc(x)\n",
    "    Func = 2 - x + log(x);\n",
    "end\n",
    "\n",
    "%% Trapezoidal Rule (Single Application) %%\n",
    "%% ------------------------------------- %%\n",
    "\n",
    "ht = b-a;\n",
    "\n",
    "TrapVal = (ht/2) * (Intfunc(a) + Intfunc(a+ht));\n",
    "\n",
    "% Error associated\n",
    "\n",
    "TrapzErr = abs(TrueVal - TrapVal);\n",
    "\n",
    "% Printing Results\n",
    "\n",
    "fprintf('Trapezoidal Methond\\n----------------------------\\n');\n",
    "fprintf('The true value of the numerical integration is : %f\\n',TrueVal);\n",
    "fprintf('The value of the numerical integration is : %f\\n',TrapVal);\n",
    "fprintf('The error associated is : %d\\n\\n',TrapzErr);\n",
    "\n",
    "%% Simpson's One-Third Rule (Single Application) %%\n",
    "%% --------------------------------------------- %%\n",
    "\n",
    "hs = (b-a)/2;\n",
    "\n",
    "SimpVal = (hs/3) * (Intfunc(a) + 4*Intfunc(a+hs) + Intfunc(a+2*hs));\n",
    "\n",
    "% Error associated\n",
    "\n",
    "SimpErr = abs(TrueVal - SimpVal);\n",
    "\n",
    "% Printing Results\n",
    "\n",
    "fprintf('Simpson`s One-Third Rule Methond\\n----------------------------\\n');\n",
    "fprintf('The true value of the numerical integration is : %f\\n',TrueVal);\n",
    "fprintf('The value of the numerical integration is : %f\\n',SimpVal);\n",
    "fprintf('The error associated is : %d\\n',SimpErr);"
   ]
  },
  {
   "cell_type": "markdown",
   "metadata": {},
   "source": [
    "## Multi-step Application of Newton Cotes Formulae :\n",
    "\n",
    "Formulae to find out the area under the curve is :\n",
    "\n",
    "### Trapezoidal Rule\n",
    "\n",
    "The formula for this rule is :\n",
    "\n",
    "***For interval-1***\n",
    "\n",
    "   "
   ]
  },
  {
   "cell_type": "code",
   "execution_count": null,
   "metadata": {},
   "outputs": [],
   "source": []
  }
 ],
 "metadata": {
  "kernelspec": {
   "display_name": "Octave",
   "language": "octave",
   "name": "octave"
  },
  "language_info": {
   "file_extension": ".m",
   "help_links": [
    {
     "text": "GNU Octave",
     "url": "https://www.gnu.org/software/octave/support.html"
    },
    {
     "text": "Octave Kernel",
     "url": "https://github.com/Calysto/octave_kernel"
    },
    {
     "text": "MetaKernel Magics",
     "url": "https://metakernel.readthedocs.io/en/latest/source/README.html"
    }
   ],
   "mimetype": "text/x-octave",
   "name": "octave",
   "version": "5.2.0"
  }
 },
 "nbformat": 4,
 "nbformat_minor": 4
}
