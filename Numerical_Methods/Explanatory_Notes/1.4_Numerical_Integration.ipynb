{
 "cells": [
  {
   "cell_type": "markdown",
   "metadata": {},
   "source": [
    "# Numerical Integration\n",
    "\n",
    "Numerical integration is nothing but a way to find out the area under a curve.\n",
    "\n",
    "The formulae used to calculate the area under the curve is collectively known as \"***Newton cotes formulae***\".\n",
    "\n",
    "However, there are two ways to apply the formulae ,i.e.,\n",
    "\n",
    "- Single-Step\n",
    "- Multi-Step"
   ]
  },
  {
   "cell_type": "markdown",
   "metadata": {},
   "source": [
    "## Single Application of Newton Cotes Formulae :\n",
    "\n",
    "Formulae to find out the area under the curve is :\n",
    "\n",
    "### 1. Trapezoidal Rule\n",
    "\n",
    "The formula for this rule is :\n",
    "\n",
    "$$\\int_{a}^{a+h} f(x) dx = \\frac{h}{2}(f(a)+f(a+h));\\hspace{0.3cm} (h = b-a) $$\n",
    "\n",
    "The LTE is : $\\mathcal O(h^3)$\n",
    "\n",
    "### 2. Simpson's One-third Rule\n",
    "\n",
    "The formula for Simpson's one-third rule is :\n",
    "\n",
    "$$\\int_{a}^{a+2h} f(x) dx = \\frac{h}{3}(f(a)+4f(a+h)+f(a+2h));\\hspace{0.3cm} (h = \\frac{b-a}{2}) $$\n",
    "\n",
    "The LTE is : $\\mathcal O(h^5)$\n",
    "\n",
    "### 3. Simpson's Three-eight Rule\n",
    "\n",
    "The formula for the Simpson's three-eight rule is :\n",
    "\n",
    "$$\\int_{a}^{a+3h} f(x) dx = \\frac{3h}{8}(f(a)+3f(a+h)+3f(a+2h)+f(a+3h));\\hspace{0.3cm} (h = \\frac{b-a}{3}) $$\n",
    "\n",
    "The LTE is : $\\mathcal O(h^5)$\n",
    "\n",
    "The above methods are collectively called as \"*Newton Cotes Formulae*\".\n",
    "\n",
    "Looking at the LTE of the above three methods, we can say that Simpson's one-third rule and Simpson's three-eight rule are more accurate than the Trapezoidal rule.\n",
    "\n",
    "***Example :***<br>\n",
    "Let's perform numerical integration upon the following problem :\n",
    "\n",
    "Consider the following equation : $f(x) = 2-x+ln(x)$<br>\n",
    "The integration of the above function, gives us the result as : $x-\\frac{x^2}{2}+xln(x)$\n",
    "\n",
    "Let's use Trapezoidal and Simpson one-third rules to compare the results with the true value.\n",
    "\n",
    "***Solution :***<br>\n",
    "The MATLAB code for the above problem is :"
   ]
  },
  {
   "cell_type": "code",
   "execution_count": 2,
   "metadata": {},
   "outputs": [
    {
     "name": "stdout",
     "output_type": "stream",
     "text": [
      "Trapezoidal Methond\n",
      "----------------------------\n",
      "The true value of the numerical integration is : -0.886294\n",
      "The value of the numerical integration is : 0.846574\n",
      "The error associated is : 1.73287\n",
      "\n",
      "Simpson`s One-Third Rule Methond\n",
      "----------------------------\n",
      "The true value of the numerical integration is : -0.886294\n",
      "The value of the numerical integration is : 0.885835\n",
      "The error associated is : 1.77213\n"
     ]
    }
   ],
   "source": [
    "% Declaring limits :\n",
    "\n",
    "a = 1;\n",
    "b = 2;\n",
    "\n",
    "% Getting true values at specified limits :\n",
    "\n",
    "TrueVal_a = a - ( (a^2)/2 ) + ( a * log(a) );\n",
    "TrueVal_b = b - ( (b^2)/2 ) + ( b * log(b) );\n",
    "\n",
    "TrueVal = TrueVal_a - TrueVal_b ;\n",
    "\n",
    "% Given Function :\n",
    "\n",
    "function Func = Intfunc(x)\n",
    "    Func = 2 - x + log(x);\n",
    "end\n",
    "\n",
    "%% Trapezoidal Rule (Single Application) %%\n",
    "%% ------------------------------------- %%\n",
    "\n",
    "ht = b-a;\n",
    "\n",
    "TrapVal = (ht/2) * (Intfunc(a) + Intfunc(a+ht));\n",
    "\n",
    "% Error associated\n",
    "\n",
    "TrapzErr = abs(TrueVal - TrapVal);\n",
    "\n",
    "% Printing Results\n",
    "\n",
    "fprintf('Trapezoidal Methond\\n----------------------------\\n');\n",
    "fprintf('The true value of the numerical integration is : %f\\n',TrueVal);\n",
    "fprintf('The value of the numerical integration is : %f\\n',TrapVal);\n",
    "fprintf('The error associated is : %d\\n\\n',TrapzErr);\n",
    "\n",
    "%% Simpson's One-Third Rule (Single Application) %%\n",
    "%% --------------------------------------------- %%\n",
    "\n",
    "hs = (b-a)/2;\n",
    "\n",
    "SimpVal = (hs/3) * (Intfunc(a) + 4*Intfunc(a+hs) + Intfunc(a+2*hs));\n",
    "\n",
    "% Error associated\n",
    "\n",
    "SimpErr = abs(TrueVal - SimpVal);\n",
    "\n",
    "% Printing Results\n",
    "\n",
    "fprintf('Simpson`s One-Third Rule Methond\\n----------------------------\\n');\n",
    "fprintf('The true value of the numerical integration is : %f\\n',TrueVal);\n",
    "fprintf('The value of the numerical integration is : %f\\n',SimpVal);\n",
    "fprintf('The error associated is : %d\\n',SimpErr);"
   ]
  },
  {
   "cell_type": "markdown",
   "metadata": {},
   "source": [
    "## Multi-step Application of Newton Cotes Formulae :\n",
    "\n",
    "Formulae to find out the area under the curve is :\n",
    "\n",
    "### Trapezoidal Rule\n",
    "\n",
    "The formula for this rule is :\n",
    "\n",
    "***For interval-1***\n",
    "$$I_1 = \\frac{h}{2}(f(a)+f(a+h))$$\n",
    "\n",
    "***For interval-2***\n",
    "$$I_2 = \\frac{h}{2}(f(a)+f(a+2h))$$\n",
    "\n",
    "and so on ...\n",
    "\n",
    "$$I = I_1 + I_2 + ... + I_n; \\hspace{0.3cm} (h = \\frac{b-a}{n})$$\n",
    "\n",
    "The LTE: $\\mathcal O(h^3)$\n",
    "\n",
    "\n",
    "We can take up the previous problem to be solved with multi-step trapezoidal method, to see how the error varies from single-step application :"
   ]
  },
  {
   "cell_type": "code",
   "execution_count": 7,
   "metadata": {},
   "outputs": [
    {
     "name": "stdout",
     "output_type": "stream",
     "text": [
      "Trapezoidal Method : Multi-Step Method\n",
      "--------------------------------------\n",
      "The true value of the numerical integration is : -0.886294\n",
      "\n",
      " For a step size = 0.500000, the value of the numerical integration by Trapizoidal method = 0.876019 and the error = 1.76231\n",
      "\n",
      " For a step size = 0.200000, the value of the numerical integration by Trapizoidal method = 0.884632 and the error = 1.77093\n",
      "\n",
      " For a step size = 0.100000, the value of the numerical integration by Trapizoidal method = 0.885878 and the error = 1.77217\n",
      "\n",
      " For a step size = 0.050000, the value of the numerical integration by Trapizoidal method = 0.886190 and the error = 1.77248\n"
     ]
    },
    {
     "data": {
      "image/png": "[encoded data removed]",
      "text/plain": [
       "<IPython.core.display.Image object>"
      ]
     },
     "metadata": {},
     "output_type": "display_data"
    }
   ],
   "source": [
    "% Declaring Steps :\n",
    "\n",
    "n = [2,5,10,20];\n",
    "\n",
    "%% Trapezoidal Rule (Multi-step Application) %%\n",
    "%% ------------------------------------- %%\n",
    "\n",
    "StepSize = zeros(1,4);\n",
    "ApproxVal = zeros(1,4);\n",
    "ErrorVal = zeros(1,4);\n",
    "\n",
    "for i = 1:4\n",
    "    N = n(i);\n",
    "    h = (b-a)/N;\n",
    "    \n",
    "    Intervals = a:h:b;\n",
    "    \n",
    "    Fvec = Intfunc(Intervals);\n",
    "    \n",
    "    Ivals = (h/2)*(Fvec(:,1:end-1) + Fvec(:,2:end));\n",
    "    \n",
    "    StepSize(i) = h;\n",
    "    ApproxVal(i) = sum(Ivals);\n",
    "    ErrorVal(i) = abs(TrueVal - ApproxVal(i));\n",
    "end\n",
    "\n",
    "fprintf('Trapezoidal Method : Multi-Step Method\\n--------------------------------------\\n');\n",
    "fprintf('The true value of the numerical integration is : %f\\n',TrueVal);\n",
    "\n",
    "for i=1:4\n",
    "    fprintf('\\n For a step size = %f, the value of the numerical integration by Trapizoidal method = %f and the error = %d\\n',StepSize(i),ApproxVal(i),ErrorVal(i))\n",
    "end\n",
    "\n",
    "loglog(StepSize,ErrorVal)"
   ]
  },
  {
   "cell_type": "markdown",
   "metadata": {},
   "source": [
    "The GTE for the various Newton cotes equation are :\n",
    "\n",
    "GTE : Trapezoidal Rule = $\\mathcal O(h^2)$<br>\n",
    "GTE : Simpson one-third Rule = $\\mathcal O(h^4)$<br>\n",
    "GTE : Simpson three-eight Rule = $\\mathcal O(h^4)$<br>"
   ]
  },
  {
   "cell_type": "markdown",
   "metadata": {},
   "source": [
    "## In-Build Integration Formula In MATLAB\n",
    "\n",
    "We can solve the numerical integration problem directly using the in-build functions in MATLAB.\n",
    "\n",
    "### The `trapz()` Function\n",
    "\n",
    "The syntax for the `trapz()` function is :\n",
    "\n",
    "```matlab\n",
    "trapz(x, fval);\n",
    "```\n",
    "\n",
    "In the above formula :\n",
    "\n",
    "`fval`: specified at corresponding `x` values\n",
    "\n",
    "Now, let's solve the *Problem-2* by using the `trapz()` function:"
   ]
  },
  {
   "cell_type": "code",
   "execution_count": 9,
   "metadata": {},
   "outputs": [
    {
     "name": "stdout",
     "output_type": "stream",
     "text": [
      " The true value of the numerical integration is : -0.886294\n",
      "\n",
      " For a step size = 0.500000, the value of the numerical integration by Trapizoidal method = 0.876019 and the error = 1.76231\n",
      "\n",
      " For a step size = 0.200000, the value of the numerical integration by Trapizoidal method = 0.884632 and the error = 1.77093\n",
      "\n",
      " For a step size = 0.100000, the value of the numerical integration by Trapizoidal method = 0.885878 and the error = 1.77217\n",
      "\n",
      " For a step size = 0.050000, the value of the numerical integration by Trapizoidal method = 0.886190 and the error = 1.77248\n"
     ]
    }
   ],
   "source": [
    "%% Trapizoidal Rule (Multiple Application)\n",
    "\n",
    "SSize = zeros(1,4);\n",
    "AVal = zeros(1,4);\n",
    "EVal = zeros(1,4);\n",
    "\n",
    "\n",
    "for i = 1:4\n",
    "N = n(i);\n",
    "h = (b-a)/N;\n",
    "\n",
    "\n",
    "Intervals = a:h:b;\n",
    "Fvec = Intfunc(Intervals);\n",
    "\n",
    "Ivals = trapz(Intervals,Fvec);\n",
    "\n",
    "StepSize(i) = h;\n",
    "ApproxVal(i) = sum(Ivals);\n",
    "ErrorVal(i) = abs(TrueVal - ApproxVal(i));\n",
    "end\n",
    "\n",
    "% Printing the error\n",
    "fprintf(' The true value of the numerical integration is : %f\\n',TrueVal(1));\n",
    "for i = 1:4\n",
    "fprintf('\\n For a step size = %f, the value of the numerical integration by Trapizoidal method = %f and the error = %d\\n',StepSize(i),ApproxVal(i),ErrorVal(i))\n",
    "end"
   ]
  },
  {
   "cell_type": "markdown",
   "metadata": {},
   "source": [
    "(There is a error in multi-step method and some notes are also pending...)"
   ]
  }
 ],
 "metadata": {
  "kernelspec": {
   "display_name": "Octave",
   "language": "octave",
   "name": "octave"
  },
  "language_info": {
   "file_extension": ".m",
   "help_links": [
    {
     "text": "GNU Octave",
     "url": "https://www.gnu.org/software/octave/support.html"
    },
    {
     "text": "Octave Kernel",
     "url": "https://github.com/Calysto/octave_kernel"
    },
    {
     "text": "MetaKernel Magics",
     "url": "https://metakernel.readthedocs.io/en/latest/source/README.html"
    }
   ],
   "mimetype": "text/x-octave",
   "name": "octave",
   "version": "5.2.0"
  }
 },
 "nbformat": 4,
 "nbformat_minor": 4
}
