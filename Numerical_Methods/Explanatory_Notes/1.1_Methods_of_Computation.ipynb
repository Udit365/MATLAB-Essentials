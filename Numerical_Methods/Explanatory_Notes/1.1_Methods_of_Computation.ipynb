{
 "cells": [
  {
   "cell_type": "markdown",
   "metadata": {},
   "source": [
    "# Methods of Computation\n",
    "\n",
    "There are two methods for computation, they are :\n",
    "\n",
    "1. Direct Method\n",
    "2. Iterative Method\n",
    "\n",
    "## Direct Methods\n",
    "---\n",
    "In a direct method, the solution is computed directly by following an algorithm (sequence of operations).\n",
    "\n",
    "***For Example :***\n",
    "\n",
    "Maclauren Series :\n",
    "\n",
    "$e^a = 1 + a + \\frac{a^2}{2!} + \\frac{a^3}{3!} +....+\\frac{a^n}{n!}$\n",
    "\n",
    "Taylor's Series :\n",
    "\n",
    "$f'(x+h) = f(x)+ hf'(x) + \\frac{h^2}{2} f''(x)+.... \\implies  f'(x) = \\frac{f(x+h) - f(x)}{h}$\n",
    "\n",
    "## Iterative Methods\n",
    "---\n",
    "\n",
    "In an iterative method, the initial guess is improved repeatedly using some computational steps until convergence.\n",
    "\n",
    "### Heron's Algorithm\n",
    "\n",
    "It is one of the first iterative numerical algorithm that computes the value of $\\sqrt 2$ by starting with an initial guess and iteratively using the following expression :\n",
    "\n",
    "$x^{i+1} = \\frac{1}{2} (x^i + \\frac{2}{x^i})$\n",
    "\n",
    "The convergence occurs when, there is no significant change in the result with iterations or, when the error is close to zero.\n",
    "\n",
    "Let's run this Heron's algorithm in MATLAB/OCTAVE to compute $\\sqrt 2$\n"
   ]
  },
  {
   "cell_type": "code",
   "execution_count": 4,
   "metadata": {},
   "outputs": [
    {
     "name": "stdout",
     "output_type": "stream",
     "text": [
      "When error is : 1.000000E+00, the √2 is : 0.6 \n",
      "When error is : 1.366667E+00, the √2 is : 1.96667 \n",
      "When error is : 4.748588E-01, the √2 is : 1.49181 \n",
      "When error is : 7.557637E-02, the √2 is : 1.41623 \n",
      "When error is : 2.016544E-03, the √2 is : 1.41422 \n"
     ]
    }
   ],
   "source": [
    "% Heron's Algorithm %\n",
    "% ================= %\n",
    "\n",
    "% Initial guess for the value of √2 :\n",
    "\n",
    "x = 0.6;\n",
    "\n",
    "% Setting up the tolerance level (If the error decreases below this level then we will stop the loop) :\n",
    "\n",
    "tolerance = 10^(-4);\n",
    "\n",
    "% Initial guess for error :\n",
    "\n",
    "E = 1;\n",
    "\n",
    "% Running the Heron's algorithm :\n",
    "%--------------------------------\n",
    "\n",
    "while (E > tolerance)\n",
    "    fprintf(\"When error is : %3E, the √2 is : %x \\n\",E,x)\n",
    "    xNew = 0.5 * (x + 2/x);\n",
    "    E = abs(x - xNew);\n",
    "    x = xNew;\n",
    "end"
   ]
  }
 ],
 "metadata": {
  "kernelspec": {
   "display_name": "Octave",
   "language": "octave",
   "name": "octave"
  },
  "language_info": {
   "file_extension": ".m",
   "help_links": [
    {
     "text": "GNU Octave",
     "url": "https://www.gnu.org/software/octave/support.html"
    },
    {
     "text": "Octave Kernel",
     "url": "https://github.com/Calysto/octave_kernel"
    },
    {
     "text": "MetaKernel Magics",
     "url": "https://metakernel.readthedocs.io/en/latest/source/README.html"
    }
   ],
   "mimetype": "text/x-octave",
   "name": "octave",
   "version": "5.2.0"
  }
 },
 "nbformat": 4,
 "nbformat_minor": 4
}
