{
 "cells": [
  {
   "cell_type": "markdown",
   "metadata": {},
   "source": [
    "# Basics of Linear Algebra"
   ]
  },
  {
   "cell_type": "markdown",
   "metadata": {},
   "source": [
    "Let say, we have the following set of linear equations -:\n",
    "\n",
    "$a_{11}x_1 + a_{12}x_2 + a_{13}x_3 = b_1$\n",
    "\n",
    "$a_{21}x_1 + a_{22}x_2 + a_{23}x_3 = b_2$\n",
    "\n",
    "$a_{31}x_1 + a_{32}x_2 + a_{33}x_3 = b_2$\n",
    "\n",
    "then, we can find the solution for $(x_1,x_2,x_3))$ easily by using matrix method.\n",
    "\n",
    "## Matrix Method for Solution of Linear Equations\n",
    "---\n",
    "\n",
    "The given equation can be written in matrix format, as follows -:\n",
    "\n",
    "$A = \\begin{bmatrix} a_{11}&a_{12}&a_{13} \\\\a_{21}&a_{22}&a_{23}\\\\ a_{31}&a_{32}&a_{33}\\end{bmatrix}$\n",
    "\n",
    "$X = \\begin{bmatrix} x_1\\\\x_2\\\\ x_3\\end{bmatrix}$\n",
    "\n",
    "$B = \\begin{bmatrix} b_1\\\\b_2\\\\ b_3\\end{bmatrix}$\n",
    "\n",
    "hence, the equation can be re-written as :\n",
    "\n",
    "$AX = B$\n",
    "\n",
    "and thus, the solution would be -:\n",
    "\n",
    "$X = A^{-1}B$\n",
    "\n",
    "\n",
    "### Solution Types for Linear Equations \n",
    "---\n",
    "\n",
    "A set of linear equation can have 3 types of solutions as follows -:\n",
    "\n",
    "- Unique solution\n",
    "- Zero solution / No solution\n",
    "- Infinite solution\n",
    "\n",
    "##### Condition for getting unique solution :\n",
    "\n",
    "If matrix `A` is a full-rank matrix ,i.e., the rank of a matrix is equal to the number of columns present in the matrix then, the linear equations have a unique solution.\n",
    "\n",
    "##### Condition for getting zero solution :\n",
    "\n",
    "If\n",
    "\n",
    "$rank(A) \\neq columns(A)$ and $rank(A) \\neq rank(A,B)$\n",
    "\n",
    "then, the equation have zero solution / no solution.\n",
    "\n",
    "##### Condition for getting infinite solution :\n",
    "\n",
    "If\n",
    "\n",
    "$rank(A) \\neq columns(A)$ and $rank(A) = rank(A,B)$\n",
    "\n",
    "then, the equation have infinite solution.\n",
    "\n",
    "Let's create a function in MATLAB that will take matrix `A` and `B` as input and produce the solution type as output along with the solution (if there exists a unique solution)"
   ]
  },
  {
   "cell_type": "code",
   "execution_count": 7,
   "metadata": {},
   "outputs": [],
   "source": [
    "function Check = CheckEq (A, B)\n",
    "  # Find the number of columns in matrix \"A\"\n",
    "  columnsA = size(A,2);\n",
    "\n",
    "  # Find the rank of matrix \"A\"\n",
    "  rankA = rank(A);\n",
    "\n",
    "  # Find the combined rank of matrix \"A\" and \"B\"\n",
    "  combinedRank = rank([A,B]);\n",
    "\n",
    "  #Let's check \"A\" for full-rank\n",
    "\n",
    "  if (columnsA == rankA)\n",
    "    fprintf(\"The equations have a unique solution\\n\");\n",
    "  else\n",
    "    fprintf(\"The equations don't have a unique solution\\n\");\n",
    "  end\n",
    "\n",
    "  if (columnsA == rankA)\n",
    "    #To get the solution of the linear equation :\n",
    "\n",
    "    x = inv(A) * B;\n",
    "\n",
    "    %Printing the results\n",
    "    for i = 1:columnsA\n",
    "      fprintf(\"\\n The value of x(%i) is %i\\n\",i,x(i));\n",
    "    end\n",
    "  else \n",
    "    if (rankA == combinedRank)\n",
    "      fprintf(\"The equations have infinite solutions\\n\");\n",
    "    else\n",
    "      fprintf(\"The equations have zero solution\\n\");\n",
    "    end\n",
    "  end\n",
    "endfunction"
   ]
  },
  {
   "cell_type": "markdown",
   "metadata": {},
   "source": [
    "### Problem-1\n",
    "\n",
    "Find the solution type and solution of the following equation sets -:\n",
    "\n",
    "**Linear Equations (Set-1)**\n",
    "\n",
    "$x_1 + 2x_2 = 1$ and\n",
    "\n",
    "$x_1 - x_2 = 4$\n",
    "\n",
    "***Solution (Set-1)***"
   ]
  },
  {
   "cell_type": "code",
   "execution_count": 2,
   "metadata": {},
   "outputs": [
    {
     "name": "stdout",
     "output_type": "stream",
     "text": [
      "The equations have a unique solution\n",
      "\n",
      " The value of x1 is 3\n",
      " The value of x2 is -1\n"
     ]
    }
   ],
   "source": [
    "# Initialize the matrices :\n",
    "\n",
    "A = [1,2 ; 1,-1];\n",
    "B = [1;4];\n",
    "\n",
    "CheckEq(A,B)"
   ]
  },
  {
   "cell_type": "markdown",
   "metadata": {},
   "source": [
    "However, MATLAB has a more efficient way of solving linear equation by using the `\\` operator as follows :"
   ]
  },
  {
   "cell_type": "code",
   "execution_count": 3,
   "metadata": {},
   "outputs": [
    {
     "name": "stdout",
     "output_type": "stream",
     "text": [
      "\n",
      " The value of x1 is 3\n",
      " The value of x2 is -1\n"
     ]
    }
   ],
   "source": [
    "x = A\\B;\n",
    "\n",
    "%Printing the results\n",
    "\n",
    "fprintf(\"\\n The value of x1 is %i\\n\",x(1));\n",
    "fprintf(\" The value of x2 is %i\\n\",x(2));"
   ]
  },
  {
   "cell_type": "markdown",
   "metadata": {},
   "source": [
    "To know more about `\\` operator, we can pass the command : `help slash` in the command window."
   ]
  },
  {
   "cell_type": "markdown",
   "metadata": {},
   "source": [
    "***Linear Equations (Set-2)***\n",
    "\n",
    "$x_1 + 2x_2 = 1$ and\n",
    "\n",
    "$2x_1 + 4x_2 = 4$\n",
    "\n",
    "***Solution (Set-2)***"
   ]
  },
  {
   "cell_type": "code",
   "execution_count": 4,
   "metadata": {},
   "outputs": [
    {
     "name": "stdout",
     "output_type": "stream",
     "text": [
      "The equations don't have a unique solution\n",
      "The equations have zero solution\n"
     ]
    }
   ],
   "source": [
    "# Initialize the matrices :\n",
    "\n",
    "A = [1,2 ; 2,4];\n",
    "B = [1;4];\n",
    "\n",
    "CheckEq(A,B)"
   ]
  },
  {
   "cell_type": "markdown",
   "metadata": {},
   "source": [
    "***Linear Equations (Set-3)***\n",
    "\n",
    "$x_1 + 2x_2 = 1$ and\n",
    "\n",
    "$2x_1 + 4x_2 = 2$\n",
    "\n",
    "***Solution (Set-3)***"
   ]
  },
  {
   "cell_type": "code",
   "execution_count": 5,
   "metadata": {},
   "outputs": [
    {
     "name": "stdout",
     "output_type": "stream",
     "text": [
      "The equations don't have a unique solution\n",
      "The equations have infinite solutions\n"
     ]
    }
   ],
   "source": [
    "# Initialize the matrices :\n",
    "\n",
    "A = [1,2 ; 2,4];\n",
    "B = [1;2];\n",
    "\n",
    "CheckEq(A,B)"
   ]
  },
  {
   "cell_type": "markdown",
   "metadata": {},
   "source": [
    "### Naive Gauss Elimination Method\n",
    "\n",
    "The **Naive Gauss-Elimination Method** is one of the powerfull method to find the solution of the linear equations.\n",
    "\n",
    "The algorithm of this method is as follows -:\n",
    "\n",
    "- Create a matrix $A^{aug} = [A | B]$\n",
    "- In each step\n",
    "    - $A^{aug}(i,i)$ is the pivot element\n",
    "    - Use the pivot element to create zeros in the pivot column of $A^{aug}$ matrix.\n",
    "    - $R_j = R_j-\\alpha_{i,j}R_i$ where, $\\alpha_{i,j} = \\frac{A^{aug}(j,i)}{A^{aug}(i,i)}$ and $R$ refers to the rows of matrix $A^{aug}$.\n",
    "- Perform back-substitution\n",
    "\n",
    "#### Back-Substitution\n",
    "\n",
    "To find the solution of $(3 \\times 3)$ matrix :\n",
    "\n",
    "$$x_3 = \\frac{B(3)}{A(3,3)}$$\n",
    "\n",
    "$$x_2 = \\frac{B(2) - A(2,3)x_3}{A(2,2)}$$\n",
    "\n",
    "$$x_1 = \\frac{B(1) - (A(1,3)x_3 + A(1,2)x_2)}{A(1,1)}$$\n",
    "\n",
    "where, the matrix $A$ and $B$ are taken from the matrix $A^{aug}$\n",
    "\n",
    "### Problem-2\n",
    "\n",
    "Solve the following set of equation using *Naive Gauss Elimination Method* and verify the solution with that of found from `CheckEq()` function :\n",
    "\n",
    "$x_1 + x_2 + x_3 = 4$\n",
    "\n",
    "$2x_1 + x_2 + 3x_3 = 7$\n",
    "\n",
    "$3x_1 + 4x_2 - 2x_3 = 9$\n",
    "\n",
    "***Solution***"
   ]
  },
  {
   "cell_type": "code",
   "execution_count": 8,
   "metadata": {},
   "outputs": [
    {
     "name": "stdout",
     "output_type": "stream",
     "text": [
      "The equations have a unique solution\n",
      "\n",
      " The value of x(1) is 1\n",
      "\n",
      " The value of x(2) is 2\n",
      "\n",
      " The value of x(3) is 1\n"
     ]
    }
   ],
   "source": [
    "A = [1,1,1; 2,1,3; 3,4,-2];\n",
    "B = [4;7;9];\n",
    "CheckEq(A,B)"
   ]
  },
  {
   "cell_type": "markdown",
   "metadata": {},
   "source": [
    "Now, let's find the solution of the equation with *Naive Gauss Elimination Method* :"
   ]
  },
  {
   "cell_type": "code",
   "execution_count": 10,
   "metadata": {},
   "outputs": [
    {
     "name": "stdout",
     "output_type": "stream",
     "text": [
      "\n",
      " The value of x(3) is 1\n",
      "\n",
      " The value of x(2) is 2\n",
      "\n",
      " The value of x(1) is 1\n"
     ]
    }
   ],
   "source": [
    "% Initialization\n",
    "% ------------------------------\n",
    "\n",
    "A = [1,1,1; 2,1,3; 3,4,-2];\n",
    "B = [4;7;9];\n",
    "\n",
    "% Naive Gauss-Elimination Method\n",
    "% --------------------------------\n",
    "\n",
    "Aaug = [A,B]; % Creating the Aaug Matrix\n",
    "\n",
    "% With A(1,1) as pivot element :\n",
    "\n",
    "for i = 2:3\n",
    "  alpha = Aaug(i,1)/Aaug(1,1);\n",
    "  Aaug(i,:) = Aaug(i,:)- alpha * Aaug(1,:);\n",
    "end \n",
    "\n",
    "% With A(2,2) as pivot element :\n",
    "\n",
    "alpha = Aaug(3,2)/Aaug(2,2);\n",
    "Aaug(3,:) = Aaug(3,:)- alpha * Aaug(2,:);\n",
    "\n",
    "% Back Substitution \n",
    "% ---------------------\n",
    "\n",
    "X = zeros(3,1); % initializing X\n",
    "\n",
    "for i = 3:-1:1\n",
    "X(i) = ( Aaug(i,end)- ( Aaug(i,3)*X(3) + Aaug(i,2)*X(2)) ) / Aaug(i,i);\n",
    "fprintf(\"\\n The value of x(%i) is %i\\n\",i,X(i));\n",
    "end"
   ]
  },
  {
   "cell_type": "markdown",
   "metadata": {},
   "source": [
    "So, we can see that we get the exact result as output by running the *Naive Gauss Elimination* and *Back-Substitution* algorithm.\n",
    "\n",
    "However, there are methods available to make the $A^{aug}$ matrix more efficient in terms of reducing the calculation error and computationally cheaper.\n",
    "\n",
    "Two popular such methods are :\n",
    "\n",
    "- LU Decomposition\n",
    "- Partial Pivoting\n",
    "\n",
    "### LU Decomposition\n",
    "\n",
    "Using the above method, we can get back the original value $A$ from $A^{aug}$\n",
    "\n",
    "So, In *LU decomposition*, we set $A$ to be :\n",
    "\n",
    "$A = LU$\n",
    "\n",
    "Where,\n",
    "\n",
    "$U$ is nothing but the upper triangula matrix $A$ obtained after running the *Naive Gauss Elimination Method* ,i.e., from $A^{aug}$\n",
    "\n",
    "Similarly, $L$ is a lower triangual matrix given as follows :\n",
    "\n",
    "$L = \\begin{bmatrix}1&0&0 \\\\ \\alpha_{2,1}&1&0 \\\\ \\alpha_{3,1}&\\alpha_{3,2}&1 \\end{bmatrix}$ (for solving 3 simultaneous linear equations)\n",
    "\n",
    "\n",
    "Let's perform *LU decomposition* in the *Problem-2* to get the exact $A$ matrix -:"
   ]
  },
  {
   "cell_type": "code",
   "execution_count": 1,
   "metadata": {},
   "outputs": [
    {
     "name": "stdout",
     "output_type": "stream",
     "text": [
      "A =\n",
      "\n",
      "   1   1   1\n",
      "   2   1   3\n",
      "   3   4  -2\n",
      "\n"
     ]
    }
   ],
   "source": [
    "% Initialization\n",
    "% ------------------------------\n",
    "\n",
    "A = [1,1,1; 2,1,3; 3,4,-2];\n",
    "B = [4;7;9];\n",
    "\n",
    "% Naive Gauss-Elimination Method\n",
    "% --------------------------------\n",
    "\n",
    "Aaug = [A,B]; %Creating the 'Aaug' Matrix\n",
    "n = length(A);\n",
    "L = eye(n);\n",
    "\n",
    "% With A(1,1) as pivot element :\n",
    "\n",
    "for i = 2:3\n",
    "  alpha = Aaug(i,1)/Aaug(1,1);\n",
    "  L(i,1) = alpha;\n",
    "  Aaug(i,:) = Aaug(i,:)- alpha * Aaug(1,:);\n",
    "end \n",
    "\n",
    "% With A(2,2) as pivot element :\n",
    "\n",
    "alpha = Aaug(3,2)/Aaug(2,2);\n",
    "L(3,2) = alpha;\n",
    "Aaug(3,:) = Aaug(3,:)- alpha * Aaug(2,:);\n",
    "\n",
    "U = Aaug(1:n,1:n);\n",
    "\n",
    "% Value of A after LU decomposition\n",
    "A = L*U"
   ]
  },
  {
   "cell_type": "markdown",
   "metadata": {},
   "source": [
    "### Gauss Elimination With Partial Pivoting\n",
    "\n",
    "The idea of *Partial Pivoting* is to use row exchange to ensure the pivot element $A(i,i)$ is the largest element in the column.\n",
    "\n",
    "Let's perform *Gauss Elimination With Partial Pivoting* for *Problem-2* -:"
   ]
  },
  {
   "cell_type": "code",
   "execution_count": 2,
   "metadata": {},
   "outputs": [
    {
     "name": "stdout",
     "output_type": "stream",
     "text": [
      "\n",
      " The value of x(3) is 1\n",
      "\n",
      " The value of x(2) is 2\n",
      "\n",
      " The value of x(1) is 1\n"
     ]
    }
   ],
   "source": [
    "% Initialization\n",
    "% ------------------------------\n",
    "\n",
    "A = [1,1,1; 2,1,3; 3,4,-2];\n",
    "B = [4;7;9];\n",
    "n = length(A);\n",
    "\n",
    "Aaug = [A,B]; %Getting the augmented matrix\n",
    "\n",
    "% With A(1,1) as pivot element :\n",
    "%~~~~~~~~~~~~~~~~~~~~~~~~~~~~~~~\n",
    "\n",
    "% Performing Partial Pivoting\n",
    "% --------------------------------\n",
    "\n",
    "% Row exchange to ensure A(1,1) has the largest value in column-1\n",
    "\n",
    "col1 = Aaug(:,1); %Storing the column-1\n",
    "[dummy,idx] = max(col1); %Storing the row index for the largest value of column-1\n",
    "dummy = Aaug(1,:); %Storing the 1st row values\n",
    "Aaug(1,:) = Aaug(idx,:); %Now A(1,1) has the largest value in column-1\n",
    "Aaug(idx,:) = dummy ; %Replacing the row (that has the largest value in col-1) with row-1\n",
    "\n",
    "% Computing Gauss Elimination with partial pivoted augmented matrix\n",
    "% -------------------------------------------------------------------\n",
    "\n",
    "for i = 2:3\n",
    "  alpha = Aaug(i,1)/Aaug(1,1);\n",
    "  Aaug(i,:) = Aaug(i,:)- alpha * Aaug(1,:);\n",
    "end \n",
    "\n",
    "% With A(2,2) as pivot element :\n",
    "%~~~~~~~~~~~~~~~~~~~~~~~~~~~~~~~\n",
    "\n",
    "% Performing Partial Pivoting\n",
    "% --------------------------------\n",
    "% Row exchange to ensure A(2,2) has the largest value in column-2\n",
    "\n",
    "col2 = Aaug(2:end,2); %Storing the column-2\n",
    "[dummy,idx] = max(col2); %Storing the row index for the largest value of column-2\n",
    "dummy = Aaug(2,:); %Storing the 2nd row values\n",
    "Aaug(2,:) = Aaug(idx,:); %Now A(1,1) has the largest value in column-2\n",
    "Aaug(idx,:) = dummy ; %Replacing the row (that has the largest value in col-2) with row-1\n",
    "\n",
    "\n",
    "% Computing Gauss Elimination with partial pivoted augmented matrix\n",
    "% -------------------------------------------------------------------\n",
    "alpha = Aaug(3,2)/Aaug(2,2);\n",
    "Aaug(3,:) = Aaug(3,:)- alpha * Aaug(2,:);\n",
    "\n",
    "\n",
    "% Back Substitution \n",
    "% ~~~~~~~~~~~~~~~~~~~~~~~\n",
    "\n",
    "X = zeros(3,1); % initializing X\n",
    "\n",
    "for i = 3:-1:1\n",
    "X(i) = ( Aaug(i,end)- ( Aaug(i,3)*X(3) + Aaug(i,2)*X(2)) ) / Aaug(i,i);\n",
    "fprintf(\"\\n The value of x(%i) is %i\\n\",i,X(i));\n",
    "end"
   ]
  },
  {
   "cell_type": "markdown",
   "metadata": {},
   "source": [
    "So, we can see that we get the same solution for $X$ vector by applying *Gauss Elimination With Partial Pivoting* for *Problem-2* but, this solution is likely to produce more accurate result than that of *Naive Gauss Elimination Method*."
   ]
  },
  {
   "cell_type": "markdown",
   "metadata": {},
   "source": [
    "## Iterative Method For Solving Linear Equations\n",
    "\n",
    "When it comes to iterative method for solving the simultaneous linear equations then, we have two most popular methods as follows -:\n",
    "\n",
    "- Jacobi Method\n",
    "- Gauss-Siedel Method\n",
    "\n",
    "### Jacobi Method\n",
    "\n",
    "The formula to find the solution for $X$ using *jacobi Method* is :\n",
    "\n",
    "$$x_{k}^{(i+1)} = \\frac{b_k - (\\sum_{j\\neq k}A_{k,j}x_{j}^{(i)})}{A_{k,k}}$$\n",
    "\n",
    "### Gauss-Siedel Method\n",
    "\n",
    "The formula to find the solution for $X$ using *Gauss-Siedel Method* is :\n",
    "\n",
    "$$x_{k}^{(i+1)} = \\frac{b_k - \\left(\\sum_{j=1}^{k-1}A_{k,j}x_{j}^{(i+1)} + \\sum_{k+1}^{n}A_{k,j}x_{j}^{(i)}\\right)}{A_{k,k}}$$\n",
    "\n",
    "The difference between the *Jacobi Method* and *Gauss-Siedel Method* is:\n",
    "\n",
    "- Jacobi method uses the solution vector $x$ that was obtained in the previous iteration.\n",
    "- Gauss-Siedel method uses only the latest value of $x$.\n",
    "\n",
    "***Problem :***<br>\n",
    "Solve the following equations using *Gauss-Siedel Method* :\n",
    "\n",
    "$$x_1+ x_2 + x_3 = 4$$\n",
    "$$2x_1+ x_2 + 3x_3 = 7$$\n",
    "$$3x_1+ 4x_2 - 2x_3 = 9$$\n",
    "\n",
    "*(Rearrage as eq-2, eq-3 & eq-1 and then solve)*"
   ]
  },
  {
   "cell_type": "code",
   "execution_count": 20,
   "metadata": {},
   "outputs": [
    {
     "name": "stdout",
     "output_type": "stream",
     "text": [
      "Interation : 1; Error : 3.500000\n",
      "Interation : 2; Error : 1.281250\n",
      "Interation : 3; Error : 0.406250\n",
      "Interation : 4; Error : 0.382812\n",
      "Interation : 5; Error : 0.197266\n",
      "Interation : 6; Error : 0.145020\n",
      "Interation : 7; Error : 0.085571\n",
      "Interation : 8; Error : 0.057648\n",
      "Interation : 9; Error : 0.035805\n",
      "Interation : 10; Error : 0.023363\n",
      "Interation : 11; Error : 0.014792\n",
      "Interation : 12; Error : 0.009539\n",
      "Interation : 13; Error : 0.006083\n",
      "Interation : 14; Error : 0.003905\n",
      "Interation : 15; Error : 0.002497\n",
      "Interation : 16; Error : 0.001601\n",
      "Interation : 17; Error : 0.001024\n",
      "Interation : 18; Error : 0.000656\n",
      "Interation : 19; Error : 0.000420\n",
      "Interation : 20; Error : 0.000269\n",
      "Interation : 21; Error : 0.000172\n",
      "Interation : 22; Error : 0.000110\n",
      "Interation : 23; Error : 0.000071\n",
      "Interation : 24; Error : 0.000045\n",
      "Interation : 25; Error : 0.000029\n",
      "Interation : 26; Error : 0.000019\n",
      "Interation : 27; Error : 0.000012\n",
      "Interation : 28; Error : 0.000008\n",
      "Interation : 29; Error : 0.000005\n",
      "Interation : 30; Error : 0.000003\n",
      "x =\n",
      "\n",
      "   1.00001\n",
      "   2.00000\n",
      "   1.00000\n",
      "\n"
     ]
    }
   ],
   "source": [
    "% Defining Matrices:\n",
    "\n",
    "A = [1,1,1; 2,1,3; 3,4,-2];\n",
    "B = [4; 7; 9];\n",
    "\n",
    "AB = [A B];\n",
    "\n",
    "% Rearranging to get diagonally dominant matrix (2 -> 3 -> 1) :\n",
    "\n",
    "ABr = [AB(2,:); AB(3,:); AB(1,:)];\n",
    "\n",
    "% Initializing\n",
    "\n",
    "n = 3;\n",
    "x = zeros(n,1);\n",
    "err = zeros(n,1);\n",
    "\n",
    "% Gauss-Siedel Iterations\n",
    "\n",
    "for i = 1:30\n",
    "    for k = 1:n\n",
    "        \n",
    "        xold = x(k);\n",
    "        num = ABr(k,end) - ( ABr(k,1:k-1) * x(1:k-1) + ABr(k,k+1:n) * x(k+1:n) );\n",
    "        x(k) = num/ABr(k,k);\n",
    "\n",
    "        err(k) = abs( x(k) - xold);\n",
    "\n",
    "    end\n",
    "    \n",
    "    fprintf('Interation : %i; Error : %f\\n', i, max(err));\n",
    "end\n",
    "\n",
    "x"
   ]
  },
  {
   "cell_type": "code",
   "execution_count": null,
   "metadata": {},
   "outputs": [],
   "source": []
  }
 ],
 "metadata": {
  "kernelspec": {
   "display_name": "Octave",
   "language": "octave",
   "name": "octave"
  },
  "language_info": {
   "file_extension": ".m",
   "help_links": [
    {
     "text": "GNU Octave",
     "url": "https://www.gnu.org/software/octave/support.html"
    },
    {
     "text": "Octave Kernel",
     "url": "https://github.com/Calysto/octave_kernel"
    },
    {
     "text": "MetaKernel Magics",
     "url": "https://metakernel.readthedocs.io/en/latest/source/README.html"
    }
   ],
   "mimetype": "text/x-octave",
   "name": "octave",
   "version": "5.2.0"
  }
 },
 "nbformat": 4,
 "nbformat_minor": 4
}
