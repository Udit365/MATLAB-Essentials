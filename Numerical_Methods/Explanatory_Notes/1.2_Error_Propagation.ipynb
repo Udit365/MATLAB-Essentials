{
 "cells": [
  {
   "cell_type": "markdown",
   "metadata": {},
   "source": [
    "# Error Propagation\n",
    "\n",
    "There are generally two modes for calculating the value of a function :\n",
    "\n",
    "1. Single Step\n",
    "2. Multiple Step\n",
    "\n",
    "Let's say we need to calculate the value of $e^{0.1}$ then, we can use *Maclauren Series* to calculate it in a single step, as follows :\n",
    "\n",
    "(*Maclauren Series is given by :\n",
    "$e^a = 1 + a + \\frac{a^2}{2!} + \\frac{a^3}{3!} +....+\\frac{a^n}{n!}$*)"
   ]
  },
  {
   "cell_type": "code",
   "execution_count": 1,
   "metadata": {},
   "outputs": [
    {
     "name": "stdout",
     "output_type": "stream",
     "text": [
      "SingleStepError =  0.0000000014090\n"
     ]
    }
   ],
   "source": [
    "% Maclauren Series for computing e^0.1 %\n",
    "% ==================================== %\n",
    "\n",
    "% Number of terms to be considered :\n",
    "n = 5;\n",
    "\n",
    "% Value of e's power :\n",
    "a = 0.1;\n",
    "\n",
    "TrueVal = exp(a);\n",
    "ApproxVal = 1;\n",
    "\n",
    "% Running the Maclauren Series for calculating error associated :\n",
    "\n",
    "for i = 1:n\n",
    "    ApproxVal = ApproxVal + (power(a,i)/factorial(i));\n",
    "    SingleStepError = abs(TrueVal - ApproxVal);\n",
    "end\n",
    "\n",
    "SingleStepError"
   ]
  },
  {
   "cell_type": "markdown",
   "metadata": {},
   "source": [
    "We can also use the *Taylor's Series* to calculate $e^{0.1}$ in a stepped manner with a step size of $h = 0.01$\n",
    "\n",
    "So, the Taylor's series is given by : $f'(x+h) = f(x)+ hf'(x) + \\frac{h^2}{2} f''(x)+.... \\implies  f'(x) = \\frac{f(x+h) - f(x)}{h}$\n",
    "\n",
    "For a stepped calculation :\n",
    "\n",
    "Let's initialize\n",
    "\n",
    "$x = 0$ and<br>\n",
    "$step size (h)  = 0.01$\n",
    "\n",
    "Now, if we consider the first two terms of Taylor's series, then:\n",
    "\n",
    "$e^{(x+h)} = e^{x} + he^{x} = e^{x}(1+h)$\n",
    "\n",
    "Now, if we run the Taylor's series multiple times then :\n",
    "\n",
    "$e^{(0+0.01)} = e^{0.01} = e^{0}(1+0.01)$<br>\n",
    "$e^{(0.01+0.01)} = e^{0.02} = e^{0.01}(1+0.01)$<br>\n",
    "$e^{(0.02+0.01)} = e^{0.03} = e^{0.02}(1+0.01)$<br>\n",
    "....<br>\n",
    "....<br>\n",
    "....<br>\n",
    "$e^{(0.09+0.01)} = e^{0.1} = e^{0.09}(1+0.01)$\n",
    "\n",
    "Let's perform this multi-step calculation in MATLAB/OCTAVE to calculate $e^{0.1}$ :"
   ]
  },
  {
   "cell_type": "code",
   "execution_count": 7,
   "metadata": {},
   "outputs": [
    {
     "name": "stdout",
     "output_type": "stream",
     "text": [
      "MultiStepError =  0.095171\n",
      "MultiStepError =  0.085020\n",
      "MultiStepError =  0.074768\n",
      "MultiStepError =  0.064412\n",
      "MultiStepError =  0.053952\n",
      "MultiStepError =  0.043387\n",
      "MultiStepError =  0.032716\n",
      "MultiStepError =  0.021938\n",
      "MultiStepError =  0.011051\n",
      "MultiStepError =  0.000054892\n"
     ]
    }
   ],
   "source": [
    "% Taylor's Series for computing e^0.1 %\n",
    "% ==================================== %\n",
    "\n",
    "% Initializing 'x':\n",
    "\n",
    "x = 0;\n",
    "\n",
    "% Initializing step size :\n",
    "\n",
    "h = 0.01;\n",
    "\n",
    "% Value of e's power :\n",
    "\n",
    "a = 0.1;\n",
    "\n",
    "% Number of steps required for 'x' to be equal to 'a' :\n",
    "\n",
    "N = a/h;\n",
    "\n",
    "% True value\n",
    "\n",
    "T = exp(a);\n",
    "\n",
    "% Initializing variable to store approximate value :\n",
    "\n",
    "A = 0;\n",
    "\n",
    "% Running Taylor's series (Iterative Mode)\n",
    "% ----------------------------------------\n",
    "\n",
    "for i = 1:N\n",
    "    A = exp(x) * (1+h);\n",
    "    x = x+h;\n",
    "    MultiStepError = abs(T-A)\n",
    "end"
   ]
  },
  {
   "cell_type": "markdown",
   "metadata": {},
   "source": [
    "If we compare the errors of sigle-step and multi-step modes of calculation then, we will find that the error is higher in case of multi-step mode of calculation :"
   ]
  },
  {
   "cell_type": "code",
   "execution_count": 6,
   "metadata": {},
   "outputs": [
    {
     "name": "stdout",
     "output_type": "stream",
     "text": [
      "ErrorDifference =  0.000054890\n"
     ]
    }
   ],
   "source": [
    "ErrorDifference = MultiStepError - SingleStepError "
   ]
  },
  {
   "cell_type": "markdown",
   "metadata": {},
   "source": [
    "> ***Note :*** The error in multi-step mode of calculation decreases with decrease in $h$ value or, increase in $N$ value\n",
    "\n",
    "Now, let's plot a chart to illustrate how the error in a multi-step mode of calculation decreases with decrease in step-size or, increase in $N$ :"
   ]
  },
  {
   "cell_type": "code",
   "execution_count": 9,
   "metadata": {},
   "outputs": [
    {
     "data": {
      "image/png": "[encoded data removed]",
      "text/plain": [
       "<IPython.core.display.Image object>"
      ]
     },
     "metadata": {},
     "output_type": "display_data"
    }
   ],
   "source": [
    "x = 0; %Initialize the 'x'\n",
    "a = 0.1; % Value of e's power\n",
    "\n",
    "expVal = exp(x); %Initialize the approximate value\n",
    "TrueVal = exp(0.1);\n",
    "\n",
    "for p = 1:5\n",
    "  h = 10^(-p);\n",
    "  N = a/h;\n",
    "  for i = 1:N\n",
    "    expVal = exp(x) * (1+h);\n",
    "    x = x+h;\n",
    "  end\n",
    "  \n",
    "  MultiErr = abs(TrueVal - expVal);\n",
    "  hAll(p) = h;\n",
    "  errAll(p) = MultiErr;\n",
    "  \n",
    "  % Plotting error with log scale :\n",
    "  \n",
    "  loglog(hAll,errAll,'-ro');\n",
    "  xlabel(\"Step Size\");\n",
    "  ylabel(\"Error Values\");\n",
    "  title(\"Plotting Error Curver with Logarithmic Scale\");\n",
    "end"
   ]
  },
  {
   "cell_type": "code",
   "execution_count": null,
   "metadata": {},
   "outputs": [],
   "source": []
  }
 ],
 "metadata": {
  "kernelspec": {
   "display_name": "Octave",
   "language": "octave",
   "name": "octave"
  },
  "language_info": {
   "file_extension": ".m",
   "help_links": [
    {
     "text": "GNU Octave",
     "url": "https://www.gnu.org/software/octave/support.html"
    },
    {
     "text": "Octave Kernel",
     "url": "https://github.com/Calysto/octave_kernel"
    },
    {
     "text": "MetaKernel Magics",
     "url": "https://metakernel.readthedocs.io/en/latest/source/README.html"
    }
   ],
   "mimetype": "text/x-octave",
   "name": "octave",
   "version": "5.2.0"
  }
 },
 "nbformat": 4,
 "nbformat_minor": 4
}
