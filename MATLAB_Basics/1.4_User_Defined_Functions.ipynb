{
 "cells": [
  {
   "cell_type": "markdown",
   "metadata": {},
   "source": [
    "# User Defined Functions (UDF)\n",
    "\n",
    "\n",
    "User defined functions (UDF) can be created in MATLAB to perform complex operations, which are often repeated in a certain script.\n",
    "\n",
    "A UDF has its own workspace and thus, variables used in a function have local scope.\n",
    "\n",
    "The general sytax for defining MATLAB function is :\n",
    "\n",
    "```matlab\n",
    "function ovar1, ovar2, ... = Function_name (ivar1, ivar2, ivar3, ...)\n",
    "\n",
    "... local scoped variables ....\n",
    ".... function statements....\n",
    "\n",
    "ovar1 = .....\n",
    "ovar2 = .....\n",
    "\n",
    "end\n",
    "```\n",
    "\n",
    "Here,<br>\n",
    "`ivar` : input variable / input parameter<br>\n",
    "`ovar` : output variable / output parameter\n",
    "\n",
    "***For Example :***\n",
    "\n",
    "Write a function to calculate :\n",
    "\n",
    "$f = C_0 + C_1x + C_2x^2 + C_3x^3 + C_4x^4 + ... + C_nx^n$\n",
    "\n",
    "Where,<br>\n",
    "$C_0 = 1$<br>\n",
    "$C_m = 1/m$ ($m = 1,2,3,...,n$ )\n",
    "\n",
    "> *Such polynomial functions are commonly used to calculate the physical properties of fluids.*"
   ]
  },
  {
   "cell_type": "code",
   "execution_count": 1,
   "metadata": {},
   "outputs": [
    {
     "name": "stdout",
     "output_type": "stream",
     "text": [
      "ans =  1.1054\n"
     ]
    }
   ],
   "source": [
    "% Creating the function :\n",
    "\n",
    "function output = PolyFunc (x,n)\n",
    "    \n",
    "    Co = 1;\n",
    "    v = [1:n];\n",
    "    Cm = 1 ./ v;\n",
    "    \n",
    "    % The C-terms array\n",
    "    C = [Co, Cm];\n",
    "    \n",
    "    % x-terms array\n",
    "    X = [1, x .^ v];\n",
    "    \n",
    "    % The Cx - terms\n",
    "    CX = C .* X;\n",
    "    \n",
    "    %The result\n",
    "    output = sum(CX);\n",
    "end\n",
    "\n",
    "% Calling the function\n",
    "\n",
    "PolyFunc(0.1,6)"
   ]
  },
  {
   "cell_type": "markdown",
   "metadata": {},
   "source": [
    ">***Note :*** <br>\n",
    "Although we can write all the codes and functions in the same command window/script itself but, its better to create a separate function file for a specific UDF (Epecially, when working in a project that contains multiple script files that uses the UDF)."
   ]
  }
 ],
 "metadata": {
  "kernelspec": {
   "display_name": "Octave",
   "language": "octave",
   "name": "octave"
  },
  "language_info": {
   "file_extension": ".m",
   "help_links": [
    {
     "text": "GNU Octave",
     "url": "https://www.gnu.org/software/octave/support.html"
    },
    {
     "text": "Octave Kernel",
     "url": "https://github.com/Calysto/octave_kernel"
    },
    {
     "text": "MetaKernel Magics",
     "url": "https://metakernel.readthedocs.io/en/latest/source/README.html"
    }
   ],
   "mimetype": "text/x-octave",
   "name": "octave",
   "version": "5.2.0"
  }
 },
 "nbformat": 4,
 "nbformat_minor": 4
}
