{
 "cells": [
  {
   "cell_type": "markdown",
   "metadata": {},
   "source": [
    "# Matrix\n",
    "---\n",
    "Under this section, we will learn about :\n",
    "\n",
    "1. Matrix Building Functions\n",
    "2. Advance Matrix Creation\n",
    "3. Subsetting of Matrix\n",
    "4. Scalar Operation on Matrices\n",
    "5. Matrix Operations"
   ]
  },
  {
   "cell_type": "markdown",
   "metadata": {},
   "source": [
    "## Matrix Building Functions :\n",
    "---\n",
    "In MATLAB, we have some matrix building functions using which we can create some special kind of matrices, as follows :\n",
    "\n",
    "1. `ones()`: Creates a matrix with each element as `1`.\n",
    "1. `zeros()`: Creates a matrix with each element as `0`.\n",
    "1. `repmat()`: Creates a matrix with each element as a constant number.\n",
    "1. `eye()`: Creates an identity matrix.\n",
    "1. `rand()`: Creating a matrix of random numbers.\n",
    "1. `randn()`: Creating a matrix of gaussian distributed random numbers.\n",
    "1. `magic()`: Creating a magic square matrix\n",
    "1. `hilb()`: Creating a Hilbert's matrix\n",
    "1. `diag()`: Creating a diagonal matrix or, extracting the diagonal elements of a matrix.\n",
    "\n",
    "Now, let's see some examples of the above matrix building functions."
   ]
  },
  {
   "cell_type": "markdown",
   "metadata": {},
   "source": [
    "#### `ones()`:\n",
    "\n",
    "Create a `(3 x 4)` matrix with all the elements as `1` :"
   ]
  },
  {
   "cell_type": "code",
   "execution_count": 1,
   "metadata": {},
   "outputs": [
    {
     "name": "stdout",
     "output_type": "stream",
     "text": [
      "ans =\n",
      "\n",
      "   1   1   1   1\n",
      "   1   1   1   1\n",
      "   1   1   1   1\n",
      "\n"
     ]
    }
   ],
   "source": [
    "ones(3,4)"
   ]
  },
  {
   "cell_type": "markdown",
   "metadata": {},
   "source": [
    "We can also use the `ones()` function to create a matrix with all the elements as `n` (where `n` can be any real number).\n",
    "\n",
    "***For example :*** Creating a `(4 x 5)` matrix with all the elements as `2.53` :"
   ]
  },
  {
   "cell_type": "code",
   "execution_count": 2,
   "metadata": {},
   "outputs": [
    {
     "name": "stdout",
     "output_type": "stream",
     "text": [
      "ans =\n",
      "\n",
      "   2.5300   2.5300   2.5300   2.5300   2.5300\n",
      "   2.5300   2.5300   2.5300   2.5300   2.5300\n",
      "   2.5300   2.5300   2.5300   2.5300   2.5300\n",
      "   2.5300   2.5300   2.5300   2.5300   2.5300\n",
      "\n"
     ]
    }
   ],
   "source": [
    "2.53 * ones(4,5)"
   ]
  },
  {
   "cell_type": "markdown",
   "metadata": {},
   "source": [
    "#### `zeros()`:\n",
    "Create a `(5 x 5)` matrix with all the elements as `0` :"
   ]
  },
  {
   "cell_type": "code",
   "execution_count": 3,
   "metadata": {},
   "outputs": [
    {
     "name": "stdout",
     "output_type": "stream",
     "text": [
      "ans =\n",
      "\n",
      "   0   0   0   0   0\n",
      "   0   0   0   0   0\n",
      "   0   0   0   0   0\n",
      "   0   0   0   0   0\n",
      "   0   0   0   0   0\n",
      "\n"
     ]
    }
   ],
   "source": [
    "zeros(5)"
   ]
  },
  {
   "cell_type": "markdown",
   "metadata": {},
   "source": [
    "similarly, to create a `(2 x 3)` matrix with all the elements as `0` :"
   ]
  },
  {
   "cell_type": "code",
   "execution_count": 4,
   "metadata": {},
   "outputs": [
    {
     "name": "stdout",
     "output_type": "stream",
     "text": [
      "ans =\n",
      "\n",
      "   0   0   0\n",
      "   0   0   0\n",
      "\n"
     ]
    }
   ],
   "source": [
    "zeros(2,3)"
   ]
  },
  {
   "cell_type": "markdown",
   "metadata": {},
   "source": [
    "#### `repmat()`\n",
    "Crete a `(3 x 5)`matrix with all the elements as `2.5` :"
   ]
  },
  {
   "cell_type": "code",
   "execution_count": 5,
   "metadata": {},
   "outputs": [
    {
     "name": "stdout",
     "output_type": "stream",
     "text": [
      "ans =\n",
      "\n",
      "   2.5000   2.5000   2.5000   2.5000   2.5000\n",
      "   2.5000   2.5000   2.5000   2.5000   2.5000\n",
      "   2.5000   2.5000   2.5000   2.5000   2.5000\n",
      "\n"
     ]
    }
   ],
   "source": [
    "repmat(2.5,3,5)"
   ]
  },
  {
   "cell_type": "markdown",
   "metadata": {},
   "source": [
    "In the above code, the first argument is the constant element, the 2nd argument is the row size and the 3rd argument is the column size."
   ]
  },
  {
   "cell_type": "markdown",
   "metadata": {},
   "source": [
    "##### `eye()`:\n",
    "An identity matrix is a square matrix with diagonal elements as `1`.\n",
    "To create a `(4 x 4)` identity matrix :"
   ]
  },
  {
   "cell_type": "code",
   "execution_count": 7,
   "metadata": {},
   "outputs": [
    {
     "name": "stdout",
     "output_type": "stream",
     "text": [
      "ans =\n",
      "\n",
      "Diagonal Matrix\n",
      "\n",
      "   1   0   0   0\n",
      "   0   1   0   0\n",
      "   0   0   1   0\n",
      "   0   0   0   1\n",
      "\n"
     ]
    }
   ],
   "source": [
    "eye(4)"
   ]
  },
  {
   "cell_type": "markdown",
   "metadata": {},
   "source": [
    "If we want all the `1` in the off-diagonal then, we can use the following command :"
   ]
  },
  {
   "cell_type": "code",
   "execution_count": 8,
   "metadata": {},
   "outputs": [
    {
     "name": "stdout",
     "output_type": "stream",
     "text": [
      "ans =\n",
      "\n",
      "Permutation Matrix\n",
      "\n",
      "   0   0   0   1\n",
      "   0   0   1   0\n",
      "   0   1   0   0\n",
      "   1   0   0   0\n",
      "\n"
     ]
    }
   ],
   "source": [
    "flipud(eye(4))"
   ]
  },
  {
   "cell_type": "markdown",
   "metadata": {},
   "source": [
    "##### `rand()`:\n",
    "Create a `(3 x 3)` square matrix of randomly generated numbers :"
   ]
  },
  {
   "cell_type": "code",
   "execution_count": 10,
   "metadata": {},
   "outputs": [
    {
     "name": "stdout",
     "output_type": "stream",
     "text": [
      "ans =\n",
      "\n",
      "   0.90835   0.78690   0.40332\n",
      "   0.65284   0.32649   0.11322\n",
      "   0.23244   0.84265   0.64247\n",
      "\n"
     ]
    }
   ],
   "source": [
    "rand(3)"
   ]
  },
  {
   "cell_type": "markdown",
   "metadata": {},
   "source": [
    "Similarly, we can create a `(3 x 2)` matrix of randomly generated numbers as follows :"
   ]
  },
  {
   "cell_type": "code",
   "execution_count": 11,
   "metadata": {},
   "outputs": [
    {
     "name": "stdout",
     "output_type": "stream",
     "text": [
      "ans =\n",
      "\n",
      "   0.583355   0.851566\n",
      "   0.745667   0.857796\n",
      "   0.095037   0.578485\n",
      "\n"
     ]
    }
   ],
   "source": [
    "rand(3,2)"
   ]
  },
  {
   "cell_type": "markdown",
   "metadata": {},
   "source": [
    "> ***Note :***<br>\n",
    "The `rand()` function generates positive decimal numbers between `0` to `1` and we can perform various arithmetic operations to get bigger numbers out of it.\n",
    "\n",
    "Creating a `(4 x 3)` matrix with randomly generated numbers between greater than `1`"
   ]
  },
  {
   "cell_type": "code",
   "execution_count": 13,
   "metadata": {},
   "outputs": [
    {
     "name": "stdout",
     "output_type": "stream",
     "text": [
      "ans =\n",
      "\n",
      "   381.371   482.617    60.746\n",
      "   399.747   330.076   429.968\n",
      "   967.202    68.228    60.274\n",
      "    11.573   600.263   724.278\n",
      "\n"
     ]
    }
   ],
   "source": [
    "1000 * rand(4,3)"
   ]
  },
  {
   "cell_type": "markdown",
   "metadata": {},
   "source": [
    "##### `randn()`:\n",
    "The function `randn()` is very much similar to the function `rand()`, but, it generates gaussian distributed numbers.\n",
    "\n",
    "So, to create a `R5` vector (column matrix) of gaussian distributed numbers :"
   ]
  },
  {
   "cell_type": "code",
   "execution_count": 15,
   "metadata": {},
   "outputs": [
    {
     "name": "stdout",
     "output_type": "stream",
     "text": [
      "ans =\n",
      "\n",
      "  -0.705755\n",
      "  -0.163149\n",
      "   0.522345\n",
      "  -0.153358\n",
      "   0.029000\n",
      "\n"
     ]
    }
   ],
   "source": [
    "randn(5,1)"
   ]
  },
  {
   "cell_type": "markdown",
   "metadata": {},
   "source": [
    "##### `magic ()`:\n",
    "\n",
    "The function `magic ()` generates a **sqare matrix** such that, the summation of all the elements of each row, each column and each diagonal is same.\n",
    "\n",
    "A magic matrix needs can be of atleast ($3 \\times 3$) dimension.\n",
    "\n",
    "To create a magic matrix of ($5 \\times 5$) :"
   ]
  },
  {
   "cell_type": "code",
   "execution_count": 16,
   "metadata": {},
   "outputs": [
    {
     "name": "stdout",
     "output_type": "stream",
     "text": [
      "ans =\n",
      "\n",
      "   17   24    1    8   15\n",
      "   23    5    7   14   16\n",
      "    4    6   13   20   22\n",
      "   10   12   19   21    3\n",
      "   11   18   25    2    9\n",
      "\n"
     ]
    }
   ],
   "source": [
    "magic(5)"
   ]
  },
  {
   "cell_type": "markdown",
   "metadata": {},
   "source": [
    "##### `hilb ()`:\n",
    "\n",
    "The `hilb ()` is used to create a Hilbert's matrix.\n",
    "\n",
    "A Hilbert's matrix is a **square matrix** with elements as : $\\frac{1}{(i+j-1)}\\$\n",
    "\n",
    "Where,<br>\n",
    " $i$ : Row Number<br>\n",
    " $j$ : Column Number\n",
    "\n",
    " To create a Hilbert's matrix of ($4 \\times 4$) order :"
   ]
  },
  {
   "cell_type": "code",
   "execution_count": 17,
   "metadata": {},
   "outputs": [
    {
     "name": "stdout",
     "output_type": "stream",
     "text": [
      "ans =\n",
      "\n",
      "   1.00000   0.50000   0.33333   0.25000\n",
      "   0.50000   0.33333   0.25000   0.20000\n",
      "   0.33333   0.25000   0.20000   0.16667\n",
      "   0.25000   0.20000   0.16667   0.14286\n",
      "\n"
     ]
    }
   ],
   "source": [
    "hilb(4)"
   ]
  },
  {
   "cell_type": "markdown",
   "metadata": {},
   "source": [
    "##### `diag ()`:\n",
    "The function `diag()` can be used to create a diagonal matrix of certain elements by using a vector, as follows :"
   ]
  },
  {
   "cell_type": "code",
   "execution_count": 18,
   "metadata": {},
   "outputs": [
    {
     "name": "stdout",
     "output_type": "stream",
     "text": [
      "ans =\n",
      "\n",
      "Diagonal Matrix\n",
      "\n",
      "   53    0    0    0\n",
      "    0   65    0    0\n",
      "    0    0   43    0\n",
      "    0    0    0   45\n",
      "\n"
     ]
    }
   ],
   "source": [
    "% First we need to create a vector of elements to be taken as diagonal element :\n",
    "\n",
    "vec = [53;65;43;45];\n",
    "\n",
    "% Now, we can use the `diag()` function as follows :\n",
    "\n",
    "diag(vec)"
   ]
  },
  {
   "cell_type": "markdown",
   "metadata": {},
   "source": [
    "Now, if we want the vector elements in the off-diagonal, then, we can simply use the `flipud()` function along with `diag()`, as follows :"
   ]
  },
  {
   "cell_type": "code",
   "execution_count": 19,
   "metadata": {},
   "outputs": [
    {
     "name": "stdout",
     "output_type": "stream",
     "text": [
      "ans =\n",
      "\n",
      "    0    0    0   45\n",
      "    0    0   43    0\n",
      "    0   65    0    0\n",
      "   53    0    0    0\n",
      "\n"
     ]
    }
   ],
   "source": [
    "flipud(diag(vec))"
   ]
  },
  {
   "cell_type": "markdown",
   "metadata": {},
   "source": [
    "`diag()` can also be used to extract the diagonal & off-diagonal elements of a matrix as follows :"
   ]
  },
  {
   "cell_type": "code",
   "execution_count": 21,
   "metadata": {},
   "outputs": [
    {
     "name": "stdout",
     "output_type": "stream",
     "text": [
      "mat =\n",
      "\n",
      "   0.5467739   0.8401000   0.8548301   0.3112132   0.8588380\n",
      "   0.1917042   0.5565096   0.7436879   0.4590984   0.4700677\n",
      "   0.7685720   0.5212827   0.0630870   0.5055235   0.4214928\n",
      "   0.0085219   0.5035706   0.3175891   0.2234724   0.3974079\n",
      "   0.4880584   0.8505889   0.3448342   0.1701311   0.3251142\n",
      "\n",
      "ans =\n",
      "\n",
      "   0.546774\n",
      "   0.556510\n",
      "   0.063087\n",
      "   0.223472\n",
      "   0.325114\n",
      "\n",
      "ans =\n",
      "\n",
      "   0.488058\n",
      "   0.503571\n",
      "   0.063087\n",
      "   0.459098\n",
      "   0.858838\n",
      "\n"
     ]
    }
   ],
   "source": [
    "% Create a (5 x 5) matrix :\n",
    "mat = rand(5)\n",
    "\n",
    "% Extract the diagonal elements :\n",
    "diag(mat)\n",
    "\n",
    "% Extract off-diagonal elements :\n",
    "diag( flipud(mat) )"
   ]
  },
  {
   "cell_type": "markdown",
   "metadata": {},
   "source": [
    "## Advance Matrix Creation\n",
    "---\n",
    "Other than using matrix building functions or, typing out numbers manually; we can actually create matrix from other pre-existing matrices or, by combining arrays/vectors.\n",
    "\n",
    "But, while performing such advance matrix creating methods, we have to give a special attention towards the dimension of the matrices that we are taking into account otherwise, we may end-up in getting an error message.\n",
    "\n",
    "Now, let's create a matrix using a vector and an identity matrix :"
   ]
  },
  {
   "cell_type": "code",
   "execution_count": null,
   "metadata": {},
   "outputs": [],
   "source": []
  }
 ],
 "metadata": {
  "kernelspec": {
   "display_name": "Octave",
   "language": "octave",
   "name": "octave"
  },
  "language_info": {
   "file_extension": ".m",
   "help_links": [
    {
     "text": "GNU Octave",
     "url": "https://www.gnu.org/software/octave/support.html"
    },
    {
     "text": "Octave Kernel",
     "url": "https://github.com/Calysto/octave_kernel"
    },
    {
     "text": "MetaKernel Magics",
     "url": "https://metakernel.readthedocs.io/en/latest/source/README.html"
    }
   ],
   "mimetype": "text/x-octave",
   "name": "octave",
   "version": "5.2.0"
  }
 },
 "nbformat": 4,
 "nbformat_minor": 4
}
