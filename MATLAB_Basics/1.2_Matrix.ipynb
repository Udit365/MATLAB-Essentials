{
 "cells": [
  {
   "cell_type": "markdown",
   "metadata": {},
   "source": [
    "# Matrix\n",
    "---\n",
    "Under this section, we will learn about :\n",
    "\n",
    "1. Matrix Building Functions\n",
    "2. Advance Matrix Creation\n",
    "3. Subsetting of Matrix\n",
    "4. Scalar Operation on Matrices\n",
    "5. Matrix Operations"
   ]
  },
  {
   "cell_type": "markdown",
   "metadata": {},
   "source": [
    "## Matrix Building Functions :\n",
    "---\n",
    "In MATLAB, we have some matrix building functions using which we can create some special kind of matrices, as follows :\n",
    "\n",
    "1. `ones()`: Creates a matrix with each element as `1`.\n",
    "1. `zeros()`: Creates a matrix with each element as `0`.\n",
    "1. `repmat()`: Creates a matrix with each element as a constant number.\n",
    "1. `eye()`: Creates an identity matrix.\n",
    "1. `rand()`: Creating a matrix of random numbers.\n",
    "1. `randn()`: Creating a matrix of gaussian distributed random numbers.\n",
    "1. `magic()`: Creating a magic square matrix\n",
    "1. `hilb()`: Creating a Hilbert's matrix\n",
    "1. `diag()`: Creating a diagonal matrix or, extracting the diagonal elements of a matrix.\n",
    "\n",
    "Now, let's see some examples of the above matrix building functions."
   ]
  },
  {
   "cell_type": "markdown",
   "metadata": {},
   "source": [
    "#### `ones()`:\n",
    "\n",
    "Create a $(3 \\times 4)$ matrix with all the elements as `1` :"
   ]
  },
  {
   "cell_type": "code",
   "execution_count": 1,
   "metadata": {},
   "outputs": [
    {
     "name": "stdout",
     "output_type": "stream",
     "text": [
      "ans =\n",
      "\n",
      "   1   1   1   1\n",
      "   1   1   1   1\n",
      "   1   1   1   1\n",
      "\n"
     ]
    }
   ],
   "source": [
    "ones(3,4)"
   ]
  },
  {
   "cell_type": "markdown",
   "metadata": {},
   "source": [
    "We can also use the `ones()` function to create a matrix with all the elements as $n$ (where $n$ can be any real number).\n",
    "\n",
    "***For example :*** Creating a $(4 \\times 5)$ matrix with all the elements as $2.53$ :"
   ]
  },
  {
   "cell_type": "code",
   "execution_count": 2,
   "metadata": {},
   "outputs": [
    {
     "name": "stdout",
     "output_type": "stream",
     "text": [
      "ans =\n",
      "\n",
      "   2.5300   2.5300   2.5300   2.5300   2.5300\n",
      "   2.5300   2.5300   2.5300   2.5300   2.5300\n",
      "   2.5300   2.5300   2.5300   2.5300   2.5300\n",
      "   2.5300   2.5300   2.5300   2.5300   2.5300\n",
      "\n"
     ]
    }
   ],
   "source": [
    "2.53 * ones(4,5)"
   ]
  },
  {
   "cell_type": "markdown",
   "metadata": {},
   "source": [
    "#### `zeros()`:\n",
    "Create a $(5 \\times 5)$ matrix with all the elements as $0$ :"
   ]
  },
  {
   "cell_type": "code",
   "execution_count": 3,
   "metadata": {},
   "outputs": [
    {
     "name": "stdout",
     "output_type": "stream",
     "text": [
      "ans =\n",
      "\n",
      "   0   0   0   0   0\n",
      "   0   0   0   0   0\n",
      "   0   0   0   0   0\n",
      "   0   0   0   0   0\n",
      "   0   0   0   0   0\n",
      "\n"
     ]
    }
   ],
   "source": [
    "zeros(5)"
   ]
  },
  {
   "cell_type": "markdown",
   "metadata": {},
   "source": [
    "similarly, to create a $(2 \\times 3)$ matrix with all the elements as $0$ :"
   ]
  },
  {
   "cell_type": "code",
   "execution_count": 4,
   "metadata": {},
   "outputs": [
    {
     "name": "stdout",
     "output_type": "stream",
     "text": [
      "ans =\n",
      "\n",
      "   0   0   0\n",
      "   0   0   0\n",
      "\n"
     ]
    }
   ],
   "source": [
    "zeros(2,3)"
   ]
  },
  {
   "cell_type": "markdown",
   "metadata": {},
   "source": [
    "#### `repmat()`\n",
    "Crete a $(3 x 5)$matrix with all the elements as $2.5$:"
   ]
  },
  {
   "cell_type": "code",
   "execution_count": 5,
   "metadata": {},
   "outputs": [
    {
     "name": "stdout",
     "output_type": "stream",
     "text": [
      "ans =\n",
      "\n",
      "   2.5000   2.5000   2.5000   2.5000   2.5000\n",
      "   2.5000   2.5000   2.5000   2.5000   2.5000\n",
      "   2.5000   2.5000   2.5000   2.5000   2.5000\n",
      "\n"
     ]
    }
   ],
   "source": [
    "repmat(2.5,3,5)"
   ]
  },
  {
   "cell_type": "markdown",
   "metadata": {},
   "source": [
    "In the above code, the first argument is the constant element, the 2nd argument is the row size and the 3rd argument is the column size."
   ]
  },
  {
   "cell_type": "markdown",
   "metadata": {},
   "source": [
    "##### `eye()`:\n",
    "An identity matrix is a **square matrix** with diagonal elements as $1$.<br>\n",
    "To create a $(4 \\times 4)$ identity matrix :"
   ]
  },
  {
   "cell_type": "code",
   "execution_count": 6,
   "metadata": {},
   "outputs": [
    {
     "name": "stdout",
     "output_type": "stream",
     "text": [
      "ans =\n",
      "\n",
      "Diagonal Matrix\n",
      "\n",
      "   1   0   0   0\n",
      "   0   1   0   0\n",
      "   0   0   1   0\n",
      "   0   0   0   1\n",
      "\n"
     ]
    }
   ],
   "source": [
    "eye(4)"
   ]
  },
  {
   "cell_type": "markdown",
   "metadata": {},
   "source": [
    "If we want all the $1$ in the off-diagonal then, we can use the following command :"
   ]
  },
  {
   "cell_type": "code",
   "execution_count": 7,
   "metadata": {},
   "outputs": [
    {
     "name": "stdout",
     "output_type": "stream",
     "text": [
      "ans =\n",
      "\n",
      "Permutation Matrix\n",
      "\n",
      "   0   0   0   1\n",
      "   0   0   1   0\n",
      "   0   1   0   0\n",
      "   1   0   0   0\n",
      "\n"
     ]
    }
   ],
   "source": [
    "flipud(eye(4))"
   ]
  },
  {
   "cell_type": "markdown",
   "metadata": {},
   "source": [
    "##### `rand()`:\n",
    "Create a $(3 \\times 3)$ square matrix of randomly generated numbers :"
   ]
  },
  {
   "cell_type": "code",
   "execution_count": 8,
   "metadata": {},
   "outputs": [
    {
     "name": "stdout",
     "output_type": "stream",
     "text": [
      "ans =\n",
      "\n",
      "   0.447843   0.149666   0.028738\n",
      "   0.262075   0.404148   0.124025\n",
      "   0.251250   0.435023   0.817570\n",
      "\n"
     ]
    }
   ],
   "source": [
    "rand(3)"
   ]
  },
  {
   "cell_type": "markdown",
   "metadata": {},
   "source": [
    "Similarly, we can create a $(3 \\times 2)$ matrix of randomly generated numbers as follows :"
   ]
  },
  {
   "cell_type": "code",
   "execution_count": 9,
   "metadata": {},
   "outputs": [
    {
     "name": "stdout",
     "output_type": "stream",
     "text": [
      "ans =\n",
      "\n",
      "   0.64217   0.90769\n",
      "   0.79599   0.27838\n",
      "   0.59834   0.10790\n",
      "\n"
     ]
    }
   ],
   "source": [
    "rand(3,2)"
   ]
  },
  {
   "cell_type": "markdown",
   "metadata": {},
   "source": [
    "> ***Note :***<br>\n",
    "The `rand()` function generates positive decimal numbers between $0$ to $1$ and we can perform various arithmetic operations to get bigger numbers out of it.\n",
    "\n",
    "Creating a $(4 \\times 3)$ matrix with randomly generated numbers between greater than $1$"
   ]
  },
  {
   "cell_type": "code",
   "execution_count": 10,
   "metadata": {},
   "outputs": [
    {
     "name": "stdout",
     "output_type": "stream",
     "text": [
      "ans =\n",
      "\n",
      "   650.60   384.76   568.58\n",
      "   698.82   413.31   716.10\n",
      "   955.98   694.88   554.41\n",
      "   178.47   732.65   784.14\n",
      "\n"
     ]
    }
   ],
   "source": [
    "1000 * rand(4,3)"
   ]
  },
  {
   "cell_type": "markdown",
   "metadata": {},
   "source": [
    "##### `randn()`:\n",
    "The function `randn()` is very much similar to the function `rand()`, but, it generates gaussian distributed numbers.\n",
    "\n",
    "So, to create a $R^5$ vector (column matrix) of gaussian distributed numbers :"
   ]
  },
  {
   "cell_type": "code",
   "execution_count": 11,
   "metadata": {},
   "outputs": [
    {
     "name": "stdout",
     "output_type": "stream",
     "text": [
      "ans =\n",
      "\n",
      "  -0.017530\n",
      "   0.121510\n",
      "   0.582453\n",
      "  -0.157294\n",
      "   0.690301\n",
      "\n"
     ]
    }
   ],
   "source": [
    "randn(5,1)"
   ]
  },
  {
   "cell_type": "markdown",
   "metadata": {},
   "source": [
    "##### `magic ()`:\n",
    "\n",
    "The function `magic ()` generates a **sqare matrix** such that, the summation of all the elements of each row, each column and each diagonal is same.\n",
    "\n",
    "A magic matrix needs can be of atleast ($3 \\times 3$) dimension.\n",
    "\n",
    "To create a magic matrix of ($5 \\times 5$) :"
   ]
  },
  {
   "cell_type": "code",
   "execution_count": 12,
   "metadata": {},
   "outputs": [
    {
     "name": "stdout",
     "output_type": "stream",
     "text": [
      "ans =\n",
      "\n",
      "   17   24    1    8   15\n",
      "   23    5    7   14   16\n",
      "    4    6   13   20   22\n",
      "   10   12   19   21    3\n",
      "   11   18   25    2    9\n",
      "\n"
     ]
    }
   ],
   "source": [
    "magic(5)"
   ]
  },
  {
   "cell_type": "markdown",
   "metadata": {},
   "source": [
    "##### `hilb ()`:\n",
    "\n",
    "The `hilb ()` is used to create a Hilbert's matrix.\n",
    "\n",
    "A Hilbert's matrix is a **square matrix** with elements as : $\\frac{1}{(i+j-1)}\\$\n",
    "\n",
    "Where,<br>\n",
    " $i$ : Row Number<br>\n",
    " $j$ : Column Number\n",
    "\n",
    " To create a Hilbert's matrix of ($4 \\times 4$) order :"
   ]
  },
  {
   "cell_type": "code",
   "execution_count": 13,
   "metadata": {},
   "outputs": [
    {
     "name": "stdout",
     "output_type": "stream",
     "text": [
      "ans =\n",
      "\n",
      "   1.00000   0.50000   0.33333   0.25000\n",
      "   0.50000   0.33333   0.25000   0.20000\n",
      "   0.33333   0.25000   0.20000   0.16667\n",
      "   0.25000   0.20000   0.16667   0.14286\n",
      "\n"
     ]
    }
   ],
   "source": [
    "hilb(4)"
   ]
  },
  {
   "cell_type": "markdown",
   "metadata": {},
   "source": [
    "##### `diag ()`:\n",
    "The function `diag()` can be used to create a diagonal matrix of certain elements by using a vector, as follows :"
   ]
  },
  {
   "cell_type": "code",
   "execution_count": 14,
   "metadata": {},
   "outputs": [
    {
     "name": "stdout",
     "output_type": "stream",
     "text": [
      "ans =\n",
      "\n",
      "Diagonal Matrix\n",
      "\n",
      "   53    0    0    0\n",
      "    0   65    0    0\n",
      "    0    0   43    0\n",
      "    0    0    0   45\n",
      "\n"
     ]
    }
   ],
   "source": [
    "% First we need to create a vector of elements to be taken as diagonal element :\n",
    "\n",
    "vec = [53;65;43;45];\n",
    "\n",
    "% Now, we can use the `diag()` function as follows :\n",
    "\n",
    "diag(vec)"
   ]
  },
  {
   "cell_type": "markdown",
   "metadata": {},
   "source": [
    "Now, if we want the vector elements in the off-diagonal, then, we can simply use the `flipud()` function along with `diag()`, as follows :"
   ]
  },
  {
   "cell_type": "code",
   "execution_count": 15,
   "metadata": {},
   "outputs": [
    {
     "name": "stdout",
     "output_type": "stream",
     "text": [
      "ans =\n",
      "\n",
      "    0    0    0   45\n",
      "    0    0   43    0\n",
      "    0   65    0    0\n",
      "   53    0    0    0\n",
      "\n"
     ]
    }
   ],
   "source": [
    "flipud(diag(vec))"
   ]
  },
  {
   "cell_type": "markdown",
   "metadata": {},
   "source": [
    "`diag()` can also be used to extract the diagonal & off-diagonal elements of a matrix as follows :"
   ]
  },
  {
   "cell_type": "code",
   "execution_count": 16,
   "metadata": {},
   "outputs": [
    {
     "name": "stdout",
     "output_type": "stream",
     "text": [
      "mat =\n",
      "\n",
      "   0.746177   0.618413   0.800590   0.121924   0.071330\n",
      "   0.635075   0.192364   0.443051   0.228145   0.470675\n",
      "   0.980789   0.619980   0.169974   0.217161   0.656082\n",
      "   0.742239   0.325528   0.844373   0.083955   0.767166\n",
      "   0.063329   0.768727   0.015409   0.699457   0.389655\n",
      "\n",
      "ans =\n",
      "\n",
      "   0.746177\n",
      "   0.192364\n",
      "   0.169974\n",
      "   0.083955\n",
      "   0.389655\n",
      "\n",
      "ans =\n",
      "\n",
      "   0.063329\n",
      "   0.325528\n",
      "   0.169974\n",
      "   0.228145\n",
      "   0.071330\n",
      "\n"
     ]
    }
   ],
   "source": [
    "% Create a (5 x 5) matrix :\n",
    "mat = rand(5)\n",
    "\n",
    "% Extract the diagonal elements :\n",
    "diag(mat)\n",
    "\n",
    "% Extract off-diagonal elements :\n",
    "diag( flipud(mat) )"
   ]
  },
  {
   "cell_type": "markdown",
   "metadata": {},
   "source": [
    "## Advance Matrix Creation\n",
    "---\n",
    "Other than using matrix building functions or, typing out numbers manually; we can actually create matrix from other pre-existing matrices or, by combining arrays/vectors.\n",
    "\n",
    "But, while performing such advance matrix creating methods, we have to give a special attention towards the dimension of the matrices that we are taking into account otherwise, we may end-up in getting an error message.\n",
    "\n",
    "Now, let's create a matrix using a vector and an identity matrix :"
   ]
  },
  {
   "cell_type": "code",
   "execution_count": 17,
   "metadata": {},
   "outputs": [
    {
     "name": "stdout",
     "output_type": "stream",
     "text": [
      "v =\n",
      "\n",
      "   20\n",
      "   40\n",
      "   50\n",
      "   70\n",
      "\n",
      "I =\n",
      "\n",
      "Diagonal Matrix\n",
      "\n",
      "   1   0   0   0\n",
      "   0   1   0   0\n",
      "   0   0   1   0\n",
      "   0   0   0   1\n",
      "\n",
      "P =\n",
      "\n",
      "   20    1    0    0    0\n",
      "   40    0    1    0    0\n",
      "   50    0    0    1    0\n",
      "   70    0    0    0    1\n",
      "\n"
     ]
    }
   ],
   "source": [
    "% Creating a vector :\n",
    "\n",
    "v = [20; 40; 50; 70]\n",
    "\n",
    "% Creating an identity matrix\n",
    "\n",
    "I = eye(4)\n",
    "\n",
    "% Adding 'v' as a column to 'I' to create a (4 x 5) matrix\n",
    "\n",
    "P = [v,I]"
   ]
  },
  {
   "cell_type": "markdown",
   "metadata": {},
   "source": [
    "Now, let's create an array and then use it with the previously created identity matrix `I` to create another matrix"
   ]
  },
  {
   "cell_type": "code",
   "execution_count": 18,
   "metadata": {},
   "outputs": [
    {
     "name": "stdout",
     "output_type": "stream",
     "text": [
      "a =\n",
      "\n",
      "   1   2   3   4\n",
      "\n",
      "Q =\n",
      "\n",
      "   1   2   3   4\n",
      "   1   0   0   0\n",
      "   0   1   0   0\n",
      "   0   0   1   0\n",
      "   0   0   0   1\n",
      "\n"
     ]
    }
   ],
   "source": [
    "% Creating an array :\n",
    "a = [1,2,3,4]\n",
    "\n",
    "% Appending 'a' over the identity matrix 'I' to form a (5 x 4) matrix\n",
    "Q = [a; I]"
   ]
  },
  {
   "cell_type": "markdown",
   "metadata": {},
   "source": [
    "## Sub-setting of Matrix\n",
    "\n",
    "---\n",
    "\n",
    "Let's create a $(4 \\times 6)$ matrix for performing various sub-setting operation :"
   ]
  },
  {
   "cell_type": "code",
   "execution_count": 19,
   "metadata": {},
   "outputs": [
    {
     "name": "stdout",
     "output_type": "stream",
     "text": [
      "matrx =\n",
      "\n",
      "   24   52   66   85   15   79\n",
      "   44   57   53   40   47   72\n",
      "   38   66   69   86   25   82\n",
      "   36   73   76   72   28   91\n",
      "\n"
     ]
    }
   ],
   "source": [
    "matrx = [\n",
    "24,52,66,85,15,79;\n",
    "44,57,53,40,47,72;\n",
    "38,66,69,86,25,82;\n",
    "36,73,76,72,28,91]"
   ]
  },
  {
   "cell_type": "code",
   "execution_count": 20,
   "metadata": {},
   "outputs": [
    {
     "name": "stdout",
     "output_type": "stream",
     "text": [
      "ans =\n",
      "\n",
      "   24   52   66   85   15   79\n",
      "\n"
     ]
    }
   ],
   "source": [
    "% To extract only the 1st row :\n",
    "\n",
    "matrx(1,:)"
   ]
  },
  {
   "cell_type": "code",
   "execution_count": 21,
   "metadata": {},
   "outputs": [
    {
     "name": "stdout",
     "output_type": "stream",
     "text": [
      "ans =\n",
      "\n",
      "   66\n",
      "   53\n",
      "   69\n",
      "   76\n",
      "\n"
     ]
    }
   ],
   "source": [
    "% To extract only the 3rd column :\n",
    "\n",
    "matrx(:,3)"
   ]
  },
  {
   "cell_type": "code",
   "execution_count": 22,
   "metadata": {},
   "outputs": [
    {
     "name": "stdout",
     "output_type": "stream",
     "text": [
      "ans =\n",
      "\n",
      "   38   66\n",
      "   36   73\n",
      "\n"
     ]
    }
   ],
   "source": [
    "% To extract a square matrix using last two rows and 1st two columns :\n",
    "\n",
    "matrx(3:4,1:2)"
   ]
  },
  {
   "cell_type": "code",
   "execution_count": 23,
   "metadata": {},
   "outputs": [
    {
     "name": "stdout",
     "output_type": "stream",
     "text": [
      "ans =\n",
      "\n",
      "   40   72\n",
      "   72   91\n",
      "\n"
     ]
    }
   ],
   "source": [
    "% To extract a square matrix using the 2nd & 4th row with 4th & 6th column :\n",
    "\n",
    "matrx([2,4],[4,6])"
   ]
  },
  {
   "cell_type": "code",
   "execution_count": 24,
   "metadata": {},
   "outputs": [
    {
     "name": "stdout",
     "output_type": "stream",
     "text": [
      "ans =  82\n"
     ]
    }
   ],
   "source": [
    "% To extract the element preset at 3rd row and 6th column :\n",
    "\n",
    "matrx(3,6)"
   ]
  },
  {
   "cell_type": "markdown",
   "metadata": {},
   "source": [
    "## Scalar Operation on Matrices\n",
    "\n",
    "---\n",
    "\n",
    "All the mathematical operations that we have performed with individual numbers/variables can also be applied to matrices.\n",
    "\n",
    "So, if we have `(4 x 4)` matrix and we enclose it within a `log()` function then, in the resultant matrix, we will get logarithm of each element.\n",
    "\n",
    "Let's perform the scalar operations upon the previously created $(4 \\times 6)$ matrix assigned to the variable `matrx` :"
   ]
  },
  {
   "cell_type": "code",
   "execution_count": 25,
   "metadata": {},
   "outputs": [
    {
     "name": "stdout",
     "output_type": "stream",
     "text": [
      "matrx =\n",
      "\n",
      "   24   52   66   85   15   79\n",
      "   44   57   53   40   47   72\n",
      "   38   66   69   86   25   82\n",
      "   36   73   76   72   28   91\n",
      "\n"
     ]
    }
   ],
   "source": [
    "% Viewing the 'matrx'\n",
    "\n",
    "matrx"
   ]
  },
  {
   "cell_type": "markdown",
   "metadata": {},
   "source": [
    "#### Arithmetic Operations :"
   ]
  },
  {
   "cell_type": "code",
   "execution_count": 26,
   "metadata": {},
   "outputs": [
    {
     "name": "stdout",
     "output_type": "stream",
     "text": [
      "Scalar_add =\n",
      "\n",
      "   26.500   54.500   68.500   87.500   17.500   81.500\n",
      "   46.500   59.500   55.500   42.500   49.500   74.500\n",
      "   40.500   68.500   71.500   88.500   27.500   84.500\n",
      "   38.500   75.500   78.500   74.500   30.500   93.500\n",
      "\n"
     ]
    }
   ],
   "source": [
    "% Scalar addition\n",
    "Scalar_add = 2.5 + matrx"
   ]
  },
  {
   "cell_type": "code",
   "execution_count": 27,
   "metadata": {},
   "outputs": [
    {
     "name": "stdout",
     "output_type": "stream",
     "text": [
      "Scalar_subs =\n",
      "\n",
      "  -21.500  -49.500  -63.500  -82.500  -12.500  -76.500\n",
      "  -41.500  -54.500  -50.500  -37.500  -44.500  -69.500\n",
      "  -35.500  -63.500  -66.500  -83.500  -22.500  -79.500\n",
      "  -33.500  -70.500  -73.500  -69.500  -25.500  -88.500\n",
      "\n"
     ]
    }
   ],
   "source": [
    "% Scalar subtraction\n",
    "Scalar_subs = 2.5 - matrx"
   ]
  },
  {
   "cell_type": "code",
   "execution_count": 28,
   "metadata": {},
   "outputs": [
    {
     "name": "stdout",
     "output_type": "stream",
     "text": [
      "Scalar_mult =\n",
      "\n",
      "   120   260   330   425    75   395\n",
      "   220   285   265   200   235   360\n",
      "   190   330   345   430   125   410\n",
      "   180   365   380   360   140   455\n",
      "\n"
     ]
    }
   ],
   "source": [
    "% Scalar multiplication\n",
    "Scalar_mult = 5 * matrx"
   ]
  },
  {
   "cell_type": "code",
   "execution_count": 29,
   "metadata": {},
   "outputs": [
    {
     "name": "stdout",
     "output_type": "stream",
     "text": [
      "Scalar_div =\n",
      "\n",
      "    6.8571   14.8571   18.8571   24.2857    4.2857   22.5714\n",
      "   12.5714   16.2857   15.1429   11.4286   13.4286   20.5714\n",
      "   10.8571   18.8571   19.7143   24.5714    7.1429   23.4286\n",
      "   10.2857   20.8571   21.7143   20.5714    8.0000   26.0000\n",
      "\n"
     ]
    }
   ],
   "source": [
    "% Scalar division\n",
    "Scalar_div = matrx / 3.5"
   ]
  },
  {
   "cell_type": "code",
   "execution_count": 30,
   "metadata": {},
   "outputs": [
    {
     "name": "stdout",
     "output_type": "stream",
     "text": [
      "Scalar_rem =\n",
      "\n",
      "   24    2   16   10   15    4\n",
      "   19    7    3   15   22   22\n",
      "   13   16   19   11    0    7\n",
      "   11   23    1   22    3   16\n",
      "\n"
     ]
    }
   ],
   "source": [
    "% Scalar remainder\n",
    "Scalar_rem = rem (matrx,25)"
   ]
  },
  {
   "cell_type": "code",
   "execution_count": 31,
   "metadata": {},
   "outputs": [
    {
     "name": "stdout",
     "output_type": "stream",
     "text": [
      "Scalar_pow =\n",
      "\n",
      "    13824   140608   287496   614125     3375   493039\n",
      "    85184   185193   148877    64000   103823   373248\n",
      "    54872   287496   328509   636056    15625   551368\n",
      "    46656   389017   438976   373248    21952   753571\n",
      "\n",
      "Scalar_pow2 =\n",
      "\n",
      "    13824   140608   287496   614125     3375   493039\n",
      "    85184   185193   148877    64000   103823   373248\n",
      "    54872   287496   328509   636056    15625   551368\n",
      "    46656   389017   438976   373248    21952   753571\n",
      "\n"
     ]
    }
   ],
   "source": [
    "% Scalar exponent\n",
    "Scalar_pow = power(matrx,3)\n",
    "\n",
    "% or,\n",
    "\n",
    "Scalar_pow2 = matrx .^ 3"
   ]
  },
  {
   "cell_type": "code",
   "execution_count": 32,
   "metadata": {},
   "outputs": [
    {
     "name": "stdout",
     "output_type": "stream",
     "text": [
      "Scalar_sqrt =\n",
      "\n",
      "   4.8990   7.2111   8.1240   9.2195   3.8730   8.8882\n",
      "   6.6332   7.5498   7.2801   6.3246   6.8557   8.4853\n",
      "   6.1644   8.1240   8.3066   9.2736   5.0000   9.0554\n",
      "   6.0000   8.5440   8.7178   8.4853   5.2915   9.5394\n",
      "\n"
     ]
    }
   ],
   "source": [
    "% Scalar square root\n",
    "Scalar_sqrt = sqrt (matrx)"
   ]
  },
  {
   "cell_type": "markdown",
   "metadata": {},
   "source": [
    "#### Logarithimic Operations"
   ]
  },
  {
   "cell_type": "code",
   "execution_count": 33,
   "metadata": {},
   "outputs": [
    {
     "name": "stdout",
     "output_type": "stream",
     "text": [
      "Scalar_log =\n",
      "\n",
      "   3.1781   3.9512   4.1897   4.4427   2.7081   4.3694\n",
      "   3.7842   4.0431   3.9703   3.6889   3.8501   4.2767\n",
      "   3.6376   4.1897   4.2341   4.4543   3.2189   4.4067\n",
      "   3.5835   4.2905   4.3307   4.2767   3.3322   4.5109\n",
      "\n"
     ]
    }
   ],
   "source": [
    "% Scalar logarithimic opertaion\n",
    "Scalar_log = log (matrx)"
   ]
  },
  {
   "cell_type": "code",
   "execution_count": 34,
   "metadata": {},
   "outputs": [
    {
     "name": "stdout",
     "output_type": "stream",
     "text": [
      "Scalar_exp =\n",
      "\n",
      "   2.6489e+10   3.8310e+22   4.6072e+28   8.2230e+36   3.2690e+06   2.0383e+34\n",
      "   1.2852e+19   5.6857e+24   1.0414e+23   2.3539e+17   2.5813e+20   1.8587e+31\n",
      "   3.1856e+16   4.6072e+28   9.2538e+29   2.2352e+37   7.2005e+10   4.0940e+35\n",
      "   4.3112e+15   5.0524e+31   1.0148e+33   1.8587e+31   1.4463e+12   3.3174e+39\n",
      "\n"
     ]
    }
   ],
   "source": [
    "% Scalar exp operation\n",
    "Scalar_exp = exp (matrx)"
   ]
  },
  {
   "cell_type": "markdown",
   "metadata": {},
   "source": [
    "#### Trigonometric Operations"
   ]
  },
  {
   "cell_type": "code",
   "execution_count": 35,
   "metadata": {},
   "outputs": [
    {
     "name": "stdout",
     "output_type": "stream",
     "text": [
      "Scalar_sine =\n",
      "\n",
      "  -0.905578   0.986628  -0.026551  -0.176076   0.650288  -0.444113\n",
      "   0.017702   0.436165   0.395925   0.745113   0.123573   0.253823\n",
      "   0.296369  -0.026551  -0.114785  -0.923458  -0.132352   0.313229\n",
      "  -0.991779  -0.676772   0.566108   0.253823   0.270906   0.105988\n",
      "\n"
     ]
    }
   ],
   "source": [
    "% Scalar Sine Operation\n",
    "Scalar_sine = sin(matrx)"
   ]
  },
  {
   "cell_type": "code",
   "execution_count": 36,
   "metadata": {},
   "outputs": [
    {
     "name": "stdout",
     "output_type": "stream",
     "text": [
      "Scalar_cosine =\n",
      "\n",
      "   0.42418  -0.16299  -0.99965  -0.98438  -0.75969  -0.89597\n",
      "   0.99984   0.89987  -0.91828  -0.66694  -0.99234  -0.96725\n",
      "   0.95507  -0.99965   0.99339  -0.38370   0.99120   0.94968\n",
      "  -0.12796  -0.73619   0.82433  -0.96725  -0.96261  -0.99437\n",
      "\n"
     ]
    }
   ],
   "source": [
    "% Scalar Cosine Operation\n",
    "Scalar_cosine = cos(matrx)"
   ]
  },
  {
   "cell_type": "code",
   "execution_count": 37,
   "metadata": {},
   "outputs": [
    {
     "name": "stdout",
     "output_type": "stream",
     "text": [
      "Scalar_tangent =\n",
      "\n",
      "  -2.134897  -6.053272   0.026561   0.178870  -0.855993   0.495678\n",
      "   0.017705   0.484699  -0.431158  -1.117215  -0.124528  -0.262417\n",
      "   0.310310   0.026561  -0.115549   2.406730  -0.133526   0.329826\n",
      "   7.750471   0.919286   0.686748  -0.262417  -0.281430  -0.106588\n",
      "\n"
     ]
    }
   ],
   "source": [
    "% Scalar Tangent Operation\n",
    "Scalar_tangent = tan(matrx)"
   ]
  },
  {
   "cell_type": "code",
   "execution_count": 38,
   "metadata": {},
   "outputs": [
    {
     "name": "stdout",
     "output_type": "stream",
     "text": [
      "Scalar_invsin =\n",
      "\n",
      " Columns 1 through 4:\n",
      "\n",
      "   1.5708 - 3.8708i   1.5708 - 4.6443i   1.5708 - 4.8827i   1.5708 - 5.1358i\n",
      "   1.5708 - 4.4772i   1.5708 - 4.7361i   1.5708 - 4.6634i   1.5708 - 4.3819i\n",
      "   1.5708 - 4.3306i   1.5708 - 4.8827i   1.5708 - 4.9272i   1.5708 - 5.1475i\n",
      "   1.5708 - 4.2765i   1.5708 - 4.9836i   1.5708 - 5.0238i   1.5708 - 4.9698i\n",
      "\n",
      " Columns 5 and 6:\n",
      "\n",
      "   1.5708 - 3.4001i   1.5708 - 5.0626i\n",
      "   1.5708 - 4.5432i   1.5708 - 4.9698i\n",
      "   1.5708 - 3.9116i   1.5708 - 5.0998i\n",
      "   1.5708 - 4.0250i   1.5708 - 5.2040i\n",
      "\n"
     ]
    }
   ],
   "source": [
    "% Scalar Inverse Sine Operation\n",
    "Scalar_invsin = asin(matrx)"
   ]
  },
  {
   "cell_type": "code",
   "execution_count": 39,
   "metadata": {},
   "outputs": [
    {
     "name": "stdout",
     "output_type": "stream",
     "text": [
      "Scalar_invcos =\n",
      "\n",
      " Columns 1 through 4:\n",
      "\n",
      "   0.0000 + 3.8708i   0.0000 + 4.6443i   0.0000 + 4.8827i   0.0000 + 5.1358i\n",
      "   0.0000 + 4.4772i   0.0000 + 4.7361i   0.0000 + 4.6634i   0.0000 + 4.3819i\n",
      "   0.0000 + 4.3306i   0.0000 + 4.8827i   0.0000 + 4.9272i   0.0000 + 5.1475i\n",
      "   0.0000 + 4.2765i   0.0000 + 4.9836i   0.0000 + 5.0238i   0.0000 + 4.9698i\n",
      "\n",
      " Columns 5 and 6:\n",
      "\n",
      "   0.0000 + 3.4001i   0.0000 + 5.0626i\n",
      "   0.0000 + 4.5432i   0.0000 + 4.9698i\n",
      "   0.0000 + 3.9116i   0.0000 + 5.0998i\n",
      "   0.0000 + 4.0250i   0.0000 + 5.2040i\n",
      "\n"
     ]
    }
   ],
   "source": [
    "% Scalar Inverse Cosine Operation\n",
    "Scalar_invcos = acos(matrx)"
   ]
  },
  {
   "cell_type": "code",
   "execution_count": 40,
   "metadata": {},
   "outputs": [
    {
     "name": "stdout",
     "output_type": "stream",
     "text": [
      "Scalar_invtan =\n",
      "\n",
      "   1.5292   1.5516   1.5556   1.5590   1.5042   1.5581\n",
      "   1.5481   1.5533   1.5519   1.5458   1.5495   1.5569\n",
      "   1.5445   1.5556   1.5563   1.5592   1.5308   1.5586\n",
      "   1.5430   1.5571   1.5576   1.5569   1.5351   1.5598\n",
      "\n"
     ]
    }
   ],
   "source": [
    "% Scalar Tangent Operation\n",
    "Scalar_invtan = atan(matrx)"
   ]
  },
  {
   "cell_type": "markdown",
   "metadata": {},
   "source": [
    "#### Rounding-off Operations\n",
    "\n",
    "If we have a matrix with decimal values as elements then, we can perform the rounding-off operations over each element.\n",
    "\n",
    "Let's create a random $(5 \\times 5)$ decimal matrix to perform the rounding-off operations"
   ]
  },
  {
   "cell_type": "code",
   "execution_count": 41,
   "metadata": {},
   "outputs": [
    {
     "name": "stdout",
     "output_type": "stream",
     "text": [
      "randmat =\n",
      "\n",
      "   0.973944   0.138578   0.054543   0.878546   0.661902\n",
      "   0.150763   0.065829   0.657992   0.471293   0.424776\n",
      "   0.153990   0.929081   0.978102   0.493937   0.803452\n",
      "   0.138700   0.478462   0.327101   0.350096   0.428619\n",
      "   0.652401   0.958826   0.677566   0.774710   0.135738\n",
      "\n"
     ]
    }
   ],
   "source": [
    "randmat = rand(5)"
   ]
  },
  {
   "cell_type": "markdown",
   "metadata": {},
   "source": [
    "Now, let's apply the various rounding-off operations over the matrix :"
   ]
  },
  {
   "cell_type": "code",
   "execution_count": 42,
   "metadata": {},
   "outputs": [
    {
     "name": "stdout",
     "output_type": "stream",
     "text": [
      "rounding =\n",
      "\n",
      "   1   0   0   1   1\n",
      "   0   0   1   0   0\n",
      "   0   1   1   0   1\n",
      "   0   0   0   0   0\n",
      "   1   1   1   1   0\n",
      "\n"
     ]
    }
   ],
   "source": [
    "% rounding\n",
    "rounding = round (randmat)"
   ]
  },
  {
   "cell_type": "code",
   "execution_count": 43,
   "metadata": {},
   "outputs": [
    {
     "name": "stdout",
     "output_type": "stream",
     "text": [
      "ceiling =\n",
      "\n",
      "   1   1   1   1   1\n",
      "   1   1   1   1   1\n",
      "   1   1   1   1   1\n",
      "   1   1   1   1   1\n",
      "   1   1   1   1   1\n",
      "\n"
     ]
    }
   ],
   "source": [
    "% Ceiling\n",
    "ceiling = ceil (randmat)"
   ]
  },
  {
   "cell_type": "code",
   "execution_count": 45,
   "metadata": {},
   "outputs": [
    {
     "name": "stdout",
     "output_type": "stream",
     "text": [
      "flooring =\n",
      "\n",
      "   0   0   0   0   0\n",
      "   0   0   0   0   0\n",
      "   0   0   0   0   0\n",
      "   0   0   0   0   0\n",
      "   0   0   0   0   0\n",
      "\n"
     ]
    }
   ],
   "source": [
    "% Flooring\n",
    "flooring = floor (randmat)"
   ]
  },
  {
   "cell_type": "markdown",
   "metadata": {},
   "source": [
    "## Matrix Operations\n",
    "\n",
    "---\n",
    "\n",
    "Now, let's see how we can perform various matrix operation with other matrices. The various matrix operations are :\n",
    "\n",
    "1. Size of a Matrix\n",
    "2. Length of a Matrix\n",
    "3. Reshaping of a Matrix\n",
    "4. Statistical Operations on a Matrix\n",
    "5. Arithmetic Operations on a Matrix\n",
    "6. Logarithmic Operations on a Matrix\n",
    "7. Exponential Operations on a Matrix\n",
    "8. Determinant of a Matrix\n",
    "9. Transpose of a Matrix\n",
    "10. Inverse of a Matrix\n",
    "11. Eigen Values & Eigen Vectors of a Matrix\n",
    "12. Matrix Addition, Subtraction & Multiplication\n",
    "13. Element-wise Matrix Multiplication & Division\n",
    "\n",
    "Now, let's create two $(4 \\times 4)$ sqare matrix from the previously created $(4 \\times 6)$ matrix (assigned to `matrx`) to perform various matrix operations."
   ]
  },
  {
   "cell_type": "code",
   "execution_count": 46,
   "metadata": {},
   "outputs": [
    {
     "name": "stdout",
     "output_type": "stream",
     "text": [
      "matrx =\n",
      "\n",
      "   24   52   66   85   15   79\n",
      "   44   57   53   40   47   72\n",
      "   38   66   69   86   25   82\n",
      "   36   73   76   72   28   91\n",
      "\n"
     ]
    }
   ],
   "source": [
    "% Viewing 'matrx'\n",
    "\n",
    "matrx"
   ]
  },
  {
   "cell_type": "code",
   "execution_count": 47,
   "metadata": {},
   "outputs": [
    {
     "name": "stdout",
     "output_type": "stream",
     "text": [
      "sqmat1 =\n",
      "\n",
      "   24   52   66   85\n",
      "   44   57   53   40\n",
      "   38   66   69   86\n",
      "   36   73   76   72\n",
      "\n",
      "sqmat2 =\n",
      "\n",
      "   66   85   15   79\n",
      "   53   40   47   72\n",
      "   69   86   25   82\n",
      "   76   72   28   91\n",
      "\n"
     ]
    }
   ],
   "source": [
    "% Sub-setting 'matrx' to create two sqare matrix\n",
    "\n",
    "sqmat1 = matrx(:,1:4)\n",
    "sqmat2 = matrx(:,3:6)"
   ]
  },
  {
   "cell_type": "markdown",
   "metadata": {},
   "source": [
    "#### Size of a Matrix :\n",
    "\n",
    "To get the size of the matrix :"
   ]
  },
  {
   "cell_type": "code",
   "execution_count": 48,
   "metadata": {},
   "outputs": [
    {
     "name": "stdout",
     "output_type": "stream",
     "text": [
      "ans =\n",
      "\n",
      "   4   6\n",
      "\n"
     ]
    }
   ],
   "source": [
    "size(matrx)"
   ]
  },
  {
   "cell_type": "code",
   "execution_count": 55,
   "metadata": {},
   "outputs": [
    {
     "name": "stdout",
     "output_type": "stream",
     "text": [
      "ans =  4\n"
     ]
    }
   ],
   "source": [
    "% To get the number of rows in a matrix :\n",
    "\n",
    "size(matrx,1)"
   ]
  },
  {
   "cell_type": "code",
   "execution_count": 54,
   "metadata": {},
   "outputs": [
    {
     "name": "stdout",
     "output_type": "stream",
     "text": [
      "ans =  6\n"
     ]
    }
   ],
   "source": [
    "% To get the number of columns in a matrix :\n",
    "\n",
    "size(matrx,2)"
   ]
  },
  {
   "cell_type": "markdown",
   "metadata": {},
   "source": [
    "#### Length of a Matrix\n",
    "\n",
    "The `length()` function gives the maximum dimension of the matrix as its output. \n",
    "\n",
    "So, for a $(4 \\times 6)$ matrix, it executes the number of columns as output and for a $(6 \\times 4)$ matrix, it executes the number of rows as output."
   ]
  },
  {
   "cell_type": "code",
   "execution_count": 53,
   "metadata": {},
   "outputs": [
    {
     "name": "stdout",
     "output_type": "stream",
     "text": [
      "ans =  6\n"
     ]
    }
   ],
   "source": [
    "% Finding length of 'matrx' (maximum dimension):\n",
    "\n",
    "length(matrx)"
   ]
  },
  {
   "cell_type": "markdown",
   "metadata": {},
   "source": [
    "> ***Note :***The `length()` function returns the dimension of a vector and for an array, it returns the number of elements present in it."
   ]
  },
  {
   "cell_type": "markdown",
   "metadata": {},
   "source": [
    "#### Reshaping of a Matrix\n",
    "\n",
    "Reshaping of a matrix refers to the manipulation of rows and column of matrix to give it some desired shape.\n",
    "\n",
    "So, we can reshape our $(6 \\times 4)$ matrix named `matrx` into a $(4 \\times 6)$ matrix as follows :"
   ]
  },
  {
   "cell_type": "code",
   "execution_count": 57,
   "metadata": {},
   "outputs": [
    {
     "name": "stdout",
     "output_type": "stream",
     "text": [
      "matrx =\n",
      "\n",
      "   24   52   66   85   15   79\n",
      "   44   57   53   40   47   72\n",
      "   38   66   69   86   25   82\n",
      "   36   73   76   72   28   91\n",
      "\n",
      "ans =\n",
      "\n",
      "   24   66   85   25\n",
      "   44   73   40   28\n",
      "   38   66   86   79\n",
      "   36   53   72   72\n",
      "   52   69   15   82\n",
      "   57   76   47   91\n",
      "\n"
     ]
    }
   ],
   "source": [
    "% Viewing the origina (4 X 6) matrix :\n",
    "matrx\n",
    "\n",
    "% Reshaping the matrix\n",
    "reshape(matrx, 6,4)"
   ]
  },
  {
   "cell_type": "markdown",
   "metadata": {},
   "source": [
    "> ***Note:*** The above reshape operation don't transpose the the matrix rather it just stacks the matrix elements to provide the desired dimension\n",
    "\n",
    "Similarly, we can make a column matrix (vector) from the $(4 \\times 6)$ matrix as follows :"
   ]
  },
  {
   "cell_type": "code",
   "execution_count": 58,
   "metadata": {},
   "outputs": [
    {
     "name": "stdout",
     "output_type": "stream",
     "text": [
      "vec =\n",
      "\n",
      "   24\n",
      "   44\n",
      "   38\n",
      "   36\n",
      "   52\n",
      "   57\n",
      "   66\n",
      "   73\n",
      "   66\n",
      "   53\n",
      "   69\n",
      "   76\n",
      "   85\n",
      "   40\n",
      "   86\n",
      "   72\n",
      "   15\n",
      "   47\n",
      "   25\n",
      "   28\n",
      "   79\n",
      "   72\n",
      "   82\n",
      "   91\n",
      "\n"
     ]
    }
   ],
   "source": [
    "vec = reshape(matrx, 24, 1);\n",
    "\n",
    "% or,\n",
    "\n",
    "vec = reshape(matrx, 4*6, 1)"
   ]
  },
  {
   "cell_type": "markdown",
   "metadata": {},
   "source": [
    "To make a row-matrix (array) from the $(4 \\times 6)$ matrix :"
   ]
  },
  {
   "cell_type": "code",
   "execution_count": 59,
   "metadata": {},
   "outputs": [
    {
     "name": "stdout",
     "output_type": "stream",
     "text": [
      "arr =\n",
      "\n",
      " Columns 1 through 16:\n",
      "\n",
      "   24   44   38   36   52   57   66   73   66   53   69   76   85   40   86   72\n",
      "\n",
      " Columns 17 through 24:\n",
      "\n",
      "   15   47   25   28   79   72   82   91\n",
      "\n"
     ]
    }
   ],
   "source": [
    "arr = reshape(matrx, 1, 24);\n",
    "\n",
    "% or,\n",
    "\n",
    "arr = reshape(matrx, 1, 4*6)"
   ]
  },
  {
   "cell_type": "markdown",
   "metadata": {},
   "source": [
    "\n",
    "#### Statistical Operations on a Matrix\n",
    "\n",
    "The basic statistical operations that we can perform on a matrix are :\n",
    "\n",
    "- Finding minimum and maximum values\n",
    "- Finding mean, variance and standard deviation\n",
    "\n",
    "To find out minimum/maximum/mean/standard deviation/variance **column-wise** :"
   ]
  },
  {
   "cell_type": "code",
   "execution_count": 77,
   "metadata": {},
   "outputs": [
    {
     "name": "stdout",
     "output_type": "stream",
     "text": [
      "ans =\n",
      "\n",
      "   24   52   53   40   15   72\n",
      "\n",
      "ans =\n",
      "\n",
      "   24   52   53   40   15   72\n",
      "\n"
     ]
    }
   ],
   "source": [
    "% Minimum\n",
    "min(matrx)\n",
    "\n",
    "%or\n",
    "\n",
    "min(matrx,[],1)"
   ]
  },
  {
   "cell_type": "code",
   "execution_count": 78,
   "metadata": {},
   "outputs": [
    {
     "name": "stdout",
     "output_type": "stream",
     "text": [
      "ans =\n",
      "\n",
      "   44   73   76   86   47   91\n",
      "\n",
      "ans =\n",
      "\n",
      "   44   73   76   86   47   91\n",
      "\n"
     ]
    }
   ],
   "source": [
    "% Maximum\n",
    "max(matrx)\n",
    "\n",
    "% or,\n",
    "\n",
    "max(matrx,[],1)"
   ]
  },
  {
   "cell_type": "code",
   "execution_count": 79,
   "metadata": {},
   "outputs": [
    {
     "name": "stdout",
     "output_type": "stream",
     "text": [
      "ans =\n",
      "\n",
      "   35.500   62.000   66.000   70.750   28.750   81.000\n",
      "\n",
      "ans =\n",
      "\n",
      "   35.500   62.000   66.000   70.750   28.750   81.000\n",
      "\n"
     ]
    }
   ],
   "source": [
    "% Mean\n",
    "mean(matrx)\n",
    "\n",
    "%or,\n",
    "\n",
    "mean(matrx,1)"
   ]
  },
  {
   "cell_type": "code",
   "execution_count": 80,
   "metadata": {},
   "outputs": [
    {
     "name": "stdout",
     "output_type": "stream",
     "text": [
      "ans =\n",
      "\n",
      "    8.3865    9.3452    9.6264   21.4690   13.3760    7.8740\n",
      "\n",
      "ans =\n",
      "\n",
      "    8.3865    9.3452    9.6264   21.4690   13.3760    7.8740\n",
      "\n",
      "ans =\n",
      "\n",
      "    8.3865    9.3452    9.6264   21.4690   13.3760    7.8740\n",
      "\n"
     ]
    }
   ],
   "source": [
    "% Standard Deviation (normalize with N-1)\n",
    "std(matrx)\n",
    "\n",
    "%or,\n",
    "std(matrx,0)\n",
    "\n",
    "% or,\n",
    "\n",
    "std(matrx,0,1)"
   ]
  },
  {
   "cell_type": "code",
   "execution_count": 76,
   "metadata": {},
   "outputs": [
    {
     "name": "stdout",
     "output_type": "stream",
     "text": [
      "ans =\n",
      "\n",
      "    7.2629    8.0932    8.3367   18.5927   11.5839    6.8191\n",
      "\n",
      "ans =\n",
      "\n",
      "    7.2629    8.0932    8.3367   18.5927   11.5839    6.8191\n",
      "\n"
     ]
    }
   ],
   "source": [
    "% Standard Deviation (normalize with N)\n",
    "std(matrx,1)\n",
    "\n",
    "% or,\n",
    "\n",
    "std(matrx,1,1)"
   ]
  },
  {
   "cell_type": "code",
   "execution_count": 75,
   "metadata": {},
   "outputs": [
    {
     "name": "stdout",
     "output_type": "stream",
     "text": [
      "ans =\n",
      "\n",
      "    70.333    87.333    92.667   460.917   178.917    62.000\n",
      "\n",
      "ans =\n",
      "\n",
      "    70.333    87.333    92.667   460.917   178.917    62.000\n",
      "\n",
      "ans =\n",
      "\n",
      "    70.333    87.333    92.667   460.917   178.917    62.000\n",
      "\n"
     ]
    }
   ],
   "source": [
    "% Variance (normalize with N-1)\n",
    "var(matrx)\n",
    "\n",
    "%or,\n",
    "var(matrx,0)\n",
    "\n",
    "%or,\n",
    "var(matrx,0,1)"
   ]
  },
  {
   "cell_type": "code",
   "execution_count": 74,
   "metadata": {},
   "outputs": [
    {
     "name": "stdout",
     "output_type": "stream",
     "text": [
      "ans =\n",
      "\n",
      "    52.750    65.500    69.500   345.688   134.188    46.500\n",
      "\n",
      "ans =\n",
      "\n",
      "    52.750    65.500    69.500   345.688   134.188    46.500\n",
      "\n"
     ]
    }
   ],
   "source": [
    "% Variance (normalize with N)\n",
    "var(matrx,1)\n",
    "\n",
    "% or,\n",
    "\n",
    "var(matrx,1,1)"
   ]
  },
  {
   "cell_type": "markdown",
   "metadata": {},
   "source": [
    "To find out minimum/maximum/mean/standard deviation/variance **row-wise** :"
   ]
  },
  {
   "cell_type": "code",
   "execution_count": 82,
   "metadata": {},
   "outputs": [
    {
     "name": "stdout",
     "output_type": "stream",
     "text": [
      "ans =\n",
      "\n",
      "   15\n",
      "   40\n",
      "   25\n",
      "   28\n",
      "\n"
     ]
    }
   ],
   "source": [
    "% Minimum\n",
    "min(matrx,[],2)"
   ]
  },
  {
   "cell_type": "code",
   "execution_count": 83,
   "metadata": {},
   "outputs": [
    {
     "name": "stdout",
     "output_type": "stream",
     "text": [
      "ans =\n",
      "\n",
      "   85\n",
      "   72\n",
      "   86\n",
      "   91\n",
      "\n"
     ]
    }
   ],
   "source": [
    "% Maximum\n",
    "max(matrx,[],2)"
   ]
  },
  {
   "cell_type": "code",
   "execution_count": 84,
   "metadata": {},
   "outputs": [
    {
     "name": "stdout",
     "output_type": "stream",
     "text": [
      "ans =\n",
      "\n",
      "   53.500\n",
      "   52.167\n",
      "   61.000\n",
      "   62.667\n",
      "\n"
     ]
    }
   ],
   "source": [
    "% Mean\n",
    "mean(matrx,2)"
   ]
  },
  {
   "cell_type": "code",
   "execution_count": 85,
   "metadata": {},
   "outputs": [
    {
     "name": "stdout",
     "output_type": "stream",
     "text": [
      "ans =\n",
      "\n",
      "   28.822\n",
      "   11.479\n",
      "   24.413\n",
      "   24.849\n",
      "\n"
     ]
    }
   ],
   "source": [
    "% Standard Deviation (normalize with N-1)\n",
    "std(matrx,0,2)"
   ]
  },
  {
   "cell_type": "code",
   "execution_count": 91,
   "metadata": {},
   "outputs": [
    {
     "name": "stdout",
     "output_type": "stream",
     "text": [
      "ans =\n",
      "\n",
      "   26.311\n",
      "   10.479\n",
      "   22.286\n",
      "   22.684\n",
      "\n"
     ]
    }
   ],
   "source": [
    "% Standard Deviation (normalize with N)\n",
    "std(matrx,1,2)"
   ]
  },
  {
   "cell_type": "code",
   "execution_count": 90,
   "metadata": {},
   "outputs": [
    {
     "name": "stdout",
     "output_type": "stream",
     "text": [
      "ans =\n",
      "\n",
      "   830.70\n",
      "   131.77\n",
      "   596.00\n",
      "   617.47\n",
      "\n"
     ]
    }
   ],
   "source": [
    "% Variance (normalize with N-1)\n",
    "var(matrx,0,2)"
   ]
  },
  {
   "cell_type": "code",
   "execution_count": 89,
   "metadata": {},
   "outputs": [
    {
     "name": "stdout",
     "output_type": "stream",
     "text": [
      "ans =\n",
      "\n",
      "   692.25\n",
      "   109.81\n",
      "   496.67\n",
      "   514.56\n",
      "\n"
     ]
    }
   ],
   "source": [
    "% Variance (normalize with N)\n",
    "var(matrx,1,2)"
   ]
  },
  {
   "cell_type": "markdown",
   "metadata": {},
   "source": [
    "To find out minimum/maximum/mean/standard deviation/variance of **diagonal elements**:"
   ]
  },
  {
   "cell_type": "code",
   "execution_count": 92,
   "metadata": {},
   "outputs": [
    {
     "name": "stdout",
     "output_type": "stream",
     "text": [
      "ans =  24\n"
     ]
    }
   ],
   "source": [
    "% Minimum\n",
    "min (diag ( matrx ) )"
   ]
  },
  {
   "cell_type": "code",
   "execution_count": 93,
   "metadata": {},
   "outputs": [
    {
     "name": "stdout",
     "output_type": "stream",
     "text": [
      "ans =  72\n"
     ]
    }
   ],
   "source": [
    "% Maximum\n",
    "max (diag ( matrx ) )"
   ]
  },
  {
   "cell_type": "code",
   "execution_count": 94,
   "metadata": {},
   "outputs": [
    {
     "name": "stdout",
     "output_type": "stream",
     "text": [
      "ans =  55.500\n"
     ]
    }
   ],
   "source": [
    "% Mean\n",
    "mean (diag ( matrx ) )"
   ]
  },
  {
   "cell_type": "code",
   "execution_count": 95,
   "metadata": {},
   "outputs": [
    {
     "name": "stdout",
     "output_type": "stream",
     "text": [
      "ans =  21.977\n"
     ]
    }
   ],
   "source": [
    "% Standard Deviation (normalize with N-1)\n",
    "std (diag ( matrx ) )"
   ]
  },
  {
   "cell_type": "code",
   "execution_count": 96,
   "metadata": {},
   "outputs": [
    {
     "name": "stdout",
     "output_type": "stream",
     "text": [
      "ans =  19.033\n"
     ]
    }
   ],
   "source": [
    "% Standard Deviation (normalize with N)\n",
    "std (diag ( matrx ),1 )"
   ]
  },
  {
   "cell_type": "code",
   "execution_count": 97,
   "metadata": {},
   "outputs": [
    {
     "name": "stdout",
     "output_type": "stream",
     "text": [
      "ans =  483\n"
     ]
    }
   ],
   "source": [
    "% Variance (normalize with N-1)\n",
    "var (diag ( matrx ) )"
   ]
  },
  {
   "cell_type": "code",
   "execution_count": 98,
   "metadata": {},
   "outputs": [
    {
     "name": "stdout",
     "output_type": "stream",
     "text": [
      "ans =  362.25\n"
     ]
    }
   ],
   "source": [
    "% Variance (normalize with N)\n",
    "var (diag ( matrx ),1 )"
   ]
  },
  {
   "cell_type": "markdown",
   "metadata": {},
   "source": [
    "To find out minimum/maximum/mean/standard deviation/variance of **off-diagonal elements**:"
   ]
  },
  {
   "cell_type": "code",
   "execution_count": 99,
   "metadata": {},
   "outputs": [
    {
     "name": "stdout",
     "output_type": "stream",
     "text": [
      "ans =  36\n"
     ]
    }
   ],
   "source": [
    "% Minimum\n",
    "min (diag ( flipud ( matrx ) ) )"
   ]
  },
  {
   "cell_type": "code",
   "execution_count": 100,
   "metadata": {},
   "outputs": [
    {
     "name": "stdout",
     "output_type": "stream",
     "text": [
      "ans =  85\n"
     ]
    }
   ],
   "source": [
    "% Maximum\n",
    "max (diag ( flipud ( matrx ) ) )"
   ]
  },
  {
   "cell_type": "code",
   "execution_count": 101,
   "metadata": {},
   "outputs": [
    {
     "name": "stdout",
     "output_type": "stream",
     "text": [
      "ans =  60\n"
     ]
    }
   ],
   "source": [
    "% Mean\n",
    "mean (diag ( flipud ( matrx ) ) )"
   ]
  },
  {
   "cell_type": "code",
   "execution_count": 102,
   "metadata": {},
   "outputs": [
    {
     "name": "stdout",
     "output_type": "stream",
     "text": [
      "ans =  20.704\n"
     ]
    }
   ],
   "source": [
    "% Standard Deviation (normalize with N-1)\n",
    "std (diag ( flipud ( matrx ) ) )"
   ]
  },
  {
   "cell_type": "code",
   "execution_count": 103,
   "metadata": {},
   "outputs": [
    {
     "name": "stdout",
     "output_type": "stream",
     "text": [
      "ans =  17.930\n"
     ]
    }
   ],
   "source": [
    "% Standard Deviation (normalize with N)\n",
    "std (diag ( flipud ( matrx ) ) ,1 )"
   ]
  },
  {
   "cell_type": "code",
   "execution_count": 104,
   "metadata": {},
   "outputs": [
    {
     "name": "stdout",
     "output_type": "stream",
     "text": [
      "ans =  428.67\n"
     ]
    }
   ],
   "source": [
    "% Variance (normalize with N-1)\n",
    "var (diag ( flipud ( matrx ) ) )"
   ]
  },
  {
   "cell_type": "code",
   "execution_count": 105,
   "metadata": {},
   "outputs": [
    {
     "name": "stdout",
     "output_type": "stream",
     "text": [
      "ans =  321.50\n"
     ]
    }
   ],
   "source": [
    "% Variance (normalize with N)\n",
    "var (diag ( flipud ( matrx ) ) ,1 )"
   ]
  },
  {
   "cell_type": "markdown",
   "metadata": {},
   "source": [
    "To find out minimum/maximum/mean/standard deviation/variance of all the elements in a matrix :"
   ]
  },
  {
   "cell_type": "code",
   "execution_count": 106,
   "metadata": {},
   "outputs": [
    {
     "name": "stdout",
     "output_type": "stream",
     "text": [
      "ans =  15\n"
     ]
    }
   ],
   "source": [
    "% Minimum\n",
    "min (reshape (matrx, size(matrx,1) * size(matrx,2),1))"
   ]
  },
  {
   "cell_type": "code",
   "execution_count": 107,
   "metadata": {},
   "outputs": [
    {
     "name": "stdout",
     "output_type": "stream",
     "text": [
      "ans =  91\n"
     ]
    }
   ],
   "source": [
    "% Maximum\n",
    "max (reshape (matrx, size(matrx,1) * size(matrx,2),1))"
   ]
  },
  {
   "cell_type": "code",
   "execution_count": 108,
   "metadata": {},
   "outputs": [
    {
     "name": "stdout",
     "output_type": "stream",
     "text": [
      "ans =  57.333\n"
     ]
    }
   ],
   "source": [
    "% Mean\n",
    "mean (reshape (matrx, size(matrx,1) * size(matrx,2),1))"
   ]
  },
  {
   "cell_type": "code",
   "execution_count": 109,
   "metadata": {},
   "outputs": [
    {
     "name": "stdout",
     "output_type": "stream",
     "text": [
      "ans =  22.243\n"
     ]
    }
   ],
   "source": [
    "% Standard Deviation (normalize with N-1)\n",
    "std (reshape (matrx, size(matrx,1) * size(matrx,2),1))"
   ]
  },
  {
   "cell_type": "code",
   "execution_count": 113,
   "metadata": {},
   "outputs": [
    {
     "name": "stdout",
     "output_type": "stream",
     "text": [
      "ans =  21.775\n"
     ]
    }
   ],
   "source": [
    "% Standard Deviation (normalize with N)\n",
    "std (reshape (matrx, size(matrx,1) * size(matrx,2),1),1)"
   ]
  },
  {
   "cell_type": "code",
   "execution_count": 110,
   "metadata": {},
   "outputs": [
    {
     "name": "stdout",
     "output_type": "stream",
     "text": [
      "ans =  494.75\n"
     ]
    }
   ],
   "source": [
    "% Variance (normalize with N-1)\n",
    "var (reshape (matrx, size(matrx,1) * size(matrx,2),1))"
   ]
  },
  {
   "cell_type": "code",
   "execution_count": 115,
   "metadata": {},
   "outputs": [
    {
     "name": "stdout",
     "output_type": "stream",
     "text": [
      "ans =  474.14\n"
     ]
    }
   ],
   "source": [
    "% Variance (normalize with N)\n",
    "var (reshape (matrx, size(matrx,1) * size(matrx,2),1),1)"
   ]
  },
  {
   "cell_type": "markdown",
   "metadata": {},
   "source": [
    "#### Arithmetic Operations on a Matrix\n",
    "\n",
    "The basic arithmetical operations that we can perform on a matrix are :\n",
    "\n",
    "- Finding sum and product of rows and columns\n",
    "- Finding cumulative sum and product of rows and columns\n",
    "\n",
    "To find out sum/product/cumulative sum/cumulative product **column-wise** :"
   ]
  },
  {
   "cell_type": "code",
   "execution_count": 116,
   "metadata": {},
   "outputs": [
    {
     "name": "stdout",
     "output_type": "stream",
     "text": [
      "ans =\n",
      "\n",
      "   142   248   264   283   115   324\n",
      "\n",
      "ans =\n",
      "\n",
      "   142   248   264   283   115   324\n",
      "\n"
     ]
    }
   ],
   "source": [
    "% Column totals\n",
    "sum (matrx)\n",
    "\n",
    "% or,\n",
    "sum (matrx, 1)"
   ]
  },
  {
   "cell_type": "code",
   "execution_count": 117,
   "metadata": {},
   "outputs": [
    {
     "name": "stdout",
     "output_type": "stream",
     "text": [
      "ans =\n",
      "\n",
      "    1444608   14280552   18343512   21052800     493500   42443856\n",
      "\n",
      "ans =\n",
      "\n",
      "    1444608   14280552   18343512   21052800     493500   42443856\n",
      "\n"
     ]
    }
   ],
   "source": [
    "% Product of column elements\n",
    "prod (matrx)\n",
    "\n",
    "% or,\n",
    "prod (matrx,1)"
   ]
  },
  {
   "cell_type": "code",
   "execution_count": 118,
   "metadata": {},
   "outputs": [
    {
     "name": "stdout",
     "output_type": "stream",
     "text": [
      "ans =\n",
      "\n",
      "    24    52    66    85    15    79\n",
      "    68   109   119   125    62   151\n",
      "   106   175   188   211    87   233\n",
      "   142   248   264   283   115   324\n",
      "\n",
      "ans =\n",
      "\n",
      "    24    52    66    85    15    79\n",
      "    68   109   119   125    62   151\n",
      "   106   175   188   211    87   233\n",
      "   142   248   264   283   115   324\n",
      "\n"
     ]
    }
   ],
   "source": [
    "% Cumulative Sum (Column-wise)\n",
    "cumsum (matrx)\n",
    "\n",
    "% or,\n",
    "cumsum(matrx,1)"
   ]
  },
  {
   "cell_type": "code",
   "execution_count": 119,
   "metadata": {},
   "outputs": [
    {
     "name": "stdout",
     "output_type": "stream",
     "text": [
      "ans =\n",
      "\n",
      "         24         52         66         85         15         79\n",
      "       1056       2964       3498       3400        705       5688\n",
      "      40128     195624     241362     292400      17625     466416\n",
      "    1444608   14280552   18343512   21052800     493500   42443856\n",
      "\n",
      "ans =\n",
      "\n",
      "         24         52         66         85         15         79\n",
      "       1056       2964       3498       3400        705       5688\n",
      "      40128     195624     241362     292400      17625     466416\n",
      "    1444608   14280552   18343512   21052800     493500   42443856\n",
      "\n"
     ]
    }
   ],
   "source": [
    "% Cumulative Product (Column-wise)\n",
    "cumprod (matrx)\n",
    "\n",
    "% or,\n",
    "cumprod (matrx,1)"
   ]
  },
  {
   "cell_type": "markdown",
   "metadata": {},
   "source": [
    "To find out sum/product/cumulative sum/cumulative product **row-wise** :"
   ]
  },
  {
   "cell_type": "code",
   "execution_count": 120,
   "metadata": {},
   "outputs": [
    {
     "name": "stdout",
     "output_type": "stream",
     "text": [
      "ans =\n",
      "\n",
      "   321\n",
      "   313\n",
      "   366\n",
      "   376\n",
      "\n"
     ]
    }
   ],
   "source": [
    "% Row totals\n",
    "sum (matrx, 2)"
   ]
  },
  {
   "cell_type": "code",
   "execution_count": 121,
   "metadata": {},
   "outputs": [
    {
     "name": "stdout",
     "output_type": "stream",
     "text": [
      "ans =\n",
      "\n",
      "    8296516800\n",
      "   17992592640\n",
      "   30509067600\n",
      "   36641299968\n",
      "\n"
     ]
    }
   ],
   "source": [
    "% Product of row elements\n",
    "prod (matrx,2)"
   ]
  },
  {
   "cell_type": "code",
   "execution_count": 122,
   "metadata": {},
   "outputs": [
    {
     "name": "stdout",
     "output_type": "stream",
     "text": [
      "ans =\n",
      "\n",
      "    24    76   142   227   242   321\n",
      "    44   101   154   194   241   313\n",
      "    38   104   173   259   284   366\n",
      "    36   109   185   257   285   376\n",
      "\n"
     ]
    }
   ],
   "source": [
    "% Cumulative Sum (Row-wise)\n",
    "cumsum(matrx,2)"
   ]
  },
  {
   "cell_type": "code",
   "execution_count": 123,
   "metadata": {},
   "outputs": [
    {
     "name": "stdout",
     "output_type": "stream",
     "text": [
      "ans =\n",
      "\n",
      " Columns 1 through 5:\n",
      "\n",
      "            24          1248         82368       7001280     105019200\n",
      "            44          2508        132924       5316960     249897120\n",
      "            38          2508        173052      14882472     372061800\n",
      "            36          2628        199728      14380416     402651648\n",
      "\n",
      " Column 6:\n",
      "\n",
      "    8296516800\n",
      "   17992592640\n",
      "   30509067600\n",
      "   36641299968\n",
      "\n"
     ]
    }
   ],
   "source": [
    "% Cumulative Product (Row-wise)\n",
    "cumprod (matrx, 2)"
   ]
  },
  {
   "cell_type": "markdown",
   "metadata": {},
   "source": [
    "To find out the sum/product/cumulative sum/cumulative product of all the **diagonal elements** :"
   ]
  },
  {
   "cell_type": "code",
   "execution_count": 124,
   "metadata": {},
   "outputs": [
    {
     "name": "stdout",
     "output_type": "stream",
     "text": [
      "ans =  222\n"
     ]
    }
   ],
   "source": [
    "% Diagonal totals\n",
    "sum ( diag( matrx ) )"
   ]
  },
  {
   "cell_type": "code",
   "execution_count": 125,
   "metadata": {},
   "outputs": [
    {
     "name": "stdout",
     "output_type": "stream",
     "text": [
      "ans =  6796224\n"
     ]
    }
   ],
   "source": [
    "% Product of diagonal elements\n",
    "prod ( diag( matrx ) )"
   ]
  },
  {
   "cell_type": "code",
   "execution_count": 126,
   "metadata": {},
   "outputs": [
    {
     "name": "stdout",
     "output_type": "stream",
     "text": [
      "ans =\n",
      "\n",
      "    24\n",
      "    81\n",
      "   150\n",
      "   222\n",
      "\n"
     ]
    }
   ],
   "source": [
    "% Cumulative Sum (Principal diagonal)\n",
    "cumsum ( diag( matrx ) )"
   ]
  },
  {
   "cell_type": "code",
   "execution_count": 127,
   "metadata": {},
   "outputs": [
    {
     "name": "stdout",
     "output_type": "stream",
     "text": [
      "ans =\n",
      "\n",
      "        24\n",
      "      1368\n",
      "     94392\n",
      "   6796224\n",
      "\n"
     ]
    }
   ],
   "source": [
    "% Cumulative Product (Principal diagonal)\n",
    "cumprod ( diag( matrx ) )"
   ]
  },
  {
   "cell_type": "markdown",
   "metadata": {},
   "source": [
    "To find out the sum/product/cumulative sum/cumulative product of all the **off-diagonal elements** :"
   ]
  },
  {
   "cell_type": "code",
   "execution_count": 128,
   "metadata": {},
   "outputs": [
    {
     "name": "stdout",
     "output_type": "stream",
     "text": [
      "ans =  240\n"
     ]
    }
   ],
   "source": [
    "% Off-Diagonal totals\n",
    "sum ( diag( flipud(matrx) ) )"
   ]
  },
  {
   "cell_type": "code",
   "execution_count": 129,
   "metadata": {},
   "outputs": [
    {
     "name": "stdout",
     "output_type": "stream",
     "text": [
      "ans =  10703880\n"
     ]
    }
   ],
   "source": [
    "% Product of off-diagonal elements\n",
    "prod ( diag( flipud(matrx) ) )"
   ]
  },
  {
   "cell_type": "code",
   "execution_count": 130,
   "metadata": {},
   "outputs": [
    {
     "name": "stdout",
     "output_type": "stream",
     "text": [
      "ans =\n",
      "\n",
      "    36\n",
      "   102\n",
      "   155\n",
      "   240\n",
      "\n"
     ]
    }
   ],
   "source": [
    "% Cumulative Sum (Off diagonal)\n",
    "cumsum ( diag( flipud(matrx) ) )"
   ]
  },
  {
   "cell_type": "code",
   "execution_count": 131,
   "metadata": {},
   "outputs": [
    {
     "name": "stdout",
     "output_type": "stream",
     "text": [
      "ans =\n",
      "\n",
      "         36\n",
      "       2376\n",
      "     125928\n",
      "   10703880\n",
      "\n"
     ]
    }
   ],
   "source": [
    "% Cumulative Product (Off diagonal)\n",
    "cumprod ( diag( flipud(matrx) ) )"
   ]
  },
  {
   "cell_type": "markdown",
   "metadata": {},
   "source": [
    "To find out the sum/product/cumulative sum/cumulative product of **all matrix elements** :"
   ]
  },
  {
   "cell_type": "code",
   "execution_count": 132,
   "metadata": {},
   "outputs": [
    {
     "name": "stdout",
     "output_type": "stream",
     "text": [
      "ans =  1376\n",
      "ans =  1376\n"
     ]
    }
   ],
   "source": [
    "% Sum of all the elements\n",
    "sum( sum( matrx ) )\n",
    "\n",
    "% or,\n",
    "sum (reshape ( matrx, size(matrx,1) * size(matrx,2),1) )"
   ]
  },
  {
   "cell_type": "code",
   "execution_count": 133,
   "metadata": {},
   "outputs": [
    {
     "name": "stdout",
     "output_type": "stream",
     "text": [
      "ans =    1.6687e+41\n",
      "ans =    1.6687e+41\n"
     ]
    }
   ],
   "source": [
    "% Product of all the elements\n",
    "prod( prod( matrx ) )\n",
    "\n",
    "% or,\n",
    "prod (reshape ( matrx, size(matrx,1) * size(matrx,2),1) )"
   ]
  },
  {
   "cell_type": "code",
   "execution_count": 134,
   "metadata": {},
   "outputs": [
    {
     "name": "stdout",
     "output_type": "stream",
     "text": [
      "ans =\n",
      "\n",
      "     24\n",
      "     68\n",
      "    106\n",
      "    142\n",
      "    194\n",
      "    251\n",
      "    317\n",
      "    390\n",
      "    456\n",
      "    509\n",
      "    578\n",
      "    654\n",
      "    739\n",
      "    779\n",
      "    865\n",
      "    937\n",
      "    952\n",
      "    999\n",
      "   1024\n",
      "   1052\n",
      "   1131\n",
      "   1203\n",
      "   1285\n",
      "   1376\n",
      "\n"
     ]
    }
   ],
   "source": [
    "% Cumulative sum of all the elements when matrix reshaped as a vector\n",
    "cumsum (reshape ( matrx, size(matrx,1) * size(matrx,2),1))"
   ]
  },
  {
   "cell_type": "code",
   "execution_count": 135,
   "metadata": {},
   "outputs": [
    {
     "name": "stdout",
     "output_type": "stream",
     "text": [
      "ans =\n",
      "\n",
      "   2.4000e+01\n",
      "   1.0560e+03\n",
      "   4.0128e+04\n",
      "   1.4446e+06\n",
      "   7.5120e+07\n",
      "   4.2818e+09\n",
      "   2.8260e+11\n",
      "   2.0630e+13\n",
      "   1.3616e+15\n",
      "   7.2163e+16\n",
      "   4.9792e+18\n",
      "   3.7842e+20\n",
      "   3.2166e+22\n",
      "   1.2866e+24\n",
      "   1.1065e+26\n",
      "   7.9669e+27\n",
      "   1.1950e+29\n",
      "   5.6166e+30\n",
      "   1.4042e+32\n",
      "   3.9316e+33\n",
      "   3.1060e+35\n",
      "   2.2363e+37\n",
      "   1.8338e+39\n",
      "   1.6687e+41\n",
      "\n"
     ]
    }
   ],
   "source": [
    "% Cumulative product of all the elements when matrix reshaped as a vector\n",
    "cumprod (reshape ( matrx, size(matrx,1) * size(matrx,2),1))"
   ]
  },
  {
   "cell_type": "markdown",
   "metadata": {},
   "source": [
    "#### Logarithimic Operations on a Matrix\n",
    "\n",
    "The logarithimic operations that can be performed upon a matrix are :\n",
    "\n",
    "- `logm()` : To find principal logarithm matrix\n",
    "- `expm()` : This returns $e$ raised to the power of each element or, $x ^ e$\n",
    "\n",
    "We need square matrix to perform the logarithmic operations, as follows :"
   ]
  },
  {
   "cell_type": "code",
   "execution_count": 136,
   "metadata": {},
   "outputs": [
    {
     "name": "stdout",
     "output_type": "stream",
     "text": [
      "ans =\n",
      "\n",
      "   1.86267  -0.84131   0.73340   3.12359\n",
      "   2.05911   4.43094   0.77614  -1.87100\n",
      "   0.40865   0.20795   2.75590   2.22480\n",
      "  -0.36169   1.19281   1.48817   3.38982\n",
      "\n"
     ]
    }
   ],
   "source": [
    "% Principal logarithm matrix\n",
    "logm(sqmat1)"
   ]
  },
  {
   "cell_type": "code",
   "execution_count": 137,
   "metadata": {},
   "outputs": [
    {
     "name": "stdout",
     "output_type": "stream",
     "text": [
      "ans =\n",
      "\n",
      "   7.8377e+105   8.1001e+105   3.4915e+105   9.6571e+105\n",
      "   6.9898e+105   7.2238e+105   3.1138e+105   8.6123e+105\n",
      "   8.4111e+105   8.6928e+105   3.7469e+105   1.0364e+106\n",
      "   8.6565e+105   8.9463e+105   3.8562e+105   1.0666e+106\n",
      "\n"
     ]
    }
   ],
   "source": [
    "% To e-power of element\n",
    "expm(sqmat2)"
   ]
  },
  {
   "cell_type": "markdown",
   "metadata": {},
   "source": [
    "#### Exponential Operations on a Matrix\n",
    "\n",
    "The exponential operations that can be performed upon a matrix are :\n",
    "\n",
    "- `mpower()` : Its just an alternate way to execute $A^B$,but, it enables operator overloading for classes.\n",
    "- `sqrtm()` : This returns the principal square root of the matrix $A$, i.e. $X.X = A$.\n",
    " \n",
    " We need **square matrix** to perform the such exponential operations, as follows :"
   ]
  },
  {
   "cell_type": "code",
   "execution_count": 138,
   "metadata": {},
   "outputs": [
    {
     "name": "stdout",
     "output_type": "stream",
     "text": [
      "ans =\n",
      "\n",
      "    8432   14773   15354   15916\n",
      "    7018   11955   12622   13458\n",
      "    9534   16570   17303   17996\n",
      "    9556   16305   16961   17700\n",
      "\n"
     ]
    }
   ],
   "source": [
    "% Power of matrix\n",
    "mpower(sqmat1,2)"
   ]
  },
  {
   "cell_type": "code",
   "execution_count": 139,
   "metadata": {},
   "outputs": [
    {
     "name": "stdout",
     "output_type": "stream",
     "text": [
      "ans =\n",
      "\n",
      " Columns 1 through 3:\n",
      "\n",
      "   2.35426 - 0.13823i   0.94781 - 0.03841i   3.47718 + 0.19503i\n",
      "   4.05380 + 0.94897i   6.86991 + 0.26369i   3.64758 - 1.33891i\n",
      "   2.62575 - 1.46439i   3.02978 - 0.40691i   4.40016 + 2.06613i\n",
      "   0.69009 + 0.60481i   4.36822 + 0.16806i   5.29082 - 0.85334i\n",
      "\n",
      " Column 4:\n",
      "\n",
      "   7.46995 - 0.04487i\n",
      "  -1.02093 + 0.30805i\n",
      "   6.50009 - 0.47537i\n",
      "   6.11414 + 0.19633i\n",
      "\n"
     ]
    }
   ],
   "source": [
    "% Principal square root of matrix\n",
    "sqrtm( sqmat1)"
   ]
  },
  {
   "cell_type": "markdown",
   "metadata": {},
   "source": [
    "#### Determinant of a Matrix\n",
    "\n",
    "To get the determinant of a matrix, we use the `det()` :"
   ]
  },
  {
   "cell_type": "code",
   "execution_count": 140,
   "metadata": {},
   "outputs": [
    {
     "name": "stdout",
     "output_type": "stream",
     "text": [
      "ans = -252542.00000\n"
     ]
    }
   ],
   "source": [
    "det(sqmat1)"
   ]
  },
  {
   "cell_type": "markdown",
   "metadata": {},
   "source": [
    "#### Transpose of a Matrix\n",
    "\n",
    "To get the transpose of a matrix :"
   ]
  },
  {
   "cell_type": "code",
   "execution_count": 141,
   "metadata": {},
   "outputs": [
    {
     "name": "stdout",
     "output_type": "stream",
     "text": [
      "ans =\n",
      "\n",
      "   24   44   38   36\n",
      "   52   57   66   73\n",
      "   66   53   69   76\n",
      "   85   40   86   72\n",
      "   15   47   25   28\n",
      "   79   72   82   91\n",
      "\n"
     ]
    }
   ],
   "source": [
    "matrx'"
   ]
  },
  {
   "cell_type": "markdown",
   "metadata": {},
   "source": [
    "#### Inverse of a Matrix\n",
    "\n",
    "The general function to get the inverse of a matrix is `inv()` but, this doesn't work if the matrix is non-invertible/singular.\n",
    "\n",
    "Therefore, we use `pinv()` function always, to get the inverse of the matrix even if its a singular matrix, i.e., the determinant of the matrix is zero."
   ]
  },
  {
   "cell_type": "code",
   "execution_count": 142,
   "metadata": {},
   "outputs": [
    {
     "name": "stdout",
     "output_type": "stream",
     "text": [
      "ans =\n",
      "\n",
      "   0.0369760   0.0688796  -0.0061891  -0.0745262\n",
      "  -0.1336491  -0.0810479   0.1054716   0.0768268\n",
      "   0.1215798   0.0630628  -0.1471438  -0.0028114\n",
      "  -0.0113169  -0.0188325   0.0514766  -0.0237743\n",
      "\n"
     ]
    }
   ],
   "source": [
    "% General inverse :\n",
    "inv(sqmat1)"
   ]
  },
  {
   "cell_type": "code",
   "execution_count": 143,
   "metadata": {},
   "outputs": [
    {
     "name": "stdout",
     "output_type": "stream",
     "text": [
      "Global_inverse =\n",
      "\n",
      "   0.0369760   0.0688796  -0.0061891  -0.0745262\n",
      "  -0.1336491  -0.0810479   0.1054716   0.0768268\n",
      "   0.1215798   0.0630628  -0.1471438  -0.0028114\n",
      "  -0.0113169  -0.0188325   0.0514766  -0.0237743\n",
      "\n"
     ]
    }
   ],
   "source": [
    "% Global inverse:\n",
    "Global_inverse = pinv(sqmat1)"
   ]
  },
  {
   "cell_type": "markdown",
   "metadata": {},
   "source": [
    "#### Eigen Values & Eigen Vectors of a Matrix\n",
    "\n",
    "To get the eigen values and eigen vectors of a matrix, we use the `eig()` as follows :"
   ]
  },
  {
   "cell_type": "code",
   "execution_count": 144,
   "metadata": {},
   "outputs": [
    {
     "name": "stdout",
     "output_type": "stream",
     "text": [
      "ans =\n",
      "\n",
      "   235.9346 +   0.0000i\n",
      "    -4.1162 +  13.0680i\n",
      "    -4.1162 -  13.0680i\n",
      "    -5.7021 +   0.0000i\n",
      "\n"
     ]
    }
   ],
   "source": [
    "eig (sqmat1)"
   ]
  },
  {
   "cell_type": "markdown",
   "metadata": {},
   "source": [
    "#### Matrix Addition, Subtraction & Multiplication"
   ]
  },
  {
   "cell_type": "code",
   "execution_count": 145,
   "metadata": {},
   "outputs": [
    {
     "name": "stdout",
     "output_type": "stream",
     "text": [
      "mat_add =\n",
      "\n",
      "    90   137    81   164\n",
      "    97    97   100   112\n",
      "   107   152    94   168\n",
      "   112   145   104   163\n",
      "\n"
     ]
    }
   ],
   "source": [
    "% To add two matrices :\n",
    "\n",
    "mat_add = sqmat1 + sqmat2"
   ]
  },
  {
   "cell_type": "code",
   "execution_count": 147,
   "metadata": {},
   "outputs": [
    {
     "name": "stdout",
     "output_type": "stream",
     "text": [
      "mat_sub =\n",
      "\n",
      "  -42  -33   51    6\n",
      "   -9   17    6  -32\n",
      "  -31  -20   44    4\n",
      "  -40    1   48  -19\n",
      "\n"
     ]
    }
   ],
   "source": [
    "% To subtract two matrices :\n",
    "\n",
    "mat_sub = sqmat1 - sqmat2"
   ]
  },
  {
   "cell_type": "code",
   "execution_count": 148,
   "metadata": {},
   "outputs": [
    {
     "name": "stdout",
     "output_type": "stream",
     "text": [
      "mat_mult =\n",
      "\n",
      "   15354   15916    6834   18787\n",
      "   12622   13458    5784   15566\n",
      "   17303   17996    7805   21238\n",
      "   16961   17700    7887   20884\n",
      "\n"
     ]
    }
   ],
   "source": [
    "% To perform matrix multiplication :\n",
    "\n",
    "mat_mult = sqmat1 * sqmat2"
   ]
  },
  {
   "cell_type": "markdown",
   "metadata": {},
   "source": [
    "#### Elementwise Matrix Multiplication & Division"
   ]
  },
  {
   "cell_type": "code",
   "execution_count": 149,
   "metadata": {},
   "outputs": [
    {
     "name": "stdout",
     "output_type": "stream",
     "text": [
      "mat_ele_mult =\n",
      "\n",
      "   1584   4420    990   6715\n",
      "   2332   2280   2491   2880\n",
      "   2622   5676   1725   7052\n",
      "   2736   5256   2128   6552\n",
      "\n"
     ]
    }
   ],
   "source": [
    "% To perform element wise matrix multiplication :\n",
    "\n",
    "mat_ele_mult = sqmat1 .* sqmat2"
   ]
  },
  {
   "cell_type": "code",
   "execution_count": 150,
   "metadata": {},
   "outputs": [
    {
     "name": "stdout",
     "output_type": "stream",
     "text": [
      "mat_ele_div =\n",
      "\n",
      "   0.36364   0.61176   4.40000   1.07595\n",
      "   0.83019   1.42500   1.12766   0.55556\n",
      "   0.55072   0.76744   2.76000   1.04878\n",
      "   0.47368   1.01389   2.71429   0.79121\n",
      "\n"
     ]
    }
   ],
   "source": [
    "% To perform element wise matrix division :\n",
    "\n",
    "mat_ele_div = sqmat1 ./ sqmat2"
   ]
  }
 ],
 "metadata": {
  "kernelspec": {
   "display_name": "Octave",
   "language": "octave",
   "name": "octave"
  },
  "language_info": {
   "file_extension": ".m",
   "help_links": [
    {
     "text": "GNU Octave",
     "url": "https://www.gnu.org/software/octave/support.html"
    },
    {
     "text": "Octave Kernel",
     "url": "https://github.com/Calysto/octave_kernel"
    },
    {
     "text": "MetaKernel Magics",
     "url": "https://metakernel.readthedocs.io/en/latest/source/README.html"
    }
   ],
   "mimetype": "text/x-octave",
   "name": "octave",
   "version": "5.2.0"
  }
 },
 "nbformat": 4,
 "nbformat_minor": 4
}
