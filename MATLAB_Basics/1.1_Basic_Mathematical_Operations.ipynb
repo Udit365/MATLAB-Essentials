{
 "cells": [
  {
   "cell_type": "markdown",
   "metadata": {},
   "source": [
    "# Basic Mathematical Operations\n",
    "---\n",
    "Some of the basic mathematical operations that can be performed in MATLAB are :\n",
    "1. Arithmetic Operations\n",
    "2. Logarithimic Operations\n",
    "3. Trigonometric Operations\n",
    "4. Rounding-off Operations\n",
    "\n",
    "Now, let's see how to write MATLAB codes for the above operations"
   ]
  },
  {
   "cell_type": "markdown",
   "metadata": {},
   "source": [
    "### 1. Arithmetic Operations\n",
    "---\n",
    "Let's create 2 variables to perform some arithmetic operations :"
   ]
  },
  {
   "cell_type": "code",
   "execution_count": 1,
   "metadata": {},
   "outputs": [
    {
     "name": "stdout",
     "output_type": "stream",
     "text": [
      "a =  50\n",
      "b =  25\n"
     ]
    }
   ],
   "source": [
    "a = 50\n",
    "b = 25"
   ]
  },
  {
   "cell_type": "markdown",
   "metadata": {},
   "source": [
    "##### Addition\n",
    "\n",
    "Adding 2 numbers/variables :"
   ]
  },
  {
   "cell_type": "code",
   "execution_count": 2,
   "metadata": {},
   "outputs": [
    {
     "name": "stdout",
     "output_type": "stream",
     "text": [
      "ans =  75\n"
     ]
    }
   ],
   "source": [
    "a + b"
   ]
  },
  {
   "cell_type": "markdown",
   "metadata": {},
   "source": [
    "##### Subtraction\n",
    "Subtracting 2 numbers/variables :"
   ]
  },
  {
   "cell_type": "code",
   "execution_count": 4,
   "metadata": {},
   "outputs": [
    {
     "name": "stdout",
     "output_type": "stream",
     "text": [
      "ans =  25\n"
     ]
    }
   ],
   "source": [
    "a - b"
   ]
  },
  {
   "cell_type": "markdown",
   "metadata": {},
   "source": [
    "##### Multiplication\n",
    "Multiplying 2 numbers/variables :"
   ]
  },
  {
   "cell_type": "code",
   "execution_count": 5,
   "metadata": {},
   "outputs": [
    {
     "name": "stdout",
     "output_type": "stream",
     "text": [
      "ans =  1250\n"
     ]
    }
   ],
   "source": [
    "a * b"
   ]
  },
  {
   "cell_type": "markdown",
   "metadata": {},
   "source": [
    "##### Division\n",
    "Dividing two numbers/variables :"
   ]
  },
  {
   "cell_type": "code",
   "execution_count": 7,
   "metadata": {},
   "outputs": [
    {
     "name": "stdout",
     "output_type": "stream",
     "text": [
      "ans =  2\n"
     ]
    }
   ],
   "source": [
    "a / b"
   ]
  },
  {
   "cell_type": "markdown",
   "metadata": {},
   "source": [
    "##### Remainder\n",
    "To get remainder of two numbers :"
   ]
  },
  {
   "cell_type": "code",
   "execution_count": 8,
   "metadata": {},
   "outputs": [
    {
     "name": "stdout",
     "output_type": "stream",
     "text": [
      "ans = 0\n"
     ]
    }
   ],
   "source": [
    "rem(a,b)"
   ]
  },
  {
   "cell_type": "markdown",
   "metadata": {},
   "source": [
    "##### Power/Exponent\n",
    "To get the 2 to the power 6 :"
   ]
  },
  {
   "cell_type": "code",
   "execution_count": 9,
   "metadata": {},
   "outputs": [
    {
     "name": "stdout",
     "output_type": "stream",
     "text": [
      "ans =  64\n"
     ]
    }
   ],
   "source": [
    "2 ^ 6"
   ]
  },
  {
   "cell_type": "markdown",
   "metadata": {},
   "source": [
    "Similarly, to find square-root of a number/variable :"
   ]
  },
  {
   "cell_type": "code",
   "execution_count": 13,
   "metadata": {},
   "outputs": [
    {
     "name": "stdout",
     "output_type": "stream",
     "text": [
      "ans =  7.0711\n"
     ]
    }
   ],
   "source": [
    "sqrt(50)"
   ]
  },
  {
   "cell_type": "markdown",
   "metadata": {},
   "source": [
    "### 2. Logarithimic Operations\n",
    "---\n",
    "To find logarithm ($ln$) value of a variable/number :"
   ]
  },
  {
   "cell_type": "code",
   "execution_count": 14,
   "metadata": {},
   "outputs": [
    {
     "name": "stdout",
     "output_type": "stream",
     "text": [
      "ans =  3.2189\n"
     ]
    }
   ],
   "source": [
    "log(25)"
   ]
  },
  {
   "cell_type": "markdown",
   "metadata": {},
   "source": [
    "Similarly to find exponent ($e^x$) of a variable/number :"
   ]
  },
  {
   "cell_type": "code",
   "execution_count": 16,
   "metadata": {},
   "outputs": [
    {
     "name": "stdout",
     "output_type": "stream",
     "text": [
      "ans =    5.1847e+21\n"
     ]
    }
   ],
   "source": [
    "exp(50)"
   ]
  },
  {
   "cell_type": "markdown",
   "metadata": {},
   "source": [
    "### 3. Trigonometric Operations\n",
    "---\n",
    "We can apply the trigonometric functions to a number/variable as follows :"
   ]
  },
  {
   "cell_type": "code",
   "execution_count": 17,
   "metadata": {},
   "outputs": [
    {
     "name": "stdout",
     "output_type": "stream",
     "text": [
      "ans = -0.30481\n",
      "ans = -0.95241\n",
      "ans =  0.32004\n"
     ]
    }
   ],
   "source": [
    "% Sine Function\n",
    "sin(60)\n",
    "\n",
    "% Cosine Function\n",
    "cos(60)\n",
    "\n",
    "%Tangent Function\n",
    "tan(60)"
   ]
  },
  {
   "cell_type": "markdown",
   "metadata": {},
   "source": [
    "Similarly, we can also apply the inverse trigonometric functions to the numbers/variables as follows :"
   ]
  },
  {
   "cell_type": "code",
   "execution_count": 18,
   "metadata": {},
   "outputs": [
    {
     "name": "stdout",
     "output_type": "stream",
     "text": [
      "ans =  1.5708 - 5.0106i\n",
      "ans =  0.00000 + 5.01059i\n",
      "ans =  1.5575\n"
     ]
    }
   ],
   "source": [
    "% Sine Inverse Function\n",
    "asin(75)\n",
    "\n",
    "% Cosine Inverse Function\n",
    "acos(75)\n",
    "\n",
    "% Tangent Inverse Function\n",
    "atan(75)"
   ]
  },
  {
   "cell_type": "markdown",
   "metadata": {},
   "source": [
    "##### Rounding-off Operations\n",
    "Let's say we have 2 decimal variables as follows :"
   ]
  },
  {
   "cell_type": "code",
   "execution_count": 19,
   "metadata": {},
   "outputs": [
    {
     "name": "stdout",
     "output_type": "stream",
     "text": [
      "var1 =  5.4000\n",
      "var2 =  5.6000\n"
     ]
    }
   ],
   "source": [
    "var1 = 5.4\n",
    "var2 = 5.6"
   ]
  },
  {
   "cell_type": "markdown",
   "metadata": {},
   "source": [
    "Now, to round-off the decimal numbers into integers, we have 3 functions :\n",
    "\n",
    "- `round()` : Rounds-off the number to its closest integer\n",
    "- `ceil()` : Rounds-off the number to its larger closest integer\n",
    "- `floor()` : Rounds-off the number to its smaller closest integer\n",
    "\n",
    "The output of the above 3 functions are as follows :"
   ]
  },
  {
   "cell_type": "code",
   "execution_count": 20,
   "metadata": {},
   "outputs": [
    {
     "name": "stdout",
     "output_type": "stream",
     "text": [
      "ans =  5\n",
      "ans =  6\n"
     ]
    }
   ],
   "source": [
    "% round() function\n",
    "\n",
    "round(var1)\n",
    "round(var2)"
   ]
  },
  {
   "cell_type": "code",
   "execution_count": 23,
   "metadata": {},
   "outputs": [
    {
     "name": "stdout",
     "output_type": "stream",
     "text": [
      "ans =  6\n",
      "ans =  6\n"
     ]
    }
   ],
   "source": [
    "% ceil() function\n",
    "\n",
    "ceil(var1)\n",
    "ceil(var2)"
   ]
  },
  {
   "cell_type": "code",
   "execution_count": 24,
   "metadata": {},
   "outputs": [
    {
     "name": "stdout",
     "output_type": "stream",
     "text": [
      "ans =  5\n",
      "ans =  5\n"
     ]
    }
   ],
   "source": [
    "% floor() function\n",
    "\n",
    "floor(var1)\n",
    "floor(var2)"
   ]
  },
  {
   "cell_type": "markdown",
   "metadata": {},
   "source": [
    "There are some special variables available in MATLAB that helps in mathematical operations.\n",
    "\n",
    "They are as follows :\n",
    "\n",
    "* `pi` : Contains the number *`3.141`*\n",
    "* `i` : Contains imaginary number *`0+1i`*\n",
    "* `eps`: Returns the machine precesion value\n",
    "* `inf` : It refers to infinity\n",
    "* `NaN` : It refers to *Not a Number*,i.e., values like `0/0`,`inf/inf` etc.\n",
    "* `ans` : It stores the last displayed result\n",
    "* `realmax`: Contains the largest real number\n",
    "* `intmax` : Contains the largest integer number\n",
    "* `end` : It refers to the last element of an array"
   ]
  }
 ],
 "metadata": {
  "kernelspec": {
   "display_name": "Octave",
   "language": "octave",
   "name": "octave"
  },
  "language_info": {
   "file_extension": ".m",
   "help_links": [
    {
     "text": "GNU Octave",
     "url": "https://www.gnu.org/software/octave/support.html"
    },
    {
     "text": "Octave Kernel",
     "url": "https://github.com/Calysto/octave_kernel"
    },
    {
     "text": "MetaKernel Magics",
     "url": "https://metakernel.readthedocs.io/en/latest/source/README.html"
    }
   ],
   "mimetype": "text/x-octave",
   "name": "octave",
   "version": "5.2.0"
  }
 },
 "nbformat": 4,
 "nbformat_minor": 4
}
