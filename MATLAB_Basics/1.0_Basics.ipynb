{
 "cells": [
  {
   "cell_type": "markdown",
   "metadata": {},
   "source": [
    "# Basics\n",
    "\n",
    "The basic operation in MATLAB includes the following 10 operations :\n",
    "\n",
    "1. Defining Variables\n",
    "2. Creating Array, List, Matrix & Vectors\n",
    "3. Supressing \"Echo\"\n",
    "4. Displaying results\n",
    "5. Adding comment lines\n",
    "6. Clearing command line interface\n",
    "7. Monitoring & Clearing variables\n",
    "8. Importing & exporting data\n",
    "9. Getting help from MATLAB\n",
    "10. Quitting\n",
    "\n",
    "Here is the description and process of doing the above 10 basic operations in MATLAB/OCTAVE :"
   ]
  },
  {
   "cell_type": "markdown",
   "metadata": {},
   "source": [
    "##### Defining Variables :\n",
    "The following code assigns a value of `5` to the variable `a` and `6` to the variable `A`."
   ]
  },
  {
   "cell_type": "code",
   "execution_count": 1,
   "metadata": {},
   "outputs": [
    {
     "name": "stdout",
     "output_type": "stream",
     "text": [
      "a =  5\n",
      "A =  6\n"
     ]
    }
   ],
   "source": [
    "a = 5\n",
    "A = 6"
   ]
  },
  {
   "cell_type": "markdown",
   "metadata": {},
   "source": [
    "To define multiple variables at once, we can use the comma (`,`) separator :"
   ]
  },
  {
   "cell_type": "code",
   "execution_count": 2,
   "metadata": {},
   "outputs": [
    {
     "name": "stdout",
     "output_type": "stream",
     "text": [
      "a1 =  2\n",
      "a2 =  5\n",
      "a3 =  7\n"
     ]
    }
   ],
   "source": [
    "a1 = 2, a2 = 5, a3 = 7"
   ]
  },
  {
   "cell_type": "markdown",
   "metadata": {},
   "source": [
    "> Note :\n",
    " *MATLAB variables are case-sensitive.*"
   ]
  },
  {
   "cell_type": "markdown",
   "metadata": {},
   "source": [
    "##### Creating Array :\n",
    "\n",
    "A one-dimensional row matrix is otherwise called as an array and the following code generates an array of integers from `1` to `5`."
   ]
  },
  {
   "cell_type": "code",
   "execution_count": 3,
   "metadata": {},
   "outputs": [
    {
     "name": "stdout",
     "output_type": "stream",
     "text": [
      "b =\n",
      "\n",
      "   1   2   3   4   5\n",
      "\n"
     ]
    }
   ],
   "source": [
    "b = [1:5]"
   ]
  },
  {
   "cell_type": "markdown",
   "metadata": {},
   "source": [
    "##### Creating List :\n",
    "\n",
    "The following code generates a list of numbers from `1` to `15` :"
   ]
  },
  {
   "cell_type": "code",
   "execution_count": 6,
   "metadata": {},
   "outputs": [
    {
     "name": "stdout",
     "output_type": "stream",
     "text": [
      "list =\n",
      "\n",
      "    1    2    3    4    5    6    7    8    9   10   11   12   13   14   15\n",
      "\n"
     ]
    }
   ],
   "source": [
    "list = 1:15"
   ]
  },
  {
   "cell_type": "markdown",
   "metadata": {},
   "source": [
    "The following code generates a list from `10` to `100` with a gap of `10` between two consecutive numbers :"
   ]
  },
  {
   "cell_type": "code",
   "execution_count": 8,
   "metadata": {},
   "outputs": [
    {
     "name": "stdout",
     "output_type": "stream",
     "text": [
      "list =\n",
      "\n",
      "    10    20    30    40    50    60    70    80    90   100\n",
      "\n"
     ]
    }
   ],
   "source": [
    "list = 10:10:100"
   ]
  },
  {
   "cell_type": "markdown",
   "metadata": {},
   "source": [
    "Similarly, the below code generates a list from `10` to `100` in reverse order with a gap of `20` :"
   ]
  },
  {
   "cell_type": "code",
   "execution_count": 13,
   "metadata": {},
   "outputs": [
    {
     "name": "stdout",
     "output_type": "stream",
     "text": [
      "list =\n",
      "\n",
      "   100    80    60    40    20\n",
      "\n"
     ]
    }
   ],
   "source": [
    "list = 100:-20:10"
   ]
  },
  {
   "cell_type": "markdown",
   "metadata": {},
   "source": [
    "We can also generate the list of decimal numbers in the same manner as well.\n",
    "\n",
    "***For Example :*** The following code generates a list from `1` to `2` with a gap of `0.1`"
   ]
  },
  {
   "cell_type": "code",
   "execution_count": 14,
   "metadata": {},
   "outputs": [
    {
     "name": "stdout",
     "output_type": "stream",
     "text": [
      "list =\n",
      "\n",
      " Columns 1 through 8:\n",
      "\n",
      "    1.0000    1.1000    1.2000    1.3000    1.4000    1.5000    1.6000    1.7000\n",
      "\n",
      " Columns 9 through 11:\n",
      "\n",
      "    1.8000    1.9000    2.0000\n",
      "\n"
     ]
    }
   ],
   "source": [
    "list = 1:0.1:2"
   ]
  },
  {
   "cell_type": "markdown",
   "metadata": {},
   "source": [
    "##### Creating Matrix :\n",
    "\n",
    "The following code generate a `(3x3)` matrix :"
   ]
  },
  {
   "cell_type": "code",
   "execution_count": 15,
   "metadata": {},
   "outputs": [
    {
     "name": "stdout",
     "output_type": "stream",
     "text": [
      "mtrx =\n",
      "\n",
      "   1   2   3\n",
      "   4   5   6\n",
      "   7   8   9\n",
      "\n"
     ]
    }
   ],
   "source": [
    "mtrx = [1,2,3; 4,5,6; 7,8,9]"
   ]
  },
  {
   "cell_type": "markdown",
   "metadata": {},
   "source": [
    "##### Creating Vector :\n",
    "\n",
    "A vector is nothing but a column matrix, i.e., it has only one column and its dimension is determined by the number of rows it has.\n",
    "\n",
    "So, the following code generates a vector of `4-dimension (R4)`,i.e., a column matrix with four rows :\n"
   ]
  },
  {
   "cell_type": "code",
   "execution_count": 16,
   "metadata": {},
   "outputs": [
    {
     "name": "stdout",
     "output_type": "stream",
     "text": [
      "vec =\n",
      "\n",
      "   1\n",
      "   2\n",
      "   3\n",
      "   4\n",
      "\n"
     ]
    }
   ],
   "source": [
    "vec = [1;2;3;4]"
   ]
  },
  {
   "cell_type": "markdown",
   "metadata": {},
   "source": [
    "##### Supressing \"Echo\" :\n",
    "\n",
    "In MATLAB command window, as soon as we hit enter after writing some codes or, after defining some variables then, its get executed immediately.\n",
    "\n",
    "If we don't want this to be happen then, we can just put a `semi-colon (;)` at the end of our code.\n",
    "\n",
    "***For Example :*** In the following example, we have defined two variables but, only printed the sum of those two variables :"
   ]
  },
  {
   "cell_type": "code",
   "execution_count": 24,
   "metadata": {},
   "outputs": [
    {
     "name": "stdout",
     "output_type": "stream",
     "text": [
      "ans =  12.890\n"
     ]
    }
   ],
   "source": [
    "var1 = 5.32548;\n",
    "var2 = 7.56489;\n",
    "var1 + var2"
   ]
  },
  {
   "cell_type": "markdown",
   "metadata": {},
   "source": [
    "> ***Note :*** By putting `;` at the end of the code only restricts it from execution but, the variable gets defined as usual."
   ]
  },
  {
   "cell_type": "markdown",
   "metadata": {},
   "source": [
    "##### Displaying Results :\n",
    "\n",
    "If we want to display a string then, we can do so by using `disp()` command :"
   ]
  },
  {
   "cell_type": "code",
   "execution_count": 19,
   "metadata": {},
   "outputs": [
    {
     "name": "stdout",
     "output_type": "stream",
     "text": [
      "hello world\n"
     ]
    }
   ],
   "source": [
    "disp(\"hello world\")"
   ]
  },
  {
   "cell_type": "markdown",
   "metadata": {},
   "source": [
    "We can use this `disp()` to beautifully execute the programming outputs, as follows :"
   ]
  },
  {
   "cell_type": "code",
   "execution_count": 25,
   "metadata": {},
   "outputs": [
    {
     "name": "stdout",
     "output_type": "stream",
     "text": [
      "The number is : 5.3255\n"
     ]
    }
   ],
   "source": [
    "disp([\"The number is : \", num2str(var1)])"
   ]
  },
  {
   "cell_type": "markdown",
   "metadata": {},
   "source": [
    "The `num2str()` function converts the number format (integer/float/double etc.) into string.\n",
    "\n",
    "Similarly, we have a much advanced way of executing the same result, i.e., by using `fprintf()`, as follows :"
   ]
  },
  {
   "cell_type": "code",
   "execution_count": 26,
   "metadata": {},
   "outputs": [
    {
     "name": "stdout",
     "output_type": "stream",
     "text": [
      "factorial value is : 5.32548 \n"
     ]
    }
   ],
   "source": [
    "fprintf(\"factorial value is : %4i \\n\", var1)"
   ]
  },
  {
   "cell_type": "markdown",
   "metadata": {},
   "source": [
    "In the above code, \n",
    "- `%` is used as a pointer that points to the second argumnet of `fprintf()`, i.e., `var1`.\n",
    "- `4i` we restrict the output upto 4 integers.\n",
    "- `\\n` represents a new line"
   ]
  },
  {
   "cell_type": "markdown",
   "metadata": {},
   "source": [
    "##### Comment Lines :\n",
    "\n",
    "Comments are helpful in better understanding of codes and in MATLAB, anything written after a `percentage (%)` symbol is considered as a comment."
   ]
  },
  {
   "cell_type": "code",
   "execution_count": 27,
   "metadata": {},
   "outputs": [],
   "source": [
    "% This is a comment\n",
    "% Comment lines are ingoned by MATLAB compiler."
   ]
  },
  {
   "cell_type": "markdown",
   "metadata": {},
   "source": [
    "Similarly, If we want to write multi-line comments or, a block of comments then, we can do so, as follows :"
   ]
  },
  {
   "cell_type": "code",
   "execution_count": 28,
   "metadata": {},
   "outputs": [],
   "source": [
    "%{\n",
    "    This is a multi-line comment block.\n",
    "    We can write questions, queries and other things here.\n",
    "    1. We can give bullet points too.\n",
    "    2. All of these will be ignored by the compiler.\n",
    "%}"
   ]
  },
  {
   "cell_type": "markdown",
   "metadata": {},
   "source": [
    "##### Monitoring Variables\n",
    "\n",
    "To see all the variables created so far, we need to pass the `who` command :"
   ]
  },
  {
   "cell_type": "code",
   "execution_count": 29,
   "metadata": {},
   "outputs": [
    {
     "name": "stdout",
     "output_type": "stream",
     "text": [
      "Variables in the current scope:\n",
      "\n",
      "A     a     a1    a2    a3    ans   b     list  mtrx  var1  var2  vec\n",
      "\n"
     ]
    }
   ],
   "source": [
    "who"
   ]
  },
  {
   "cell_type": "markdown",
   "metadata": {},
   "source": [
    "To see the datatype and other related information along with the datatypes, we need to pass the `whos` command :"
   ]
  },
  {
   "cell_type": "code",
   "execution_count": 31,
   "metadata": {},
   "outputs": [
    {
     "name": "stdout",
     "output_type": "stream",
     "text": [
      "Variables in the current scope:\n",
      "\n",
      "   Attr Name        Size                     Bytes  Class\n",
      "   ==== ====        ====                     =====  ===== \n",
      "        A           1x1                          8  double\n",
      "        a           1x1                          8  double\n",
      "        a1          1x1                          8  double\n",
      "        a2          1x1                          8  double\n",
      "        a3          1x1                          8  double\n",
      "        ans         1x1                          8  double\n",
      "        b           1x5                         40  double\n",
      "        list        1x11                        24  double\n",
      "        mtrx        3x3                         72  double\n",
      "        var1        1x1                          8  double\n",
      "        var2        1x1                          8  double\n",
      "        vec         4x1                         32  double\n",
      "\n",
      "Total is 37 elements using 232 bytes\n",
      "\n"
     ]
    }
   ],
   "source": [
    "whos"
   ]
  },
  {
   "cell_type": "markdown",
   "metadata": {},
   "source": [
    "##### Clearing Command Window :\n",
    "\n",
    "The command window easily get messy after writing a couple of codes and in order to clear the screen, we just need to pass the command `clc`.\n",
    "\n",
    "> Note : `clc` command don't remove any variables and just clears the command window for smoother user experience."
   ]
  },
  {
   "cell_type": "markdown",
   "metadata": {},
   "source": [
    "##### Clearing Variables :\n",
    "\n",
    "To clear any specific variable, we need to pass the following command :"
   ]
  },
  {
   "cell_type": "code",
   "execution_count": 36,
   "metadata": {},
   "outputs": [
    {
     "name": "stdout",
     "output_type": "stream",
     "text": [
      "Variables in the current scope:\n",
      "\n",
      "A     a     a1    a2    a3    ans   b     list  mtrx  var1  vec\n",
      "\n"
     ]
    }
   ],
   "source": [
    "clear var2\n",
    "who"
   ]
  },
  {
   "cell_type": "markdown",
   "metadata": {},
   "source": [
    "To clear multiple variables at once, we need to follow the below steps :"
   ]
  },
  {
   "cell_type": "code",
   "execution_count": 39,
   "metadata": {},
   "outputs": [
    {
     "name": "stdout",
     "output_type": "stream",
     "text": [
      "Variables in the current scope:\n",
      "\n",
      "ans   list  mtrx  var1  vec\n",
      "\n"
     ]
    }
   ],
   "source": [
    "% Creating an array of variables that needs to be removed, as follows :\n",
    "\n",
    "temp = {\"A\",\"a\",\"a1\",\"a2\",\"a3\",\"b\"};\n",
    "\n",
    "% Pass the following command to remove the variables :\n",
    "\n",
    "clear(temp{:})\n",
    "\n",
    "% Removing the temporary array created :\n",
    "\n",
    "clear temp\n",
    "\n",
    "% Checking for successful deletion of variables :\n",
    "\n",
    "who"
   ]
  },
  {
   "cell_type": "markdown",
   "metadata": {},
   "source": [
    "Similarly, if we want to clear all the variables at once, then we just need to pass the command `clear` :"
   ]
  },
  {
   "cell_type": "code",
   "execution_count": 40,
   "metadata": {},
   "outputs": [],
   "source": [
    "% Clearing all the variables\n",
    "\n",
    "clear\n",
    "\n",
    "% Checking for successful deletion of variables :\n",
    "\n",
    "who"
   ]
  },
  {
   "cell_type": "markdown",
   "metadata": {},
   "source": [
    "##### Importing Data Into MATLAB\n",
    "\n",
    "To load any .txt/.csv/.dat file into MATLAB, we first need to change the directory (if the datafile is in some other directory) by using the `cd` command in the command window, as follows :"
   ]
  },
  {
   "cell_type": "code",
   "execution_count": 41,
   "metadata": {},
   "outputs": [],
   "source": [
    "cd 'F:\\Github Repos\\MATLAB-Essentials\\Datasets'"
   ]
  },
  {
   "cell_type": "markdown",
   "metadata": {},
   "source": [
    ">***Note :*** Here the directory address must be written withing single quotes (`''`) only.\n",
    "\n",
    "Then, we can pass the `load` command followed by the file name to import it, as follows :"
   ]
  },
  {
   "cell_type": "code",
   "execution_count": 43,
   "metadata": {},
   "outputs": [],
   "source": [
    "load PopulationProfit.txt"
   ]
  },
  {
   "cell_type": "markdown",
   "metadata": {},
   "source": [
    "Now, to view the dataset, we can just pass the dataset name, as follows :"
   ]
  },
  {
   "cell_type": "code",
   "execution_count": 47,
   "metadata": {},
   "outputs": [
    {
     "name": "stdout",
     "output_type": "stream",
     "text": [
      "PopulationProfit =\n",
      "\n",
      "    6.11010   17.59200\n",
      "    5.52770    9.13020\n",
      "    8.51860   13.66200\n",
      "    7.00320   11.85400\n",
      "    5.85980    6.82330\n",
      "    8.38290   11.88600\n",
      "    7.47640    4.34830\n",
      "    8.57810   12.00000\n",
      "    6.48620    6.59870\n",
      "    5.05460    3.81660\n",
      "    5.71070    3.25220\n",
      "   14.16400   15.50500\n",
      "    5.73400    3.15510\n",
      "    8.40840    7.22580\n",
      "    5.64070    0.71618\n",
      "    5.37940    3.51290\n",
      "    6.36540    5.30480\n",
      "    5.13010    0.56077\n",
      "    6.42960    3.65180\n",
      "    7.07080    5.38930\n",
      "    6.18910    3.13860\n",
      "   20.27000   21.76700\n",
      "    5.49010    4.26300\n",
      "    6.32610    5.18750\n",
      "    5.56490    3.08250\n",
      "   18.94500   22.63800\n",
      "   12.82800   13.50100\n",
      "   10.95700    7.04670\n",
      "   13.17600   14.69200\n",
      "   22.20300   24.14700\n",
      "    5.25240   -1.22000\n",
      "    6.58940    5.99660\n",
      "    9.24820   12.13400\n",
      "    5.89180    1.84950\n",
      "    8.21110    6.54260\n",
      "    7.93340    4.56230\n",
      "    8.09590    4.11640\n",
      "    5.60630    3.39280\n",
      "   12.83600   10.11700\n",
      "    6.35340    5.49740\n",
      "    5.40690    0.55657\n",
      "    6.88250    3.91150\n",
      "   11.70800    5.38540\n",
      "    5.77370    2.44060\n",
      "    7.82470    6.73180\n",
      "    7.09310    1.04630\n",
      "    5.07020    5.13370\n",
      "    5.80140    1.84400\n",
      "   11.70000    8.00430\n",
      "    5.54160    1.01790\n",
      "    7.54020    6.75040\n",
      "    5.30770    1.83960\n",
      "    7.42390    4.28850\n",
      "    7.60310    4.99810\n",
      "    6.33280    1.42330\n",
      "    6.35890   -1.42110\n",
      "    6.27420    2.47560\n",
      "    5.63970    4.60420\n",
      "    9.31020    3.96240\n",
      "    9.45360    5.41410\n",
      "    8.82540    5.16940\n",
      "    5.17930   -0.74279\n",
      "   21.27900   17.92900\n",
      "   14.90800   12.05400\n",
      "   18.95900   17.05400\n",
      "    7.21820    4.88520\n",
      "    8.29510    5.74420\n",
      "   10.23600    7.77540\n",
      "    5.49940    1.01730\n",
      "   20.34100   20.99200\n",
      "   10.13600    6.67990\n",
      "    7.33450    4.02590\n",
      "    6.00620    1.27840\n",
      "    7.22590    3.34110\n",
      "    5.02690   -2.68070\n",
      "    6.54790    0.29678\n",
      "    7.53860    3.88450\n",
      "    5.03650    5.70140\n",
      "   10.27400    6.75260\n",
      "    5.10770    2.05760\n",
      "    5.72920    0.47953\n",
      "    5.18840    0.20421\n",
      "    6.35570    0.67861\n",
      "    9.76870    7.54350\n",
      "    6.51590    5.34360\n",
      "    8.51720    4.24150\n",
      "    9.18020    6.79810\n",
      "    6.00200    0.92695\n",
      "    5.52040    0.15200\n",
      "    5.05940    2.82140\n",
      "    5.70770    1.84510\n",
      "    7.63660    4.29590\n",
      "    5.87070    7.20290\n",
      "    5.30540    1.98690\n",
      "    8.29340    0.14454\n",
      "   13.39400    9.05510\n",
      "    5.43690    0.61705\n",
      "\n"
     ]
    }
   ],
   "source": [
    "PopulationProfit"
   ]
  },
  {
   "cell_type": "markdown",
   "metadata": {},
   "source": [
    "##### Exporting Data From MATLAB\n",
    "\n",
    "Suppose, we made some changes to the dataset and then, we want to save the transformed/changed data in a *.txt* file.\n",
    "\n",
    "To do this we have to pass the `save` command followed by the filename for the new dataset and the dataset variable as follows :"
   ]
  },
  {
   "cell_type": "code",
   "execution_count": 49,
   "metadata": {},
   "outputs": [
    {
     "name": "stdout",
     "output_type": "stream",
     "text": [
      "NewData =\n",
      "\n",
      "    6.1101   17.5920\n",
      "    5.5277    9.1302\n",
      "    8.5186   13.6620\n",
      "    7.0032   11.8540\n",
      "    5.8598    6.8233\n",
      "    8.3829   11.8860\n",
      "    7.4764    4.3483\n",
      "    8.5781   12.0000\n",
      "    6.4862    6.5987\n",
      "    5.0546    3.8166\n",
      "\n"
     ]
    }
   ],
   "source": [
    "NewData = PopulationProfit(1:10,:)\n",
    "save TransformedData.txt NewData -ascii"
   ]
  },
  {
   "cell_type": "markdown",
   "metadata": {},
   "source": [
    "Simlarly, to save our data in a *.mat* file :"
   ]
  },
  {
   "cell_type": "code",
   "execution_count": 50,
   "metadata": {},
   "outputs": [],
   "source": [
    "save TransformedData.mat NewData"
   ]
  },
  {
   "cell_type": "markdown",
   "metadata": {},
   "source": [
    "##### Getting Help in MATLAB\n",
    "\n",
    "It is very obvious to forget the syntax and use of certain commands and sometimes we might need a quick reference to a certain function.\n",
    "\n",
    "This need can be fulfilled with the `help` command in MATLAB.\n",
    "\n",
    "So, suppose we need a quick referce on the `disp` command, so we can just write `help` followed by the required search object in the command window, as :`help disp`"
   ]
  },
  {
   "cell_type": "markdown",
   "metadata": {},
   "source": [
    "##### Exiting The Interface\n",
    "\n",
    "To quit the MATLAB session, we can just pass `exit` or, `quit` command on the command prompt."
   ]
  }
 ],
 "metadata": {
  "kernelspec": {
   "display_name": "Octave",
   "language": "octave",
   "name": "octave"
  },
  "language_info": {
   "file_extension": ".m",
   "help_links": [
    {
     "text": "GNU Octave",
     "url": "https://www.gnu.org/software/octave/support.html"
    },
    {
     "text": "Octave Kernel",
     "url": "https://github.com/Calysto/octave_kernel"
    },
    {
     "text": "MetaKernel Magics",
     "url": "https://metakernel.readthedocs.io/en/latest/source/README.html"
    }
   ],
   "mimetype": "text/x-octave",
   "name": "octave",
   "version": "5.2.0"
  }
 },
 "nbformat": 4,
 "nbformat_minor": 4
}
