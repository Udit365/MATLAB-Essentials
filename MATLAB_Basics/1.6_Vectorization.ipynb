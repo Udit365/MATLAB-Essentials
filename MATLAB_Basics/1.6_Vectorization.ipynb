{
 "cells": [
  {
   "cell_type": "markdown",
   "metadata": {},
   "source": [
    "# Vectorization\n",
    "\n",
    "Vectorization of codes is a technique by virtue of which we can write simple and lesser code to execute a certain task.The code execution is faster and bug-free with vectorized codes.\n",
    "\n",
    "Let's see some examples of unvectorized codes along with their vectorized forms."
   ]
  },
  {
   "cell_type": "markdown",
   "metadata": {},
   "source": [
    "### Hypothesis for Linear Regression\n",
    "---\n",
    "The hypothesis for linear regression is : $h_\\theta(x)= \\sum_{j=0}^{10} \\theta_j x_j$\n",
    "\n",
    "The matrix form of the above equation is : $h_\\theta(x)= \\theta^Tx$\n",
    "\n",
    "Now the unvectorized implementation of this hypothesis function in MATLAB/OCTAVE would be as follows :\n",
    "\n",
    "```matlab\n",
    "prediction = 0.0;\n",
    "for j = 1:n+1\n",
    "  prediction = prediction + ( theta(j) * x(j) );\n",
    "end\n",
    "```\n",
    "\n",
    "The vectorized implementation of the above code would be :\n",
    "\n",
    "```MATLAB\n",
    "prediction = theta' * x\n",
    "```"
   ]
  },
  {
   "cell_type": "markdown",
   "metadata": {},
   "source": [
    "### Matrix Multiplication\n",
    "---\n",
    "The unvectorized implementation of a matrix multiplication would be :"
   ]
  },
  {
   "cell_type": "code",
   "execution_count": 3,
   "metadata": {},
   "outputs": [
    {
     "name": "stdout",
     "output_type": "stream",
     "text": [
      "matmul =\n",
      "\n",
      "  -0.050416\n",
      "  -4.867091\n",
      "  -2.711830\n",
      "  -1.850378\n",
      "   2.222094\n",
      "  -0.699621\n",
      "  -4.840826\n",
      "   3.803589\n",
      "  -4.490678\n",
      "   0.783548\n",
      "\n"
     ]
    }
   ],
   "source": [
    "% Defining the variables\n",
    "\n",
    "matmul = zeros (10,1);\n",
    "A = randn (10,10);\n",
    "B = randn (10,1);\n",
    "\n",
    "% Running the nested for loop\n",
    "\n",
    "for i = 1:10\n",
    "    for j = 1:10\n",
    "        matmul(i) = matmul(i) + A(i,j) * B(j);\n",
    "    end\n",
    "end\n",
    "\n",
    "% Printing the matrix\n",
    "\n",
    "matmul"
   ]
  },
  {
   "cell_type": "markdown",
   "metadata": {},
   "source": [
    "We can vectorize the above `for` loop as follows :"
   ]
  },
  {
   "cell_type": "code",
   "execution_count": 4,
   "metadata": {},
   "outputs": [
    {
     "name": "stdout",
     "output_type": "stream",
     "text": [
      "matmul =\n",
      "\n",
      "  -0.050416\n",
      "  -4.867091\n",
      "  -2.711830\n",
      "  -1.850378\n",
      "   2.222094\n",
      "  -0.699621\n",
      "  -4.840826\n",
      "   3.803589\n",
      "  -4.490678\n",
      "   0.783548\n",
      "\n"
     ]
    }
   ],
   "source": [
    "matmul = A * B"
   ]
  },
  {
   "cell_type": "markdown",
   "metadata": {},
   "source": [
    "### Element-wise Multiplication of Vectors & Resultant Sum\n",
    "\n",
    "Suppose we want to perform the element-wise multiplication of two vectors and add all the resultant elements then, we can do so in an unvectorized manner as follows :"
   ]
  },
  {
   "cell_type": "code",
   "execution_count": 6,
   "metadata": {},
   "outputs": [
    {
     "name": "stdout",
     "output_type": "stream",
     "text": [
      "total =  1.1420\n"
     ]
    }
   ],
   "source": [
    "% Defining the variables\n",
    "\n",
    "total = 0;\n",
    "\n",
    "x = randn(7,1);\n",
    "y = randn(7,1);\n",
    "\n",
    "% Performing element-wise multiplication and summing the resultant\n",
    "\n",
    "for i = 1:7\n",
    "    total = total + x(i) * y(i);\n",
    "end\n",
    "\n",
    "% Executing the result\n",
    "\n",
    "total"
   ]
  },
  {
   "cell_type": "markdown",
   "metadata": {},
   "source": [
    "The vectorized approach for the above problem would be :"
   ]
  },
  {
   "cell_type": "code",
   "execution_count": 10,
   "metadata": {},
   "outputs": [
    {
     "name": "stdout",
     "output_type": "stream",
     "text": [
      "total =  1.1420\n",
      "total =  1.1420\n"
     ]
    }
   ],
   "source": [
    "total = sum (x .* y)\n",
    "\n",
    "% or,\n",
    "\n",
    "total = x' * y"
   ]
  }
 ],
 "metadata": {
  "kernelspec": {
   "display_name": "Octave",
   "language": "octave",
   "name": "octave"
  },
  "language_info": {
   "file_extension": ".m",
   "help_links": [
    {
     "text": "GNU Octave",
     "url": "https://www.gnu.org/software/octave/support.html"
    },
    {
     "text": "Octave Kernel",
     "url": "https://github.com/Calysto/octave_kernel"
    },
    {
     "text": "MetaKernel Magics",
     "url": "https://metakernel.readthedocs.io/en/latest/source/README.html"
    }
   ],
   "mimetype": "text/x-octave",
   "name": "octave",
   "version": "5.2.0"
  }
 },
 "nbformat": 4,
 "nbformat_minor": 4
}
