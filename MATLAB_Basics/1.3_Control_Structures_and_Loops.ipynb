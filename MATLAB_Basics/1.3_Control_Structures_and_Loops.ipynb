{
 "cells": [
  {
   "cell_type": "markdown",
   "metadata": {},
   "source": [
    "# Control Structure & Loops"
   ]
  },
  {
   "cell_type": "markdown",
   "metadata": {},
   "source": [
    "## Control Structure\n",
    "\n",
    "---\n",
    "\n",
    "### `if` Statement\n",
    "\n",
    "---\n",
    "\n",
    "`if` statement is a simple example of conditional execution and mostly used with loop structures.\n",
    "\n",
    "The following example illustrates a simple `if` statement :"
   ]
  },
  {
   "cell_type": "code",
   "execution_count": 3,
   "metadata": {},
   "outputs": [],
   "source": [
    "% initiating the variable\n",
    "\n",
    "a = 5;\n",
    "\n",
    "% if-condition\n",
    "\n",
    "if a == 2\n",
    "    disp(\"The value of 'a' is 2\")\n",
    "endif"
   ]
  },
  {
   "cell_type": "markdown",
   "metadata": {},
   "source": [
    "> ***Note:*** If the condition given is not met then nothing will be executed in the command window."
   ]
  },
  {
   "cell_type": "markdown",
   "metadata": {},
   "source": [
    "### `if-else` Statement\n",
    "\n",
    "---\n",
    "\n",
    "The following example illustrates a simple `if-else` statement :"
   ]
  },
  {
   "cell_type": "code",
   "execution_count": 5,
   "metadata": {},
   "outputs": [
    {
     "name": "stdout",
     "output_type": "stream",
     "text": [
      "The value is not 2\n"
     ]
    }
   ],
   "source": [
    "% Initialize the vector\n",
    "\n",
    "v = [1:10]';\n",
    "\n",
    "% if-else statement\n",
    "\n",
    "if v(1) == 2\n",
    "    disp(\"The value is 2\")\n",
    "else\n",
    "    disp(\"The value is not 2\")\n",
    "endif"
   ]
  },
  {
   "cell_type": "markdown",
   "metadata": {},
   "source": [
    "#### Nested `if-else` Statement\n",
    "\n",
    "---\n",
    "\n",
    "When multiple `if-else` statements are nested within each other then, its called as a nested `if-else` statment.\n",
    "\n",
    "Following is the example of a nested `if-else` statement :"
   ]
  },
  {
   "cell_type": "code",
   "execution_count": 9,
   "metadata": {},
   "outputs": [
    {
     "name": "stdout",
     "output_type": "stream",
     "text": [
      "The value is 1\n"
     ]
    }
   ],
   "source": [
    "% Initialize the vector\n",
    "\n",
    "v = [1:10]';\n",
    "\n",
    "% nested if-else statement\n",
    "\n",
    "if v(1) == 2\n",
    "    disp(\"The value is 2\")\n",
    "elseif v(1) == 1\n",
    "    disp(\"The value is 1\")\n",
    "elseif v(1) == 5\n",
    "    disp(\"The value is 5\")\n",
    "else\n",
    "    disp(\"The value is not 1 or, 2 or, 5\")\n",
    "endif"
   ]
  },
  {
   "cell_type": "markdown",
   "metadata": {},
   "source": [
    "## Loops\n",
    "\n",
    "---\n",
    "\n",
    "The two major loops present in MATLAB are :\n",
    "\n",
    "1. `for` Loop\n",
    "2. `while` Loop"
   ]
  },
  {
   "cell_type": "markdown",
   "metadata": {},
   "source": [
    "### `for` Loop\n",
    "\n",
    "---\n",
    "\n",
    "The `for` loop is used when a set of operations are to be repeated for a specific number of times.\n",
    "\n",
    "The below `for` loop syntax shows, how we can execute a certain code for 10 times :\n",
    "\n",
    "```matlab\n",
    "for i = 1:10\n",
    "    <statement 1>;\n",
    "    <statement 2>;\n",
    "    ...\n",
    "    ...\n",
    "    <statement n>;\n",
    "end\n",
    "```\n",
    "\n",
    "#### Example of `for` Loop :\n",
    "---\n",
    "\n",
    "1. Find the first 10 terms of a fibonacci series.\n",
    "\n",
    ">*fibonacci series :* $1,1,2,3,5,8,.....$"
   ]
  },
  {
   "cell_type": "code",
   "execution_count": 14,
   "metadata": {},
   "outputs": [
    {
     "name": "stdout",
     "output_type": "stream",
     "text": [
      "fibo =\n",
      "\n",
      "    1    1    2    3    5    8   13   21   34   55\n",
      "\n"
     ]
    }
   ],
   "source": [
    "% Number of times loop needs to be learn\n",
    "\n",
    "n = 10;\n",
    "\n",
    "% Initializing fibonacci series array\n",
    "\n",
    "fibo = [1,1];\n",
    "\n",
    "% Running the loop\n",
    "\n",
    "for i = 3:n\n",
    "    fibo(i) = fibo(i-1) + fibo(i-2);\n",
    "end\n",
    "\n",
    "% Executing the result\n",
    "\n",
    "fibo"
   ]
  },
  {
   "cell_type": "markdown",
   "metadata": {},
   "source": [
    "### `while` Loop\n",
    "\n",
    "---\n",
    "\n",
    "The `while` loop is used when a set of operations is to be repeated if a certain condition is met.\n",
    "So, in case of `while` loop, we actually don't know that how many times we need to execute the code.\n",
    "\n",
    "The below `while` loop syntax shows, how we can execute a certain code only when the given condition is satisfied :\n",
    "\n",
    "```matlab\n",
    "while i < 10\n",
    "    <statement 1> ;\n",
    "    <statement 2> ;\n",
    "    ...\n",
    "    ...\n",
    "    <statement n> ;\n",
    "    i = i + 1;\n",
    "end\n",
    "```"
   ]
  },
  {
   "cell_type": "markdown",
   "metadata": {},
   "source": [
    "#### Example of `while` Loop :\n",
    "\n",
    "---\n",
    "1. Find all the terms of a fibonacci series les than 200"
   ]
  },
  {
   "cell_type": "code",
   "execution_count": 18,
   "metadata": {},
   "outputs": [
    {
     "name": "stdout",
     "output_type": "stream",
     "text": [
      "fibonac =\n",
      "\n",
      "     1     1     2     3     5     8    13    21    34    55    89   144\n",
      "\n"
     ]
    }
   ],
   "source": [
    "% Creating an array to store the result \n",
    "\n",
    "fibonac = [1,1];\n",
    "\n",
    "% Executing while-loop\n",
    "\n",
    "while (fibonac(end) < 200)\n",
    "    NewItem = fibonac(end) + fibonac(end-1);\n",
    "    fibonac = [fibonac,NewItem];\n",
    "end\n",
    "\n",
    "% Exeuting the final array :\n",
    "\n",
    "fibonac = fibonac(1:end-1)"
   ]
  },
  {
   "cell_type": "markdown",
   "metadata": {},
   "source": [
    "In the `while` loop solution, we get the array with last element exceeding the condition, i.e., greater than $200$ because, the number executed as a result of `(final loop execution - 1)` times loop,\n",
    "\n",
    "Thus, for not showing that number, we pass the following argument after the loop :\n",
    "\n",
    "```matlab\n",
    "fibonac = fibonac(1 : end-1)\n",
    "```\n",
    "\n",
    "Alternatively, we can also pass the following argument that basically converts the last number to $null$ :\n",
    "\n",
    "```matlab\n",
    "fibonac(end) = {}\n",
    "```"
   ]
  },
  {
   "cell_type": "markdown",
   "metadata": {},
   "source": [
    "***Example - 2:***<br>\n",
    "Calculate the location of the ball thrown upwards at every 0.1 seconds until it reaches the ground when the initial velocity is 20 m/s."
   ]
  },
  {
   "cell_type": "code",
   "execution_count": 19,
   "metadata": {},
   "outputs": [
    {
     "name": "stdout",
     "output_type": "stream",
     "text": [
      "At time = 0, Location = 0\n",
      "At time = 0.1, Location = 1.951\n",
      "At time = 0.2, Location = 3.804\n",
      "At time = 0.3, Location = 5.559\n",
      "At time = 0.4, Location = 7.216\n",
      "At time = 0.5, Location = 8.775\n",
      "At time = 0.6, Location = 10.236\n",
      "At time = 0.7, Location = 11.599\n",
      "At time = 0.8, Location = 12.864\n",
      "At time = 0.9, Location = 14.031\n",
      "At time = 1, Location = 15.1\n",
      "At time = 1.1, Location = 16.071\n",
      "At time = 1.2, Location = 16.944\n",
      "At time = 1.3, Location = 17.719\n",
      "At time = 1.4, Location = 18.396\n",
      "At time = 1.5, Location = 18.975\n",
      "At time = 1.6, Location = 19.456\n",
      "At time = 1.7, Location = 19.839\n",
      "At time = 1.8, Location = 20.124\n",
      "At time = 1.9, Location = 20.311\n",
      "At time = 2, Location = 20.4\n",
      "At time = 2.1, Location = 20.391\n",
      "At time = 2.2, Location = 20.284\n",
      "At time = 2.3, Location = 20.079\n",
      "At time = 2.4, Location = 19.776\n",
      "At time = 2.5, Location = 19.375\n",
      "At time = 2.6, Location = 18.876\n",
      "At time = 2.7, Location = 18.279\n",
      "At time = 2.8, Location = 17.584\n",
      "At time = 2.9, Location = 16.791\n",
      "At time = 3, Location = 15.9\n",
      "At time = 3.1, Location = 14.911\n",
      "At time = 3.2, Location = 13.824\n",
      "At time = 3.3, Location = 12.639\n",
      "At time = 3.4, Location = 11.356\n",
      "At time = 3.5, Location = 9.975\n",
      "At time = 3.6, Location = 8.496\n",
      "At time = 3.7, Location = 6.919\n",
      "At time = 3.8, Location = 5.244\n",
      "At time = 3.9, Location = 3.471\n",
      "At time = 4, Location = 1.6\n"
     ]
    }
   ],
   "source": [
    "% Initiate variables\n",
    "\n",
    "u = 20;\n",
    "g = 9.8;\n",
    "t = 0;\n",
    "y = 0;\n",
    "\n",
    "% while loop\n",
    "\n",
    "while(y>=0)\n",
    "    disp([ \"At time = \",num2str(t), \", Location = \",num2str(y) ])\n",
    "    t = t + 0.1;\n",
    "    y = u * t - (0.5 * g * t^2 );\n",
    "end "
   ]
  },
  {
   "cell_type": "markdown",
   "metadata": {},
   "source": [
    "#### `while` loop with `break`\n",
    "\n",
    "---\n",
    "\n",
    "The `break` statement forcefully breaks the conditional/loop execution.\n",
    "\n",
    "In the below example, the `break` statements forcefully stops further execution of `while` loop when `i` became exactly equals to $6$ :"
   ]
  },
  {
   "cell_type": "code",
   "execution_count": 23,
   "metadata": {},
   "outputs": [
    {
     "name": "stdout",
     "output_type": "stream",
     "text": [
      "arx =\n",
      "\n",
      "   99   99   99   99   99   30   32   34   36   38   40\n",
      "\n"
     ]
    }
   ],
   "source": [
    "% Initialize the vector\n",
    "\n",
    "arx = [20:2:40];\n",
    "\n",
    "% While with break\n",
    "\n",
    "i = 1;\n",
    "while true\n",
    "    arx(i) = 99;\n",
    "    i = i+1;\n",
    "    if i == 6\n",
    "        break;\n",
    "    endif\n",
    "end\n",
    "\n",
    "% Executing the array\n",
    "\n",
    "arx"
   ]
  }
 ],
 "metadata": {
  "kernelspec": {
   "display_name": "Octave",
   "language": "octave",
   "name": "octave"
  },
  "language_info": {
   "file_extension": ".m",
   "help_links": [
    {
     "text": "GNU Octave",
     "url": "https://www.gnu.org/software/octave/support.html"
    },
    {
     "text": "Octave Kernel",
     "url": "https://github.com/Calysto/octave_kernel"
    },
    {
     "text": "MetaKernel Magics",
     "url": "https://metakernel.readthedocs.io/en/latest/source/README.html"
    }
   ],
   "mimetype": "text/x-octave",
   "name": "octave",
   "version": "5.2.0"
  }
 },
 "nbformat": 4,
 "nbformat_minor": 4
}
